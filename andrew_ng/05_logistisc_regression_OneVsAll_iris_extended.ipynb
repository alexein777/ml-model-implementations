{
 "cells": [
  {
   "cell_type": "code",
   "execution_count": 3,
   "metadata": {
    "collapsed": true,
    "pycharm": {
     "is_executing": false
    }
   },
   "outputs": [],
   "source": [
    "import pandas as pd\n",
    "import numpy as np\n",
    "import matplotlib.pyplot as plt"
   ]
  },
  {
   "cell_type": "code",
   "execution_count": 4,
   "outputs": [],
   "source": [
    "def hypothesis(w, x):\n",
    "    return 1 / (1 + np.exp(-(w.transpose().dot(x)[0][0])))"
   ],
   "metadata": {
    "collapsed": false,
    "pycharm": {
     "name": "#%%\n",
     "is_executing": false
    }
   }
  },
  {
   "cell_type": "code",
   "execution_count": 5,
   "outputs": [],
   "source": [
    "def loss_singular(w, x, y):\n",
    "    h_x = hypothesis(w, x)\n",
    "    \n",
    "    return -y*np.log(h_x) - (1 - y)*np.log(1 - h_x)"
   ],
   "metadata": {
    "collapsed": false,
    "pycharm": {
     "name": "#%%\n",
     "is_executing": false
    }
   }
  },
  {
   "cell_type": "code",
   "execution_count": 23,
   "outputs": [],
   "source": [
    "def loss_function(X, y, w):\n",
    "    n = y.shape[0]\n",
    "    y_predict = np.array(list(map(lambda x_i:\n",
    "        hypothesis(w, x_i.reshape(-1, 1)), X\n",
    "    ))).reshape(-1, 1)\n",
    "    diff = y_predict - y\n",
    "    \n",
    "    gradient = np.zeros((w.shape[0]))\n",
    "    gradient = 1/n * (X.transpose().dot(diff))\n",
    "    \n",
    "    loss = 0\n",
    "    for i in range(n):\n",
    "        x_i = X[i, :].reshape(-1, 1)\n",
    "        y_i = y[i][0]\n",
    "        \n",
    "        loss += loss_singular(w, x_i, y_i)\n",
    "    \n",
    "    loss /= n\n",
    "    \n",
    "    return loss, gradient"
   ],
   "metadata": {
    "collapsed": false,
    "pycharm": {
     "name": "#%%\n",
     "is_executing": false
    }
   }
  },
  {
   "cell_type": "code",
   "execution_count": 7,
   "outputs": [],
   "source": [
    "def gradient_descent(X, y, w, alpha=0.01, num_iter=500, eps=10e-3):\n",
    "    loss_history = np.zeros((num_iter, 1))\n",
    "    it_break = num_iter\n",
    "    \n",
    "    for i in range(num_iter):\n",
    "        loss, gradient = loss_function(X, y, w)\n",
    "        w = w - alpha*gradient\n",
    "        \n",
    "        loss_history[i] = loss\n",
    "        \n",
    "        if i > 0 and np.abs(loss - loss_history[i-1]) <= eps:\n",
    "            it_break = i\n",
    "            break\n",
    "            \n",
    "    return w, loss_history, it_break"
   ],
   "metadata": {
    "collapsed": false,
    "pycharm": {
     "name": "#%%\n",
     "is_executing": false
    }
   }
  },
  {
   "cell_type": "code",
   "execution_count": 8,
   "outputs": [],
   "source": [
    "def class_mapper(num_class, n_classes):\n",
    "    mapper = {num_class: 1}\n",
    "    \n",
    "    for i in range(n_classes):\n",
    "        if i != num_class:\n",
    "            mapper[i] = 0\n",
    "    \n",
    "    return mapper"
   ],
   "metadata": {
    "collapsed": false,
    "pycharm": {
     "name": "#%%\n",
     "is_executing": false
    }
   }
  },
  {
   "cell_type": "code",
   "execution_count": 9,
   "outputs": [],
   "source": [
    "def data_class_mapper(y, num_class, n_classes):\n",
    "    mapper = class_mapper(num_class, n_classes)\n",
    "    \n",
    "    return np.array(list(map(lambda y_i:\n",
    "        mapper[y_i[0]], y))).reshape(-1, 1)"
   ],
   "metadata": {
    "collapsed": false,
    "pycharm": {
     "name": "#%%\n",
     "is_executing": false
    }
   }
  },
  {
   "cell_type": "code",
   "execution_count": 10,
   "outputs": [],
   "source": [
    "def train_classifiers(X, y, n_classes, alpha=0.01, num_iter=500, eps=10e-3, plot=False):\n",
    "    models = {}\n",
    "    m = X.shape[1]\n",
    "    \n",
    "    for k in range(n_classes):\n",
    "        y_k = data_class_mapper(y, k, n_classes)\n",
    "        w_init = np.zeros((m, 1))\n",
    "        \n",
    "        w, loss_history, it_break = gradient_descent(X, y_k, w_init, \n",
    "                                                     alpha=alpha, \n",
    "                                                     num_iter=num_iter, \n",
    "                                                     eps=eps)\n",
    "        models[k] = (w, loss_history, it_break)\n",
    "        \n",
    "        if plot:\n",
    "            plt.plot(range(it_break), loss_history[:it_break, 0], color=colors[k])\n",
    "            plt.xlabel('Iterations')\n",
    "            plt.ylabel('Loss')\n",
    "    \n",
    "            plt.legend(['Loss function'])\n",
    "            plt.title(f'Loss function for classifier {k}')\n",
    "            plt.show()\n",
    "            \n",
    "    return models"
   ],
   "metadata": {
    "collapsed": false,
    "pycharm": {
     "name": "#%%\n",
     "is_executing": false
    }
   }
  },
  {
   "cell_type": "code",
   "execution_count": 28,
   "outputs": [],
   "source": [
    "def show_model(w):\n",
    "    print(f'f_w = 1 / (1 + exp(-({round(w[0][0], 3)} + '\n",
    "          f'{round(w[1][0], 3)}*petal.length + {round(w[2][0], 3)}*petal.width))')"
   ],
   "metadata": {
    "collapsed": false,
    "pycharm": {
     "name": "#%%\n",
     "is_executing": false
    }
   }
  },
  {
   "cell_type": "code",
   "execution_count": 29,
   "outputs": [],
   "source": [
    "def show_models(models):\n",
    "    for (k, v) in models.items():\n",
    "        print(f'Model fw_{k} za prepoznavanje klase {mapping_i_to_name[k]}:')\n",
    "        print(f'  * ', end='')\n",
    "        \n",
    "        show_model(v[0])\n",
    "        \n",
    "        print(f'  * Loss = {v[1][-1][0]}')\n",
    "        print(f'  * Last iteration: {v[2]}')"
   ],
   "metadata": {
    "collapsed": false,
    "pycharm": {
     "name": "#%%\n",
     "is_executing": false
    }
   }
  },
  {
   "cell_type": "code",
   "execution_count": 24,
   "outputs": [],
   "source": [
    "def predict(models, x, i_to_name_mapper=None):\n",
    "    info = ''\n",
    "    best_val = float('-inf')\n",
    "    cls_val = None\n",
    "    \n",
    "    for (cls, options) in models.items():\n",
    "        fw_i = options[0]\n",
    "        val = hypothesis(fw_i, x)\n",
    "        \n",
    "        if val > best_val:\n",
    "            best_val = val\n",
    "            cls_val = cls\n",
    "        \n",
    "    if i_to_name_mapper:\n",
    "        info = f'Vrsta cveta: {i_to_name_mapper[cls_val]}'\n",
    "        \n",
    "    return best_val, info\n",
    "    "
   ],
   "metadata": {
    "collapsed": false,
    "pycharm": {
     "name": "#%%\n",
     "is_executing": false
    }
   }
  },
  {
   "cell_type": "code",
   "execution_count": 14,
   "outputs": [
    {
     "data": {
      "text/plain": "   sepal.length  sepal.width  petal.length  petal.width variety\n0           5.1          3.5           1.4          0.2  Setosa\n1           4.9          3.0           1.4          0.2  Setosa\n2           4.7          3.2           1.3          0.2  Setosa\n3           4.6          3.1           1.5          0.2  Setosa\n4           5.0          3.6           1.4          0.2  Setosa",
      "text/html": "<div>\n<style scoped>\n    .dataframe tbody tr th:only-of-type {\n        vertical-align: middle;\n    }\n\n    .dataframe tbody tr th {\n        vertical-align: top;\n    }\n\n    .dataframe thead th {\n        text-align: right;\n    }\n</style>\n<table border=\"1\" class=\"dataframe\">\n  <thead>\n    <tr style=\"text-align: right;\">\n      <th></th>\n      <th>sepal.length</th>\n      <th>sepal.width</th>\n      <th>petal.length</th>\n      <th>petal.width</th>\n      <th>variety</th>\n    </tr>\n  </thead>\n  <tbody>\n    <tr>\n      <th>0</th>\n      <td>5.1</td>\n      <td>3.5</td>\n      <td>1.4</td>\n      <td>0.2</td>\n      <td>Setosa</td>\n    </tr>\n    <tr>\n      <th>1</th>\n      <td>4.9</td>\n      <td>3.0</td>\n      <td>1.4</td>\n      <td>0.2</td>\n      <td>Setosa</td>\n    </tr>\n    <tr>\n      <th>2</th>\n      <td>4.7</td>\n      <td>3.2</td>\n      <td>1.3</td>\n      <td>0.2</td>\n      <td>Setosa</td>\n    </tr>\n    <tr>\n      <th>3</th>\n      <td>4.6</td>\n      <td>3.1</td>\n      <td>1.5</td>\n      <td>0.2</td>\n      <td>Setosa</td>\n    </tr>\n    <tr>\n      <th>4</th>\n      <td>5.0</td>\n      <td>3.6</td>\n      <td>1.4</td>\n      <td>0.2</td>\n      <td>Setosa</td>\n    </tr>\n  </tbody>\n</table>\n</div>"
     },
     "metadata": {},
     "output_type": "execute_result",
     "execution_count": 14
    }
   ],
   "source": [
    "df = pd.read_csv('../datasets/iris_extended.csv')\n",
    "df.head()"
   ],
   "metadata": {
    "collapsed": false,
    "pycharm": {
     "name": "#%%\n",
     "is_executing": false
    }
   }
  },
  {
   "cell_type": "code",
   "execution_count": 15,
   "outputs": [
    {
     "name": "stdout",
     "text": [
      "Broj instanci: 250\n"
     ],
     "output_type": "stream"
    }
   ],
   "source": [
    "n = df.shape[0]\n",
    "print(f'Broj instanci: {n}')"
   ],
   "metadata": {
    "collapsed": false,
    "pycharm": {
     "name": "#%%\n",
     "is_executing": false
    }
   }
  },
  {
   "cell_type": "code",
   "execution_count": 16,
   "outputs": [
    {
     "name": "stdout",
     "text": [
      "Broj klasa: 5\n"
     ],
     "output_type": "stream"
    }
   ],
   "source": [
    "variety = df['variety'].unique()\n",
    "n_classes = len(variety)\n",
    "\n",
    "print(f'Broj klasa: {n_classes}')"
   ],
   "metadata": {
    "collapsed": false,
    "pycharm": {
     "name": "#%%\n",
     "is_executing": false
    }
   }
  },
  {
   "cell_type": "code",
   "execution_count": 17,
   "outputs": [
    {
     "name": "stdout",
     "text": [
      "Podaci:\n[[1.  1.4 0.2]\n [1.  1.4 0.2]\n [1.  1.3 0.2]\n [1.  1.5 0.2]\n [1.  1.4 0.2]\n [1.  1.7 0.4]\n [1.  1.4 0.3]\n [1.  1.5 0.2]\n [1.  1.4 0.2]\n [1.  1.5 0.1]\n [1.  1.5 0.2]\n [1.  1.6 0.2]\n [1.  1.4 0.1]\n [1.  1.1 0.1]\n [1.  1.2 0.2]\n [1.  1.5 0.4]\n [1.  1.3 0.4]\n [1.  1.4 0.3]\n [1.  1.7 0.3]\n [1.  1.5 0.3]\n [1.  1.7 0.2]\n [1.  1.5 0.4]\n [1.  1.  0.2]\n [1.  1.7 0.5]\n [1.  1.9 0.2]\n [1.  1.6 0.2]\n [1.  1.6 0.4]\n [1.  1.5 0.2]\n [1.  1.4 0.2]\n [1.  1.6 0.2]\n [1.  1.6 0.2]\n [1.  1.5 0.4]\n [1.  1.5 0.1]\n [1.  1.4 0.2]\n [1.  1.5 0.2]\n [1.  1.2 0.2]\n [1.  1.3 0.2]\n [1.  1.4 0.1]\n [1.  1.3 0.2]\n [1.  1.5 0.2]\n [1.  1.3 0.3]\n [1.  1.3 0.3]\n [1.  1.3 0.2]\n [1.  1.6 0.6]\n [1.  1.9 0.4]\n [1.  1.4 0.3]\n [1.  1.6 0.2]\n [1.  1.4 0.2]\n [1.  1.5 0.2]\n [1.  1.4 0.2]\n [1.  4.7 1.4]\n [1.  4.5 1.5]\n [1.  4.9 1.5]\n [1.  4.  1.3]\n [1.  4.6 1.5]\n [1.  4.5 1.3]\n [1.  4.7 1.6]\n [1.  3.3 1. ]\n [1.  4.6 1.3]\n [1.  3.9 1.4]\n [1.  3.5 1. ]\n [1.  4.2 1.5]\n [1.  4.  1. ]\n [1.  4.7 1.4]\n [1.  3.6 1.3]\n [1.  4.4 1.4]\n [1.  4.5 1.5]\n [1.  4.1 1. ]\n [1.  4.5 1.5]\n [1.  3.9 1.1]\n [1.  4.8 1.8]\n [1.  4.  1.3]\n [1.  4.9 1.5]\n [1.  4.7 1.2]\n [1.  4.3 1.3]\n [1.  4.4 1.4]\n [1.  4.8 1.4]\n [1.  5.  1.7]\n [1.  4.5 1.5]\n [1.  3.5 1. ]\n [1.  3.8 1.1]\n [1.  3.7 1. ]\n [1.  3.9 1.2]\n [1.  5.1 1.6]\n [1.  4.5 1.5]\n [1.  4.5 1.6]\n [1.  4.7 1.5]\n [1.  4.4 1.3]\n [1.  4.1 1.3]\n [1.  4.  1.3]\n [1.  4.4 1.2]\n [1.  4.6 1.4]\n [1.  4.  1.2]\n [1.  3.3 1. ]\n [1.  4.2 1.3]\n [1.  4.2 1.2]\n [1.  4.2 1.3]\n [1.  4.3 1.3]\n [1.  3.  1.1]\n [1.  4.1 1.3]\n [1.  6.  2.5]\n [1.  5.1 1.9]\n [1.  5.9 2.1]\n [1.  5.6 1.8]\n [1.  5.8 2.2]\n [1.  6.6 2.1]\n [1.  4.5 1.7]\n [1.  6.3 1.8]\n [1.  5.8 1.8]\n [1.  6.1 2.5]\n [1.  5.1 2. ]\n [1.  5.3 1.9]\n [1.  5.5 2.1]\n [1.  5.  2. ]\n [1.  5.1 2.4]\n [1.  5.3 2.3]\n [1.  5.5 1.8]\n [1.  6.7 2.2]\n [1.  6.9 2.3]\n [1.  5.  1.5]\n [1.  5.7 2.3]\n [1.  4.9 2. ]\n [1.  6.7 2. ]\n [1.  4.9 1.8]\n [1.  5.7 2.1]\n [1.  6.  1.8]\n [1.  4.8 1.8]\n [1.  4.9 1.8]\n [1.  5.6 2.1]\n [1.  5.8 1.6]\n [1.  6.1 1.9]\n [1.  6.4 2. ]\n [1.  5.6 2.2]\n [1.  5.1 1.5]\n [1.  5.6 1.4]\n [1.  6.1 2.3]\n [1.  5.6 2.4]\n [1.  5.5 1.8]\n [1.  4.8 1.8]\n [1.  5.4 2.1]\n [1.  5.6 2.4]\n [1.  5.1 2.3]\n [1.  5.1 1.9]\n [1.  5.9 2.3]\n [1.  5.7 2.5]\n [1.  5.2 2.3]\n [1.  5.  1.9]\n [1.  5.2 2. ]\n [1.  5.4 2.3]\n [1.  5.1 1.8]\n [1.  2.6 1.5]\n [1.  2.5 1.9]\n [1.  2.  1.6]\n [1.  2.7 1.6]\n [1.  2.2 2.1]\n [1.  2.9 1.4]\n [1.  3.1 1.9]\n [1.  2.8 1.5]\n [1.  2.4 2.1]\n [1.  3.  1.4]\n [1.  3.  1.6]\n [1.  3.2 1.6]\n [1.  2.4 1.7]\n [1.  3.3 1.2]\n [1.  3.  1.9]\n [1.  2.3 1.4]\n [1.  3.  2.1]\n [1.  2.8 1.4]\n [1.  3.3 1.7]\n [1.  2.2 1.4]\n [1.  2.6 1.8]\n [1.  2.8 1.6]\n [1.  3.  2. ]\n [1.  2.7 1.7]\n [1.  2.6 1.4]\n [1.  2.6 1.3]\n [1.  3.  1.3]\n [1.  2.5 2.2]\n [1.  3.5 1.3]\n [1.  2.7 1.3]\n [1.  3.1 1.8]\n [1.  3.2 1.3]\n [1.  3.1 1.4]\n [1.  3.2 1.7]\n [1.  2.9 1.6]\n [1.  2.4 1.6]\n [1.  3.3 2.1]\n [1.  3.1 2.1]\n [1.  2.3 1.5]\n [1.  2.  1.4]\n [1.  2.3 1.7]\n [1.  2.5 2.1]\n [1.  3.1 1.9]\n [1.  2.4 1.8]\n [1.  2.1 1.8]\n [1.  3.2 1.5]\n [1.  2.3 1.4]\n [1.  2.1 1.5]\n [1.  3.5 1.8]\n [1.  3.4 1.4]\n [1.  6.4 0.7]\n [1.  6.2 0.9]\n [1.  4.7 0.4]\n [1.  4.7 0.8]\n [1.  4.8 0.8]\n [1.  5.1 0.7]\n [1.  5.6 0.7]\n [1.  5.1 1. ]\n [1.  5.2 0.5]\n [1.  5.  0.7]\n [1.  5.6 0.7]\n [1.  6.3 1.2]\n [1.  6.  0.9]\n [1.  6.  1. ]\n [1.  6.3 1.2]\n [1.  4.8 0.9]\n [1.  6.3 0.9]\n [1.  4.8 0.7]\n [1.  5.  0.9]\n [1.  6.4 0.7]\n [1.  5.2 1.1]\n [1.  5.7 0.6]\n [1.  6.1 0.9]\n [1.  4.7 0.7]\n [1.  4.7 1.1]\n [1.  4.9 0.9]\n [1.  5.2 1.1]\n [1.  5.9 0.8]\n [1.  5.5 1. ]\n [1.  4.6 0.6]\n [1.  4.8 0.6]\n [1.  5.1 0.9]\n [1.  4.7 0.8]\n [1.  5.9 0.6]\n [1.  5.9 0.6]\n [1.  5.4 0.7]\n [1.  6.1 1.1]\n [1.  4.7 1.1]\n [1.  5.9 1.1]\n [1.  6.1 0.9]\n [1.  4.9 0.9]\n [1.  5.1 0.6]\n [1.  5.1 0.9]\n [1.  5.7 0.4]\n [1.  5.7 0.7]\n [1.  5.6 1.1]\n [1.  4.7 1.1]\n [1.  5.3 1.2]\n [1.  6.1 1.1]\n [1.  5.3 1. ]]\n"
     ],
     "output_type": "stream"
    }
   ],
   "source": [
    "attr1 = 'petal.length'\n",
    "attr2 = 'petal.width'\n",
    "\n",
    "X = np.ones((n, 3))\n",
    "X[:, 1] = df[attr1]\n",
    "X[:, 2] = df[attr2]\n",
    "\n",
    "print(f'Podaci:')\n",
    "print(X)"
   ],
   "metadata": {
    "collapsed": false,
    "pycharm": {
     "name": "#%%\n",
     "is_executing": false
    }
   }
  },
  {
   "cell_type": "code",
   "execution_count": 18,
   "outputs": [
    {
     "data": {
      "text/plain": "0    Setosa\n1    Setosa\n2    Setosa\n3    Setosa\n4    Setosa\nName: variety, dtype: object"
     },
     "metadata": {},
     "output_type": "execute_result",
     "execution_count": 18
    }
   ],
   "source": [
    "y = df['variety']\n",
    "y.head()"
   ],
   "metadata": {
    "collapsed": false,
    "pycharm": {
     "name": "#%%\n",
     "is_executing": false
    }
   }
  },
  {
   "cell_type": "code",
   "execution_count": 19,
   "outputs": [
    {
     "name": "stdout",
     "text": [
      "Preslikavanje imena klase u broj:\nSetosa -> 0\nVersicolor -> 1\nVirginica -> 2\nLetosa -> 3\nHelenica -> 4\n\nPreslikavanje broja u ime klase:\n0 -> Setosa\n1 -> Versicolor\n2 -> Virginica\n3 -> Letosa\n4 -> Helenica\n\n"
     ],
     "output_type": "stream"
    }
   ],
   "source": [
    "mapping_name_to_i = dict(zip(variety, range(n_classes)))\n",
    "mapping_i_to_name = dict(zip(range(n_classes), variety))\n",
    "\n",
    "print('Preslikavanje imena klase u broj:')\n",
    "for (k, v) in mapping_name_to_i.items():\n",
    "    print(f'{k} -> {v}')\n",
    "print()\n",
    "    \n",
    "print('Preslikavanje broja u ime klase:')\n",
    "for (k, v) in mapping_i_to_name.items():\n",
    "    print(f'{k} -> {v}')\n",
    "print()\n",
    "\n",
    "y = y.replace(mapping_name_to_i)"
   ],
   "metadata": {
    "collapsed": false,
    "pycharm": {
     "name": "#%%\n",
     "is_executing": false
    }
   }
  },
  {
   "cell_type": "code",
   "execution_count": 20,
   "outputs": [
    {
     "name": "stdout",
     "text": [
      "Klase nakon mapiranja:\n[[0]\n [0]\n [0]\n [0]\n [0]\n [0]\n [0]\n [0]\n [0]\n [0]\n [0]\n [0]\n [0]\n [0]\n [0]\n [0]\n [0]\n [0]\n [0]\n [0]\n [0]\n [0]\n [0]\n [0]\n [0]\n [0]\n [0]\n [0]\n [0]\n [0]\n [0]\n [0]\n [0]\n [0]\n [0]\n [0]\n [0]\n [0]\n [0]\n [0]\n [0]\n [0]\n [0]\n [0]\n [0]\n [0]\n [0]\n [0]\n [0]\n [0]\n [1]\n [1]\n [1]\n [1]\n [1]\n [1]\n [1]\n [1]\n [1]\n [1]\n [1]\n [1]\n [1]\n [1]\n [1]\n [1]\n [1]\n [1]\n [1]\n [1]\n [1]\n [1]\n [1]\n [1]\n [1]\n [1]\n [1]\n [1]\n [1]\n [1]\n [1]\n [1]\n [1]\n [1]\n [1]\n [1]\n [1]\n [1]\n [1]\n [1]\n [1]\n [1]\n [1]\n [1]\n [1]\n [1]\n [1]\n [1]\n [1]\n [1]\n [2]\n [2]\n [2]\n [2]\n [2]\n [2]\n [2]\n [2]\n [2]\n [2]\n [2]\n [2]\n [2]\n [2]\n [2]\n [2]\n [2]\n [2]\n [2]\n [2]\n [2]\n [2]\n [2]\n [2]\n [2]\n [2]\n [2]\n [2]\n [2]\n [2]\n [2]\n [2]\n [2]\n [2]\n [2]\n [2]\n [2]\n [2]\n [2]\n [2]\n [2]\n [2]\n [2]\n [2]\n [2]\n [2]\n [2]\n [2]\n [2]\n [2]\n [3]\n [3]\n [3]\n [3]\n [3]\n [3]\n [3]\n [3]\n [3]\n [3]\n [3]\n [3]\n [3]\n [3]\n [3]\n [3]\n [3]\n [3]\n [3]\n [3]\n [3]\n [3]\n [3]\n [3]\n [3]\n [3]\n [3]\n [3]\n [3]\n [3]\n [3]\n [3]\n [3]\n [3]\n [3]\n [3]\n [3]\n [3]\n [3]\n [3]\n [3]\n [3]\n [3]\n [3]\n [3]\n [3]\n [3]\n [3]\n [3]\n [3]\n [4]\n [4]\n [4]\n [4]\n [4]\n [4]\n [4]\n [4]\n [4]\n [4]\n [4]\n [4]\n [4]\n [4]\n [4]\n [4]\n [4]\n [4]\n [4]\n [4]\n [4]\n [4]\n [4]\n [4]\n [4]\n [4]\n [4]\n [4]\n [4]\n [4]\n [4]\n [4]\n [4]\n [4]\n [4]\n [4]\n [4]\n [4]\n [4]\n [4]\n [4]\n [4]\n [4]\n [4]\n [4]\n [4]\n [4]\n [4]\n [4]\n [4]]\n"
     ],
     "output_type": "stream"
    }
   ],
   "source": [
    "y = np.array(y).reshape(-1, 1)\n",
    "\n",
    "print('Klase nakon mapiranja:')\n",
    "print(y)"
   ],
   "metadata": {
    "collapsed": false,
    "pycharm": {
     "name": "#%%\n",
     "is_executing": false
    }
   }
  },
  {
   "cell_type": "code",
   "execution_count": 21,
   "outputs": [
    {
     "data": {
      "text/plain": "<Figure size 432x288 with 1 Axes>",
      "image/png": "[encoded data removed]"
     },
     "metadata": {
      "needs_background": "light"
     },
     "output_type": "display_data"
    }
   ],
   "source": [
    "colors = ['red', 'green', 'blue', 'aqua', 'yellow']\n",
    "legend = []\n",
    "\n",
    "for (c, v) in zip(colors, variety):\n",
    "    subsamples = df[df['variety'] == v]\n",
    "    plt.scatter(subsamples[attr1], subsamples[attr2], color=c)\n",
    "    legend.append(v)\n",
    "\n",
    "plt.xlabel(attr1)\n",
    "plt.ylabel(attr2)\n",
    "plt.title('Vizuelna reprezentacija podataka')\n",
    "\n",
    "plt.legend(legend)\n",
    "plt.show()"
   ],
   "metadata": {
    "collapsed": false,
    "pycharm": {
     "name": "#%%\n",
     "is_executing": false
    }
   }
  },
  {
   "cell_type": "code",
   "execution_count": 58,
   "outputs": [
    {
     "data": {
      "text/plain": "<Figure size 432x288 with 1 Axes>",
      "image/png": "[encoded data removed]"
     },
     "metadata": {
      "needs_background": "light"
     },
     "output_type": "display_data"
    },
    {
     "data": {
      "text/plain": "<Figure size 432x288 with 1 Axes>",
      "image/png": "[encoded data removed]"
     },
     "metadata": {
      "needs_background": "light"
     },
     "output_type": "display_data"
    },
    {
     "data": {
      "text/plain": "<Figure size 432x288 with 1 Axes>",
      "image/png": "[encoded data removed]"
     },
     "metadata": {
      "needs_background": "light"
     },
     "output_type": "display_data"
    },
    {
     "data": {
      "text/plain": "<Figure size 432x288 with 1 Axes>",
      "image/png": "[encoded data removed]"
     },
     "metadata": {
      "needs_background": "light"
     },
     "output_type": "display_data"
    },
    {
     "data": {
      "text/plain": "<Figure size 432x288 with 1 Axes>",
      "image/png": "[encoded data removed]"
     },
     "metadata": {
      "needs_background": "light"
     },
     "output_type": "display_data"
    }
   ],
   "source": [
    "alpha = 0.2\n",
    "num_iter = 1000\n",
    "eps=10e-6\n",
    "\n",
    "models = train_classifiers(X, y, n_classes, alpha, num_iter, eps, plot=True)"
   ],
   "metadata": {
    "collapsed": false,
    "pycharm": {
     "name": "#%%\n",
     "is_executing": false
    }
   }
  },
  {
   "cell_type": "code",
   "execution_count": 59,
   "outputs": [
    {
     "name": "stdout",
     "text": [
      "--- Istrenirani modeli ---\nModel fw_0 za prepoznavanje klase Setosa:\n  * f_w = 1 / (1 + exp(-(5.195 + -1.412*petal.length + -3.264*petal.width))\n  * Loss = 0.030378316220000926\n  * Last iteration: 1000\nModel fw_1 za prepoznavanje klase Versicolor:\n  * f_w = 1 / (1 + exp(-(-1.788 + 0.099*petal.length + 0.041*petal.width))\n  * Loss = 0.0\n  * Last iteration: 427\nModel fw_2 za prepoznavanje klase Virginica:\n  * f_w = 1 / (1 + exp(-(-7.567 + 0.606*petal.length + 2.442*petal.width))\n  * Loss = 0.19099249489961753\n  * Last iteration: 1000\nModel fw_3 za prepoznavanje klase Letosa:\n  * f_w = 1 / (1 + exp(-(0.238 + -2.864*petal.length + 6.006*petal.width))\n  * Loss = 0.10654063846388892\n  * Last iteration: 1000\nModel fw_4 za prepoznavanje klase Helenica:\n  * f_w = 1 / (1 + exp(-(-4.644 + 2.227*petal.length + -5.781*petal.width))\n  * Loss = 0.0770110480348727\n  * Last iteration: 1000\n"
     ],
     "output_type": "stream"
    }
   ],
   "source": [
    "print('--- Istrenirani modeli ---')\n",
    "show_models(models)"
   ],
   "metadata": {
    "collapsed": false,
    "pycharm": {
     "name": "#%%\n",
     "is_executing": false
    }
   }
  },
  {
   "cell_type": "code",
   "execution_count": 60,
   "outputs": [],
   "source": [
    "petal_length = float(input('Unesite petal.length: '))\n",
    "petal_width = float(input('Unesite petal.width: '))"
   ],
   "metadata": {
    "collapsed": false,
    "pycharm": {
     "name": "#%%\n",
     "is_executing": false
    }
   }
  },
  {
   "cell_type": "code",
   "execution_count": 61,
   "outputs": [
    {
     "name": "stdout",
     "text": [
      "Max f_w: 0.23536942900586846\nVrsta cveta: Virginica\n"
     ],
     "output_type": "stream"
    }
   ],
   "source": [
    "x = np.array([1, petal_length, petal_width]).reshape(-1, 1)\n",
    "f_w, info = predict(models, x, mapping_i_to_name)\n",
    "\n",
    "print(f'Max f_w: {f_w}')\n",
    "print(info)"
   ],
   "metadata": {
    "collapsed": false,
    "pycharm": {
     "name": "#%%\n",
     "is_executing": false
    }
   }
  },
  {
   "cell_type": "code",
   "execution_count": null,
   "outputs": [],
   "source": [
    "\n"
   ],
   "metadata": {
    "collapsed": false,
    "pycharm": {
     "name": "#%%\n"
    }
   }
  }
 ],
 "metadata": {
  "language_info": {
   "codemirror_mode": {
    "name": "ipython",
    "version": 2
   },
   "file_extension": ".py",
   "mimetype": "text/x-python",
   "name": "python",
   "nbconvert_exporter": "python",
   "pygments_lexer": "ipython2",
   "version": "2.7.6"
  },
  "kernelspec": {
   "name": "python3",
   "language": "python",
   "display_name": "Python 3"
  },
  "pycharm": {
   "stem_cell": {
    "cell_type": "raw",
    "source": [],
    "metadata": {
     "collapsed": false
    }
   }
  }
 },
 "nbformat": 4,
 "nbformat_minor": 0
}