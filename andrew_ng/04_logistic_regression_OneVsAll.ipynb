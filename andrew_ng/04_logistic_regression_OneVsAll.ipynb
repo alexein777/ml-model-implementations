{
 "cells": [
  {
   "cell_type": "code",
   "execution_count": 2,
   "outputs": [],
   "source": [
    "import pandas as pd\n",
    "import numpy as np\n",
    "import matplotlib.pyplot as plt"
   ],
   "metadata": {
    "collapsed": false,
    "pycharm": {
     "name": "#%%\n",
     "is_executing": false
    }
   }
  },
  {
   "cell_type": "code",
   "execution_count": 3,
   "outputs": [],
   "source": [
    "def hypothesis(w, x):\n",
    "    return 1 / (1 + np.exp(-(w.transpose().dot(x)[0][0])))"
   ],
   "metadata": {
    "collapsed": false,
    "pycharm": {
     "name": "#%%\n",
     "is_executing": false
    }
   }
  },
  {
   "cell_type": "code",
   "execution_count": null,
   "outputs": [],
   "source": [
    "def loss_singular(x, y, w):\n",
    "    h_x = hypothesis(w, x)\n",
    "    \n",
    "    return -y*np.log(h_x) - (1 - y)*np.log(1 - h_x)"
   ],
   "metadata": {
    "collapsed": false,
    "pycharm": {
     "name": "#%%\n",
     "is_executing": true
    }
   }
  },
  {
   "cell_type": "code",
   "execution_count": null,
   "outputs": [],
   "source": [
    "def loss_function(X, y, w):\n",
    "    n = y.shape[0]\n",
    "    y_predict = np.array(list(map(lambda x: \n",
    "                                  hypothesis(w, x.reshape(-1, 1)), X))).reshape(-1, 1)\n",
    "    diff = y_predict - y\n",
    "    \n",
    "    gradient = np.zeros((w.shape[0]))\n",
    "    gradient = 1/n *  (X.transpose().dot(diff))\n",
    "    \n",
    "    loss = 0\n",
    "    for i in range(n):\n",
    "        x_i = X[i, :].reshape(-1, 1)\n",
    "        y_i = y[i][0]\n",
    "        \n",
    "        loss += loss_singular(x_i, y_i, w)  \n",
    "    \n",
    "    loss /= n\n",
    "    \n",
    "    return loss, gradient"
   ],
   "metadata": {
    "collapsed": false,
    "pycharm": {
     "name": "#%%\n",
     "is_executing": true
    }
   }
  },
  {
   "cell_type": "code",
   "execution_count": 6,
   "outputs": [],
   "source": [
    "def gradient_descent(X, y, w, alpha=0.01, num_iter=500, eps=10e-3, plot=False):\n",
    "    loss_history = np.zeros((num_iter, 1))\n",
    "    it_break = num_iter\n",
    "    \n",
    "    for i in range(num_iter):\n",
    "        loss, gradient = loss_function(X, y, w)\n",
    "        w = w - alpha*gradient\n",
    "        \n",
    "        loss_history[i] = loss\n",
    "        # print(f'Iteration {i+1}: Loss = {loss}')\n",
    "        \n",
    "        if i > 0 and np.abs(loss - loss_history[i-1]) <= eps:\n",
    "            it_break = i\n",
    "            break\n",
    "        \n",
    "    return w, loss_history, it_break"
   ],
   "metadata": {
    "collapsed": false,
    "pycharm": {
     "name": "#%%\n",
     "is_executing": false
    }
   }
  },
  {
   "cell_type": "code",
   "execution_count": null,
   "outputs": [],
   "source": [
    "# Ova funkcija priprema recnik koji mapira klasu class_num u 1, a sve ostale u 0\n",
    "# za mapiranje podataka\n",
    "def class_mapper(class_num, n_classes):\n",
    "    mapper = {}\n",
    "    mapper[class_num] = 1\n",
    "    \n",
    "    for i in range(n_classes):\n",
    "        if i != class_num:\n",
    "            mapper[i] = 0\n",
    "            \n",
    "    return mapper"
   ],
   "metadata": {
    "collapsed": false,
    "pycharm": {
     "name": "#%%\n",
     "is_executing": true
    }
   }
  },
  {
   "cell_type": "code",
   "execution_count": 8,
   "outputs": [],
   "source": [
    "# Mapira podatke (ciljne promenljive y) tako da klase class_num -> 1, a sve ostale\n",
    "# klase -> 0 (priprema za treniranje konkretnog modela pomocu gradijentnog\n",
    "# spusta koji prepoznaje klasu class_num).\n",
    "def data_class_mapper(y, class_num, n_classes):\n",
    "    mapper = class_mapper(class_num, n_classes)\n",
    "    \n",
    "    return np.array(list(map(lambda y_i: mapper[y_i[0]], y))).reshape(-1, 1)"
   ],
   "metadata": {
    "collapsed": false,
    "pycharm": {
     "name": "#%%\n",
     "is_executing": false
    }
   }
  },
  {
   "cell_type": "code",
   "execution_count": null,
   "outputs": [],
   "source": [
    "def train_classifiers(X, y, n_classes, alpha=0.01, num_iter=500, eps=10e-3, plot=False):\n",
    "    ws = {}\n",
    "    m = X.shape[1]\n",
    "    \n",
    "    for k in range(n_classes):\n",
    "        # k-ta klasa se tretira kao 1, a sve ostale treba tretirati kao 0\n",
    "        y_k = data_class_mapper(y, k, n_classes)\n",
    "        w_init = np.zeros((m, 1))\n",
    "        \n",
    "        w, loss_history, it_break = gradient_descent(X, y_k, w_init, alpha=alpha, num_iter=num_iter, eps=eps)\n",
    "        ws[k] = (w, loss_history, it_break)\n",
    "        \n",
    "        if plot:\n",
    "            plt.plot(range(it_break), loss_history[:it_break, 0], color='aqua')\n",
    "            plt.xlabel('Iterations')\n",
    "            plt.ylabel('Loss')\n",
    "    \n",
    "            plt.legend(['Loss function'])\n",
    "            plt.title(f'Loss function for classifier {k}')\n",
    "            plt.show()\n",
    "    \n",
    "    return ws"
   ],
   "metadata": {
    "collapsed": false,
    "pycharm": {
     "name": "#%%\n",
     "is_executing": true
    }
   }
  },
  {
   "cell_type": "code",
   "execution_count": 10,
   "outputs": [],
   "source": [
    "def show_model(w):\n",
    "    print(f'f_w = 1 / (1 + exp(-({round(w[0][0], 3)} + {round(w[1][0], 3)}*petal.length'\n",
    "          f'+ {round(w[2][0], 3)}*petal.width))')"
   ],
   "metadata": {
    "collapsed": false,
    "pycharm": {
     "name": "#%%\n",
     "is_executing": false
    }
   }
  },
  {
   "cell_type": "code",
   "execution_count": 11,
   "outputs": [],
   "source": [
    "def show_models(models):\n",
    "    for (k, v) in models.items():\n",
    "        print(f'Model fw_{k} za prepoznavanje klase {mapping_i_to_name[k]}:')\n",
    "        print(f'  * ', end='')\n",
    "        \n",
    "        show_model(v[0])\n",
    "        \n",
    "        print(f'  * Loss: {v[1][-1][0]}')\n",
    "        print(f'  * Last iteration: {v[2]}')\n",
    "        print()"
   ],
   "metadata": {
    "collapsed": false,
    "pycharm": {
     "name": "#%%\n",
     "is_executing": false
    }
   }
  },
  {
   "cell_type": "code",
   "execution_count": 12,
   "outputs": [],
   "source": [
    "# Racuna f_w(x) za svaki model fw_i iz skupa modela i vraca maksimum\n",
    "def predict(models, x, i_to_name_mapper=None):\n",
    "    max_val = float('-inf')\n",
    "    cls_val = None\n",
    "    info = ''\n",
    "    \n",
    "    \n",
    "    for (cls, options) in models.items():\n",
    "        fw_i = options[0]\n",
    "        val = hypothesis(fw_i, x)\n",
    "        \n",
    "        if val > max_val:\n",
    "            max_val = val\n",
    "            cls_val = cls\n",
    "        \n",
    "    if i_to_name_mapper != None:\n",
    "        info = f'Vrsta cveta: {i_to_name_mapper[cls_val]}\\n'\n",
    "        \n",
    "    return max_val, info"
   ],
   "metadata": {
    "collapsed": false,
    "pycharm": {
     "name": "#%%\n",
     "is_executing": false
    }
   }
  },
  {
   "cell_type": "code",
   "execution_count": 13,
   "outputs": [
    {
     "data": {
      "text/plain": "   sepal.length  sepal.width  petal.length  petal.width variety\n0           5.1          3.5           1.4          0.2  Setosa\n1           4.9          3.0           1.4          0.2  Setosa\n2           4.7          3.2           1.3          0.2  Setosa\n3           4.6          3.1           1.5          0.2  Setosa\n4           5.0          3.6           1.4          0.2  Setosa",
      "text/html": "<div>\n<style scoped>\n    .dataframe tbody tr th:only-of-type {\n        vertical-align: middle;\n    }\n\n    .dataframe tbody tr th {\n        vertical-align: top;\n    }\n\n    .dataframe thead th {\n        text-align: right;\n    }\n</style>\n<table border=\"1\" class=\"dataframe\">\n  <thead>\n    <tr style=\"text-align: right;\">\n      <th></th>\n      <th>sepal.length</th>\n      <th>sepal.width</th>\n      <th>petal.length</th>\n      <th>petal.width</th>\n      <th>variety</th>\n    </tr>\n  </thead>\n  <tbody>\n    <tr>\n      <th>0</th>\n      <td>5.1</td>\n      <td>3.5</td>\n      <td>1.4</td>\n      <td>0.2</td>\n      <td>Setosa</td>\n    </tr>\n    <tr>\n      <th>1</th>\n      <td>4.9</td>\n      <td>3.0</td>\n      <td>1.4</td>\n      <td>0.2</td>\n      <td>Setosa</td>\n    </tr>\n    <tr>\n      <th>2</th>\n      <td>4.7</td>\n      <td>3.2</td>\n      <td>1.3</td>\n      <td>0.2</td>\n      <td>Setosa</td>\n    </tr>\n    <tr>\n      <th>3</th>\n      <td>4.6</td>\n      <td>3.1</td>\n      <td>1.5</td>\n      <td>0.2</td>\n      <td>Setosa</td>\n    </tr>\n    <tr>\n      <th>4</th>\n      <td>5.0</td>\n      <td>3.6</td>\n      <td>1.4</td>\n      <td>0.2</td>\n      <td>Setosa</td>\n    </tr>\n  </tbody>\n</table>\n</div>"
     },
     "metadata": {},
     "output_type": "execute_result",
     "execution_count": 13
    }
   ],
   "source": [
    "df = pd.read_csv('../datasets/iris.csv')\n",
    "df.head()"
   ],
   "metadata": {
    "collapsed": false,
    "pycharm": {
     "name": "#%%\n",
     "is_executing": false
    }
   }
  },
  {
   "cell_type": "code",
   "execution_count": null,
   "outputs": [
    {
     "name": "stdout",
     "text": [
      "Broj instanci: 150\n"
     ],
     "output_type": "stream"
    }
   ],
   "source": [
    "n = df.shape[0]\n",
    "print(f'Broj instanci: {n}')"
   ],
   "metadata": {
    "collapsed": false,
    "pycharm": {
     "name": "#%%\n",
     "is_executing": true
    }
   }
  },
  {
   "cell_type": "code",
   "execution_count": 15,
   "outputs": [
    {
     "name": "stdout",
     "text": [
      "[[1.  1.4 0.2]\n [1.  1.4 0.2]\n [1.  1.3 0.2]\n [1.  1.5 0.2]\n [1.  1.4 0.2]\n [1.  1.7 0.4]\n [1.  1.4 0.3]\n [1.  1.5 0.2]\n [1.  1.4 0.2]\n [1.  1.5 0.1]\n [1.  1.5 0.2]\n [1.  1.6 0.2]\n [1.  1.4 0.1]\n [1.  1.1 0.1]\n [1.  1.2 0.2]\n [1.  1.5 0.4]\n [1.  1.3 0.4]\n [1.  1.4 0.3]\n [1.  1.7 0.3]\n [1.  1.5 0.3]\n [1.  1.7 0.2]\n [1.  1.5 0.4]\n [1.  1.  0.2]\n [1.  1.7 0.5]\n [1.  1.9 0.2]\n [1.  1.6 0.2]\n [1.  1.6 0.4]\n [1.  1.5 0.2]\n [1.  1.4 0.2]\n [1.  1.6 0.2]\n [1.  1.6 0.2]\n [1.  1.5 0.4]\n [1.  1.5 0.1]\n [1.  1.4 0.2]\n [1.  1.5 0.2]\n [1.  1.2 0.2]\n [1.  1.3 0.2]\n [1.  1.4 0.1]\n [1.  1.3 0.2]\n [1.  1.5 0.2]\n [1.  1.3 0.3]\n [1.  1.3 0.3]\n [1.  1.3 0.2]\n [1.  1.6 0.6]\n [1.  1.9 0.4]\n [1.  1.4 0.3]\n [1.  1.6 0.2]\n [1.  1.4 0.2]\n [1.  1.5 0.2]\n [1.  1.4 0.2]\n [1.  4.7 1.4]\n [1.  4.5 1.5]\n [1.  4.9 1.5]\n [1.  4.  1.3]\n [1.  4.6 1.5]\n [1.  4.5 1.3]\n [1.  4.7 1.6]\n [1.  3.3 1. ]\n [1.  4.6 1.3]\n [1.  3.9 1.4]\n [1.  3.5 1. ]\n [1.  4.2 1.5]\n [1.  4.  1. ]\n [1.  4.7 1.4]\n [1.  3.6 1.3]\n [1.  4.4 1.4]\n [1.  4.5 1.5]\n [1.  4.1 1. ]\n [1.  4.5 1.5]\n [1.  3.9 1.1]\n [1.  4.8 1.8]\n [1.  4.  1.3]\n [1.  4.9 1.5]\n [1.  4.7 1.2]\n [1.  4.3 1.3]\n [1.  4.4 1.4]\n [1.  4.8 1.4]\n [1.  5.  1.7]\n [1.  4.5 1.5]\n [1.  3.5 1. ]\n [1.  3.8 1.1]\n [1.  3.7 1. ]\n [1.  3.9 1.2]\n [1.  5.1 1.6]\n [1.  4.5 1.5]\n [1.  4.5 1.6]\n [1.  4.7 1.5]\n [1.  4.4 1.3]\n [1.  4.1 1.3]\n [1.  4.  1.3]\n [1.  4.4 1.2]\n [1.  4.6 1.4]\n [1.  4.  1.2]\n [1.  3.3 1. ]\n [1.  4.2 1.3]\n [1.  4.2 1.2]\n [1.  4.2 1.3]\n [1.  4.3 1.3]\n [1.  3.  1.1]\n [1.  4.1 1.3]\n [1.  6.  2.5]\n [1.  5.1 1.9]\n [1.  5.9 2.1]\n [1.  5.6 1.8]\n [1.  5.8 2.2]\n [1.  6.6 2.1]\n [1.  4.5 1.7]\n [1.  6.3 1.8]\n [1.  5.8 1.8]\n [1.  6.1 2.5]\n [1.  5.1 2. ]\n [1.  5.3 1.9]\n [1.  5.5 2.1]\n [1.  5.  2. ]\n [1.  5.1 2.4]\n [1.  5.3 2.3]\n [1.  5.5 1.8]\n [1.  6.7 2.2]\n [1.  6.9 2.3]\n [1.  5.  1.5]\n [1.  5.7 2.3]\n [1.  4.9 2. ]\n [1.  6.7 2. ]\n [1.  4.9 1.8]\n [1.  5.7 2.1]\n [1.  6.  1.8]\n [1.  4.8 1.8]\n [1.  4.9 1.8]\n [1.  5.6 2.1]\n [1.  5.8 1.6]\n [1.  6.1 1.9]\n [1.  6.4 2. ]\n [1.  5.6 2.2]\n [1.  5.1 1.5]\n [1.  5.6 1.4]\n [1.  6.1 2.3]\n [1.  5.6 2.4]\n [1.  5.5 1.8]\n [1.  4.8 1.8]\n [1.  5.4 2.1]\n [1.  5.6 2.4]\n [1.  5.1 2.3]\n [1.  5.1 1.9]\n [1.  5.9 2.3]\n [1.  5.7 2.5]\n [1.  5.2 2.3]\n [1.  5.  1.9]\n [1.  5.2 2. ]\n [1.  5.4 2.3]\n [1.  5.1 1.8]]\n"
     ],
     "output_type": "stream"
    }
   ],
   "source": [
    "attr1 = 'petal.length'\n",
    "attr2 = 'petal.width'\n",
    "m = 2\n",
    "\n",
    "X = np.ones((n, m + 1))\n",
    "X[:, 1] = df[attr1]\n",
    "X[:, 2] = df[attr2]\n",
    "\n",
    "print(X)"
   ],
   "metadata": {
    "collapsed": false,
    "pycharm": {
     "name": "#%%\n",
     "is_executing": false
    }
   }
  },
  {
   "cell_type": "code",
   "execution_count": 16,
   "outputs": [
    {
     "data": {
      "text/plain": "0    Setosa\n1    Setosa\n2    Setosa\n3    Setosa\n4    Setosa\nName: variety, dtype: object"
     },
     "metadata": {},
     "output_type": "execute_result",
     "execution_count": 16
    }
   ],
   "source": [
    "y = df['variety']\n",
    "y.head()"
   ],
   "metadata": {
    "collapsed": false,
    "pycharm": {
     "name": "#%%\n",
     "is_executing": false
    }
   }
  },
  {
   "cell_type": "code",
   "execution_count": 17,
   "outputs": [
    {
     "name": "stdout",
     "text": [
      "Broj klasa: 3\n"
     ],
     "output_type": "stream"
    }
   ],
   "source": [
    "variety = df['variety'].unique()\n",
    "n_classes = len(variety)\n",
    "\n",
    "print(f'Broj klasa: {n_classes}')"
   ],
   "metadata": {
    "collapsed": false,
    "pycharm": {
     "name": "#%%\n",
     "is_executing": false
    }
   }
  },
  {
   "cell_type": "code",
   "execution_count": 18,
   "outputs": [
    {
     "name": "stdout",
     "text": [
      "Preslikavanje imena klase u broj:\nSetosa -> 0\nVersicolor -> 1\nVirginica -> 2\n\nPreslikavanje broja u ime klase:\n0 -> Setosa\n1 -> Versicolor\n2 -> Virginica\n\nKlase nakon mapiranja:\n"
     ],
     "output_type": "stream"
    },
    {
     "data": {
      "text/plain": "0    0\n1    0\n2    0\n3    0\n4    0\nName: variety, dtype: int64"
     },
     "metadata": {},
     "output_type": "execute_result",
     "execution_count": 18
    }
   ],
   "source": [
    "mapping_name_to_i = dict(zip(variety, range(n_classes)))\n",
    "mapping_i_to_name = dict(zip(range(n_classes), variety))\n",
    "\n",
    "print('Preslikavanje imena klase u broj:')\n",
    "for (k, v) in mapping_name_to_i.items():\n",
    "    print(f'{k} -> {v}')\n",
    "print()\n",
    "    \n",
    "print('Preslikavanje broja u ime klase:')\n",
    "for (k, v) in mapping_i_to_name.items():\n",
    "    print(f'{k} -> {v}')\n",
    "print()\n",
    "    \n",
    "y = y.replace(mapping_name_to_i)\n",
    "\n",
    "print('Klase nakon mapiranja:')\n",
    "y.head()"
   ],
   "metadata": {
    "collapsed": false,
    "pycharm": {
     "name": "#%%\n",
     "is_executing": false
    }
   }
  },
  {
   "cell_type": "code",
   "execution_count": 19,
   "outputs": [
    {
     "name": "stdout",
     "text": [
      "[[0]\n [0]\n [0]\n [0]\n [0]\n [0]\n [0]\n [0]\n [0]\n [0]\n [0]\n [0]\n [0]\n [0]\n [0]\n [0]\n [0]\n [0]\n [0]\n [0]\n [0]\n [0]\n [0]\n [0]\n [0]\n [0]\n [0]\n [0]\n [0]\n [0]\n [0]\n [0]\n [0]\n [0]\n [0]\n [0]\n [0]\n [0]\n [0]\n [0]\n [0]\n [0]\n [0]\n [0]\n [0]\n [0]\n [0]\n [0]\n [0]\n [0]\n [1]\n [1]\n [1]\n [1]\n [1]\n [1]\n [1]\n [1]\n [1]\n [1]\n [1]\n [1]\n [1]\n [1]\n [1]\n [1]\n [1]\n [1]\n [1]\n [1]\n [1]\n [1]\n [1]\n [1]\n [1]\n [1]\n [1]\n [1]\n [1]\n [1]\n [1]\n [1]\n [1]\n [1]\n [1]\n [1]\n [1]\n [1]\n [1]\n [1]\n [1]\n [1]\n [1]\n [1]\n [1]\n [1]\n [1]\n [1]\n [1]\n [1]\n [2]\n [2]\n [2]\n [2]\n [2]\n [2]\n [2]\n [2]\n [2]\n [2]\n [2]\n [2]\n [2]\n [2]\n [2]\n [2]\n [2]\n [2]\n [2]\n [2]\n [2]\n [2]\n [2]\n [2]\n [2]\n [2]\n [2]\n [2]\n [2]\n [2]\n [2]\n [2]\n [2]\n [2]\n [2]\n [2]\n [2]\n [2]\n [2]\n [2]\n [2]\n [2]\n [2]\n [2]\n [2]\n [2]\n [2]\n [2]\n [2]\n [2]]\n"
     ],
     "output_type": "stream"
    }
   ],
   "source": [
    "y = np.array(y).reshape(-1, 1)\n",
    "print(y)"
   ],
   "metadata": {
    "collapsed": false,
    "pycharm": {
     "name": "#%%\n",
     "is_executing": false
    }
   }
  },
  {
   "cell_type": "code",
   "execution_count": 20,
   "outputs": [
    {
     "data": {
      "text/plain": "<Figure size 432x288 with 1 Axes>",
      "image/png": "[encoded data removed]"
     },
     "metadata": {
      "needs_background": "light"
     },
     "output_type": "display_data"
    }
   ],
   "source": [
    "colors = ['red', 'green', 'blue']\n",
    "\n",
    "for (v, c) in zip(variety, colors):\n",
    "    subsamples = df.loc[df['variety'] == v]\n",
    "    plt.scatter(subsamples[attr1], subsamples[attr2], color=c)\n",
    "    \n",
    "plt.title(f'Vizuelna reprezentacija podataka pomocu atributa {attr1} and {attr2}')\n",
    "plt.legend(list(variety))\n",
    "\n",
    "plt.xlabel(attr1)\n",
    "plt.ylabel(attr2)\n",
    "\n",
    "plt.show()"
   ],
   "metadata": {
    "collapsed": false,
    "pycharm": {
     "name": "#%%\n",
     "is_executing": false
    }
   }
  },
  {
   "cell_type": "code",
   "execution_count": 21,
   "outputs": [
    {
     "name": "stdout",
     "text": [
      "w_init:\n[[0.]\n [0.]\n [0.]]\n"
     ],
     "output_type": "stream"
    }
   ],
   "source": [
    "w_init = np.zeros((m + 1, 1))\n",
    "print('w_init:')\n",
    "print(w_init)"
   ],
   "metadata": {
    "collapsed": false,
    "pycharm": {
     "name": "#%%\n",
     "is_executing": false
    }
   }
  },
  {
   "cell_type": "code",
   "execution_count": 22,
   "outputs": [
    {
     "data": {
      "text/plain": "<Figure size 432x288 with 1 Axes>",
      "image/png": "[encoded data removed]"
     },
     "metadata": {
      "needs_background": "light"
     },
     "output_type": "display_data"
    },
    {
     "data": {
      "text/plain": "<Figure size 432x288 with 1 Axes>",
      "image/png": "[encoded data removed]"
     },
     "metadata": {
      "needs_background": "light"
     },
     "output_type": "display_data"
    },
    {
     "data": {
      "text/plain": "<Figure size 432x288 with 1 Axes>",
      "image/png": "[encoded data removed]"
     },
     "metadata": {
      "needs_background": "light"
     },
     "output_type": "display_data"
    }
   ],
   "source": [
    "alpha = 0.2\n",
    "num_iter = 1000\n",
    "eps = 10e-6\n",
    "\n",
    "models = train_classifiers(X, y, n_classes, alpha, num_iter, eps, plot=True)"
   ],
   "metadata": {
    "collapsed": false,
    "pycharm": {
     "name": "#%%\n",
     "is_executing": false
    }
   }
  },
  {
   "cell_type": "code",
   "execution_count": 23,
   "outputs": [
    {
     "name": "stdout",
     "text": [
      "--- Istrenirani modeli ---\nModel fw_0 za prepoznavanje klase Setosa:\n  * f_w = 1 / (1 + exp(-(6.02 + -1.646*petal.length+ -2.607*petal.width))\n  * Loss: 0.02670026197352516\n  * Last iteration: 1000\n\nModel fw_1 za prepoznavanje klase Versicolor:\n  * f_w = 1 / (1 + exp(-(-2.334 + 1.082*petal.length+ -2.05*petal.width))\n  * Loss: 0.5797685109204943\n  * Last iteration: 1000\n\nModel fw_2 za prepoznavanje klase Virginica:\n  * f_w = 1 / (1 + exp(-(-6.838 + 0.112*petal.length+ 3.869*petal.width))\n  * Loss: 0.19245526779485234\n  * Last iteration: 1000\n\n"
     ],
     "output_type": "stream"
    }
   ],
   "source": [
    "print('--- Istrenirani modeli ---')\n",
    "show_models(models)"
   ],
   "metadata": {
    "collapsed": false,
    "pycharm": {
     "name": "#%%\n",
     "is_executing": false
    }
   }
  },
  {
   "cell_type": "code",
   "execution_count": 24,
   "outputs": [],
   "source": [
    "# Provera uspesnosti istrenirnaog modela\n",
    "petal_length = float(input('Unesite petal.length: '))\n",
    "petal_width = float(input('Unesite petal.width: '))"
   ],
   "metadata": {
    "collapsed": false,
    "pycharm": {
     "name": "#%%\n",
     "is_executing": false
    }
   }
  },
  {
   "cell_type": "code",
   "execution_count": 25,
   "outputs": [
    {
     "name": "stdout",
     "text": [
      "Max f_w: 0.2427226883091698\nVrsta cveta: Versicolor\n\n"
     ],
     "output_type": "stream"
    }
   ],
   "source": [
    "x = np.array([1, petal_length, petal_width]).reshape(-1, 1)\n",
    "f_w, info = predict(models, x, mapping_i_to_name)\n",
    "\n",
    "print(f'Max f_w: {f_w}')\n",
    "print(info)"
   ],
   "metadata": {
    "collapsed": false,
    "pycharm": {
     "name": "#%%\n",
     "is_executing": false
    }
   }
  },
  {
   "cell_type": "code",
   "execution_count": 258,
   "outputs": [],
   "source": [],
   "metadata": {
    "collapsed": false,
    "pycharm": {
     "name": "#%%",
     "is_executing": false
    }
   }
  }
 ],
 "metadata": {
  "language_info": {
   "codemirror_mode": {
    "name": "ipython",
    "version": 2
   },
   "file_extension": ".py",
   "mimetype": "text/x-python",
   "name": "python",
   "nbconvert_exporter": "python",
   "pygments_lexer": "ipython2",
   "version": "2.7.6"
  },
  "kernelspec": {
   "name": "python3",
   "language": "python",
   "display_name": "Python 3"
  },
  "pycharm": {
   "stem_cell": {
    "cell_type": "raw",
    "source": [],
    "metadata": {
     "collapsed": false
    }
   }
  }
 },
 "nbformat": 4,
 "nbformat_minor": 0
}