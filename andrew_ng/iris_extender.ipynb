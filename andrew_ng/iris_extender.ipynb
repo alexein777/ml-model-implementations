{
 "cells": [
  {
   "cell_type": "code",
   "execution_count": 88,
   "metadata": {
    "collapsed": true,
    "pycharm": {
     "is_executing": false
    }
   },
   "outputs": [],
   "source": [
    "import pandas as pd\n",
    "import numpy as np\n",
    "import random"
   ]
  },
  {
   "cell_type": "code",
   "execution_count": 89,
   "outputs": [],
   "source": [
    "def randf(a, b, ndigits=-1):\n",
    "    if ndigits > 0:\n",
    "        val = random.random() * (b - a) + a\n",
    "        return round(val, ndigits)\n",
    "    else:\n",
    "        return random.random() * (b - a) + a"
   ],
   "metadata": {
    "collapsed": false,
    "pycharm": {
     "name": "#%%\n",
     "is_executing": false
    }
   }
  },
  {
   "cell_type": "code",
   "execution_count": 104,
   "outputs": [
    {
     "data": {
      "text/plain": "   sepal.length  sepal.width  petal.length  petal.width variety\n0           5.1          3.5           1.4          0.2  Setosa\n1           4.9          3.0           1.4          0.2  Setosa\n2           4.7          3.2           1.3          0.2  Setosa\n3           4.6          3.1           1.5          0.2  Setosa\n4           5.0          3.6           1.4          0.2  Setosa",
      "text/html": "<div>\n<style scoped>\n    .dataframe tbody tr th:only-of-type {\n        vertical-align: middle;\n    }\n\n    .dataframe tbody tr th {\n        vertical-align: top;\n    }\n\n    .dataframe thead th {\n        text-align: right;\n    }\n</style>\n<table border=\"1\" class=\"dataframe\">\n  <thead>\n    <tr style=\"text-align: right;\">\n      <th></th>\n      <th>sepal.length</th>\n      <th>sepal.width</th>\n      <th>petal.length</th>\n      <th>petal.width</th>\n      <th>variety</th>\n    </tr>\n  </thead>\n  <tbody>\n    <tr>\n      <th>0</th>\n      <td>5.1</td>\n      <td>3.5</td>\n      <td>1.4</td>\n      <td>0.2</td>\n      <td>Setosa</td>\n    </tr>\n    <tr>\n      <th>1</th>\n      <td>4.9</td>\n      <td>3.0</td>\n      <td>1.4</td>\n      <td>0.2</td>\n      <td>Setosa</td>\n    </tr>\n    <tr>\n      <th>2</th>\n      <td>4.7</td>\n      <td>3.2</td>\n      <td>1.3</td>\n      <td>0.2</td>\n      <td>Setosa</td>\n    </tr>\n    <tr>\n      <th>3</th>\n      <td>4.6</td>\n      <td>3.1</td>\n      <td>1.5</td>\n      <td>0.2</td>\n      <td>Setosa</td>\n    </tr>\n    <tr>\n      <th>4</th>\n      <td>5.0</td>\n      <td>3.6</td>\n      <td>1.4</td>\n      <td>0.2</td>\n      <td>Setosa</td>\n    </tr>\n  </tbody>\n</table>\n</div>"
     },
     "metadata": {},
     "output_type": "execute_result",
     "execution_count": 104
    }
   ],
   "source": [
    "df = pd.read_csv('../datasets/iris.csv')\n",
    "df.head()"
   ],
   "metadata": {
    "collapsed": false,
    "pycharm": {
     "name": "#%%\n",
     "is_executing": false
    }
   }
  },
  {
   "cell_type": "code",
   "execution_count": 105,
   "outputs": [
    {
     "name": "stdout",
     "text": [
      "     sepal.length  sepal.width  petal.length  petal.width   variety\n0             5.1          3.5           1.4          0.2    Setosa\n1             4.9          3.0           1.4          0.2    Setosa\n2             4.7          3.2           1.3          0.2    Setosa\n3             4.6          3.1           1.5          0.2    Setosa\n4             5.0          3.6           1.4          0.2    Setosa\n5             5.4          3.9           1.7          0.4    Setosa\n6             4.6          3.4           1.4          0.3    Setosa\n7             5.0          3.4           1.5          0.2    Setosa\n8             4.4          2.9           1.4          0.2    Setosa\n9             4.9          3.1           1.5          0.1    Setosa\n10            5.4          3.7           1.5          0.2    Setosa\n11            4.8          3.4           1.6          0.2    Setosa\n12            4.8          3.0           1.4          0.1    Setosa\n13            4.3          3.0           1.1          0.1    Setosa\n14            5.8          4.0           1.2          0.2    Setosa\n15            5.7          4.4           1.5          0.4    Setosa\n16            5.4          3.9           1.3          0.4    Setosa\n17            5.1          3.5           1.4          0.3    Setosa\n18            5.7          3.8           1.7          0.3    Setosa\n19            5.1          3.8           1.5          0.3    Setosa\n20            5.4          3.4           1.7          0.2    Setosa\n21            5.1          3.7           1.5          0.4    Setosa\n22            4.6          3.6           1.0          0.2    Setosa\n23            5.1          3.3           1.7          0.5    Setosa\n24            4.8          3.4           1.9          0.2    Setosa\n25            5.0          3.0           1.6          0.2    Setosa\n26            5.0          3.4           1.6          0.4    Setosa\n27            5.2          3.5           1.5          0.2    Setosa\n28            5.2          3.4           1.4          0.2    Setosa\n29            4.7          3.2           1.6          0.2    Setosa\n..            ...          ...           ...          ...       ...\n220           4.2          3.5           5.2          1.1  Helenica\n221           4.8          3.5           5.7          0.6  Helenica\n222           4.0          3.4           6.1          0.9  Helenica\n223           4.1          3.6           4.7          0.7  Helenica\n224           2.7          3.7           4.7          1.1  Helenica\n225           4.2          3.4           4.9          0.9  Helenica\n226           3.5          3.9           5.2          1.1  Helenica\n227           5.1          3.1           5.9          0.8  Helenica\n228           3.6          3.1           5.5          1.0  Helenica\n229           5.1          3.2           4.6          0.6  Helenica\n230           2.8          3.9           4.8          0.6  Helenica\n231           3.7          3.7           5.1          0.9  Helenica\n232           2.8          3.6           4.7          0.8  Helenica\n233           4.0          3.9           5.9          0.6  Helenica\n234           3.2          3.3           5.9          0.6  Helenica\n235           2.6          3.2           5.4          0.7  Helenica\n236           3.8          3.6           6.1          1.1  Helenica\n237           3.7          3.9           4.7          1.1  Helenica\n238           3.0          3.3           5.9          1.1  Helenica\n239           4.0          3.8           6.1          0.9  Helenica\n240           4.2          3.2           4.9          0.9  Helenica\n241           4.6          3.9           5.1          0.6  Helenica\n242           5.0          3.6           5.1          0.9  Helenica\n243           2.8          3.6           5.7          0.4  Helenica\n244           2.9          3.8           5.7          0.7  Helenica\n245           5.0          4.0           5.6          1.1  Helenica\n246           3.6          3.3           4.7          1.1  Helenica\n247           4.2          3.9           5.3          1.2  Helenica\n248           4.0          3.2           6.1          1.1  Helenica\n249           2.8          3.4           5.3          1.0  Helenica\n\n[250 rows x 5 columns]\n"
     ],
     "output_type": "stream"
    }
   ],
   "source": [
    "# Letosa\n",
    "for i in range(50):\n",
    "    sepal_length = randf(2.5, 5.5, ndigits=1)\n",
    "    sepal_width = randf(3, 4, ndigits=1)\n",
    "    petal_length = randf(2, 3.5, ndigits=1)\n",
    "    petal_width = randf(1.2, 2.2, ndigits=1)\n",
    "    \n",
    "    mapper = {'sepal.length': sepal_length, 'sepal.width': sepal_width,\n",
    "              'petal.length': petal_length, 'petal.width': petal_width,\n",
    "              'variety': 'Letosa'}\n",
    "        \n",
    "    df = df.append(mapper, ignore_index=True)\n",
    "\n",
    "# Helenica\n",
    "for i in range(50):\n",
    "    sepal_length = randf(2.5, 5.5, ndigits=1)\n",
    "    sepal_width = randf(3, 4, ndigits=1)\n",
    "    petal_length = randf(4.6, 6.4, ndigits=1)\n",
    "    petal_width = randf(0.4, 1.2, ndigits=1)\n",
    "    \n",
    "    mapper = {'sepal.length': sepal_length, 'sepal.width': sepal_width,\n",
    "              'petal.length': petal_length, 'petal.width': petal_width,\n",
    "              'variety': 'Helenica'}\n",
    "        \n",
    "    df = df.append(mapper, ignore_index=True)\n",
    "\n",
    "print(df)"
   ],
   "metadata": {
    "collapsed": false,
    "pycharm": {
     "name": "#%%\n",
     "is_executing": false
    }
   }
  },
  {
   "cell_type": "code",
   "execution_count": 106,
   "outputs": [
    {
     "name": "stdout",
     "text": [
      "     sepal.length  sepal.width  petal.length  petal.width   variety\n0             5.1          3.5           1.4          0.2    Setosa\n1             4.9          3.0           1.4          0.2    Setosa\n2             4.7          3.2           1.3          0.2    Setosa\n3             4.6          3.1           1.5          0.2    Setosa\n4             5.0          3.6           1.4          0.2    Setosa\n5             5.4          3.9           1.7          0.4    Setosa\n6             4.6          3.4           1.4          0.3    Setosa\n7             5.0          3.4           1.5          0.2    Setosa\n8             4.4          2.9           1.4          0.2    Setosa\n9             4.9          3.1           1.5          0.1    Setosa\n10            5.4          3.7           1.5          0.2    Setosa\n11            4.8          3.4           1.6          0.2    Setosa\n12            4.8          3.0           1.4          0.1    Setosa\n13            4.3          3.0           1.1          0.1    Setosa\n14            5.8          4.0           1.2          0.2    Setosa\n15            5.7          4.4           1.5          0.4    Setosa\n16            5.4          3.9           1.3          0.4    Setosa\n17            5.1          3.5           1.4          0.3    Setosa\n18            5.7          3.8           1.7          0.3    Setosa\n19            5.1          3.8           1.5          0.3    Setosa\n20            5.4          3.4           1.7          0.2    Setosa\n21            5.1          3.7           1.5          0.4    Setosa\n22            4.6          3.6           1.0          0.2    Setosa\n23            5.1          3.3           1.7          0.5    Setosa\n24            4.8          3.4           1.9          0.2    Setosa\n25            5.0          3.0           1.6          0.2    Setosa\n26            5.0          3.4           1.6          0.4    Setosa\n27            5.2          3.5           1.5          0.2    Setosa\n28            5.2          3.4           1.4          0.2    Setosa\n29            4.7          3.2           1.6          0.2    Setosa\n..            ...          ...           ...          ...       ...\n220           4.2          3.5           5.2          1.1  Helenica\n221           4.8          3.5           5.7          0.6  Helenica\n222           4.0          3.4           6.1          0.9  Helenica\n223           4.1          3.6           4.7          0.7  Helenica\n224           2.7          3.7           4.7          1.1  Helenica\n225           4.2          3.4           4.9          0.9  Helenica\n226           3.5          3.9           5.2          1.1  Helenica\n227           5.1          3.1           5.9          0.8  Helenica\n228           3.6          3.1           5.5          1.0  Helenica\n229           5.1          3.2           4.6          0.6  Helenica\n230           2.8          3.9           4.8          0.6  Helenica\n231           3.7          3.7           5.1          0.9  Helenica\n232           2.8          3.6           4.7          0.8  Helenica\n233           4.0          3.9           5.9          0.6  Helenica\n234           3.2          3.3           5.9          0.6  Helenica\n235           2.6          3.2           5.4          0.7  Helenica\n236           3.8          3.6           6.1          1.1  Helenica\n237           3.7          3.9           4.7          1.1  Helenica\n238           3.0          3.3           5.9          1.1  Helenica\n239           4.0          3.8           6.1          0.9  Helenica\n240           4.2          3.2           4.9          0.9  Helenica\n241           4.6          3.9           5.1          0.6  Helenica\n242           5.0          3.6           5.1          0.9  Helenica\n243           2.8          3.6           5.7          0.4  Helenica\n244           2.9          3.8           5.7          0.7  Helenica\n245           5.0          4.0           5.6          1.1  Helenica\n246           3.6          3.3           4.7          1.1  Helenica\n247           4.2          3.9           5.3          1.2  Helenica\n248           4.0          3.2           6.1          1.1  Helenica\n249           2.8          3.4           5.3          1.0  Helenica\n\n[250 rows x 5 columns]\n"
     ],
     "output_type": "stream"
    }
   ],
   "source": [
    "new_df = pd.DataFrame(df, columns=['sepal.length', 'sepal.width', \n",
    "                                   'petal.length', 'petal.width', 'variety'])\n",
    "print(new_df)"
   ],
   "metadata": {
    "collapsed": false,
    "pycharm": {
     "name": "#%%\n",
     "is_executing": false
    }
   }
  },
  {
   "cell_type": "code",
   "execution_count": 107,
   "outputs": [],
   "source": [
    "new_df.to_csv('iris_extended.csv', index=False)"
   ],
   "metadata": {
    "collapsed": false,
    "pycharm": {
     "name": "#%%\n",
     "is_executing": false
    }
   }
  },
  {
   "cell_type": "code",
   "execution_count": null,
   "outputs": [],
   "source": [
    "\n"
   ],
   "metadata": {
    "collapsed": false,
    "pycharm": {
     "name": "#%%\n"
    }
   }
  }
 ],
 "metadata": {
  "language_info": {
   "codemirror_mode": {
    "name": "ipython",
    "version": 2
   },
   "file_extension": ".py",
   "mimetype": "text/x-python",
   "name": "python",
   "nbconvert_exporter": "python",
   "pygments_lexer": "ipython2",
   "version": "2.7.6"
  },
  "kernelspec": {
   "name": "python3",
   "language": "python",
   "display_name": "Python 3"
  },
  "pycharm": {
   "stem_cell": {
    "cell_type": "raw",
    "source": [],
    "metadata": {
     "collapsed": false
    }
   }
  }
 },
 "nbformat": 4,
 "nbformat_minor": 0
}