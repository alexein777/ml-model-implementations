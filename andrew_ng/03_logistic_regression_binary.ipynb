{
 "cells": [
  {
   "cell_type": "code",
   "execution_count": 1,
   "metadata": {
    "collapsed": true,
    "pycharm": {
     "is_executing": false
    }
   },
   "outputs": [],
   "source": [
    "import pandas as pd\n",
    "import numpy as np\n",
    "import matplotlib.pyplot as plt"
   ]
  },
  {
   "cell_type": "code",
   "execution_count": 2,
   "outputs": [],
   "source": [
    "def hypothesis(w, x):\n",
    "    return 1 / (1 + np.exp(-(w.transpose().dot(x)[0][0])))"
   ],
   "metadata": {
    "collapsed": false,
    "pycharm": {
     "name": "#%%\n",
     "is_executing": false
    }
   }
  },
  {
   "cell_type": "code",
   "execution_count": 3,
   "outputs": [],
   "source": [
    "# Funkcija gubitka u slucaju reprezentacije klasa brojevima 1 i -1\n",
    "# Napomena: ova funkcija NIJE identicna Endrjuevoj funkciji koja racuna gubitak\n",
    "# iskljucivo za y=0, y=1 !!!\n",
    "def loss_singular_janicic(x, y, w):\n",
    "    return np.log(1 + np.exp(-y * w.transpose().dot(x)[0][0]))"
   ],
   "metadata": {
    "collapsed": false,
    "pycharm": {
     "name": "#%%\n",
     "is_executing": false
    }
   }
  },
  {
   "cell_type": "code",
   "execution_count": 28,
   "outputs": [],
   "source": [
    "def loss_singular(x, y, w):\n",
    "    h_x = hypothesis(w, x)\n",
    "    \n",
    "    return -y*np.log(h_x) - (1 - y)*np.log(1 - h_x)"
   ],
   "metadata": {
    "collapsed": false,
    "pycharm": {
     "name": "#%%\n",
     "is_executing": false
    }
   }
  },
  {
   "cell_type": "code",
   "execution_count": 5,
   "outputs": [],
   "source": [
    "def loss_function(X, y, w):\n",
    "    n = y.shape[0]\n",
    "    y_predict = np.array(list(map(lambda x: \n",
    "                                  hypothesis(w, x.reshape(-1, 1)), X))).reshape(-1, 1)\n",
    "    diff = y_predict - y\n",
    "    \n",
    "    gradient = np.zeros((w.shape[0]))\n",
    "    gradient = 1/n *  (X.transpose().dot(diff))\n",
    "    \n",
    "    loss = 0\n",
    "    for i in range(n):\n",
    "        x_i = X[i, :].reshape(-1, 1)\n",
    "        y_i = y[i][0]\n",
    "        \n",
    "        loss += loss_singular(x_i, y_i, w)  \n",
    "    \n",
    "    loss /= n\n",
    "    \n",
    "    return loss, gradient"
   ],
   "metadata": {
    "collapsed": false,
    "pycharm": {
     "name": "#%%\n",
     "is_executing": false
    }
   }
  },
  {
   "cell_type": "code",
   "execution_count": 6,
   "outputs": [],
   "source": [
    "def gradient_descent(X, y, w, alpha=0.01, num_iter=500, eps=10e-3):\n",
    "    loss_history = np.zeros((num_iter, 1))\n",
    "    it_break = num_iter\n",
    "    \n",
    "    for i in range(num_iter):\n",
    "        loss, gradient = loss_function(X, y, w)\n",
    "        w = w - alpha*gradient\n",
    "        \n",
    "        loss_history[i] = loss\n",
    "        # print(f'Iteration {i+1}: Loss = {loss}')\n",
    "        \n",
    "        if i > 0 and np.abs(loss - loss_history[i-1]) <= eps:\n",
    "            it_break = i\n",
    "            break\n",
    "    \n",
    "    return w, loss_history, it_break"
   ],
   "metadata": {
    "collapsed": false,
    "pycharm": {
     "name": "#%%\n",
     "is_executing": false
    }
   }
  },
  {
   "cell_type": "code",
   "execution_count": 7,
   "outputs": [],
   "source": [
    "def show_model(w):\n",
    "    print(f'w = {w[0][0]} + {w[1][0]}*x1 + {w[2][0]}*x2')\n",
    "    print(f'f_w = 1 / (1 + exp(-({round(w[0][0], 3)} + {round(w[1][0], 3)}*petal.length'\n",
    "          f'+ {round(w[2][0], 3)}*petal.width))')"
   ],
   "metadata": {
    "collapsed": false,
    "pycharm": {
     "name": "#%%\n",
     "is_executing": false
    }
   }
  },
  {
   "cell_type": "code",
   "execution_count": 8,
   "outputs": [
    {
     "data": {
      "text/plain": "   sepal.length  sepal.width  petal.length  petal.width variety\n0           5.1          3.5           1.4          0.2  Setosa\n1           4.9          3.0           1.4          0.2  Setosa\n2           4.7          3.2           1.3          0.2  Setosa\n3           4.6          3.1           1.5          0.2  Setosa\n4           5.0          3.6           1.4          0.2  Setosa",
      "text/html": "<div>\n<style scoped>\n    .dataframe tbody tr th:only-of-type {\n        vertical-align: middle;\n    }\n\n    .dataframe tbody tr th {\n        vertical-align: top;\n    }\n\n    .dataframe thead th {\n        text-align: right;\n    }\n</style>\n<table border=\"1\" class=\"dataframe\">\n  <thead>\n    <tr style=\"text-align: right;\">\n      <th></th>\n      <th>sepal.length</th>\n      <th>sepal.width</th>\n      <th>petal.length</th>\n      <th>petal.width</th>\n      <th>variety</th>\n    </tr>\n  </thead>\n  <tbody>\n    <tr>\n      <th>0</th>\n      <td>5.1</td>\n      <td>3.5</td>\n      <td>1.4</td>\n      <td>0.2</td>\n      <td>Setosa</td>\n    </tr>\n    <tr>\n      <th>1</th>\n      <td>4.9</td>\n      <td>3.0</td>\n      <td>1.4</td>\n      <td>0.2</td>\n      <td>Setosa</td>\n    </tr>\n    <tr>\n      <th>2</th>\n      <td>4.7</td>\n      <td>3.2</td>\n      <td>1.3</td>\n      <td>0.2</td>\n      <td>Setosa</td>\n    </tr>\n    <tr>\n      <th>3</th>\n      <td>4.6</td>\n      <td>3.1</td>\n      <td>1.5</td>\n      <td>0.2</td>\n      <td>Setosa</td>\n    </tr>\n    <tr>\n      <th>4</th>\n      <td>5.0</td>\n      <td>3.6</td>\n      <td>1.4</td>\n      <td>0.2</td>\n      <td>Setosa</td>\n    </tr>\n  </tbody>\n</table>\n</div>"
     },
     "metadata": {},
     "output_type": "execute_result",
     "execution_count": 8
    }
   ],
   "source": [
    "df = pd.read_csv('../datasets/iris.csv')\n",
    "df.head()"
   ],
   "metadata": {
    "collapsed": false,
    "pycharm": {
     "name": "#%%\n",
     "is_executing": false
    }
   }
  },
  {
   "cell_type": "code",
   "execution_count": 9,
   "outputs": [
    {
     "data": {
      "text/plain": "    sepal.length  sepal.width  petal.length  petal.width     variety\n50           7.0          3.2           4.7          1.4  Versicolor\n51           6.4          3.2           4.5          1.5  Versicolor\n52           6.9          3.1           4.9          1.5  Versicolor\n53           5.5          2.3           4.0          1.3  Versicolor\n54           6.5          2.8           4.6          1.5  Versicolor",
      "text/html": "<div>\n<style scoped>\n    .dataframe tbody tr th:only-of-type {\n        vertical-align: middle;\n    }\n\n    .dataframe tbody tr th {\n        vertical-align: top;\n    }\n\n    .dataframe thead th {\n        text-align: right;\n    }\n</style>\n<table border=\"1\" class=\"dataframe\">\n  <thead>\n    <tr style=\"text-align: right;\">\n      <th></th>\n      <th>sepal.length</th>\n      <th>sepal.width</th>\n      <th>petal.length</th>\n      <th>petal.width</th>\n      <th>variety</th>\n    </tr>\n  </thead>\n  <tbody>\n    <tr>\n      <th>50</th>\n      <td>7.0</td>\n      <td>3.2</td>\n      <td>4.7</td>\n      <td>1.4</td>\n      <td>Versicolor</td>\n    </tr>\n    <tr>\n      <th>51</th>\n      <td>6.4</td>\n      <td>3.2</td>\n      <td>4.5</td>\n      <td>1.5</td>\n      <td>Versicolor</td>\n    </tr>\n    <tr>\n      <th>52</th>\n      <td>6.9</td>\n      <td>3.1</td>\n      <td>4.9</td>\n      <td>1.5</td>\n      <td>Versicolor</td>\n    </tr>\n    <tr>\n      <th>53</th>\n      <td>5.5</td>\n      <td>2.3</td>\n      <td>4.0</td>\n      <td>1.3</td>\n      <td>Versicolor</td>\n    </tr>\n    <tr>\n      <th>54</th>\n      <td>6.5</td>\n      <td>2.8</td>\n      <td>4.6</td>\n      <td>1.5</td>\n      <td>Versicolor</td>\n    </tr>\n  </tbody>\n</table>\n</div>"
     },
     "metadata": {},
     "output_type": "execute_result",
     "execution_count": 9
    }
   ],
   "source": [
    "df = df.loc[df['variety'] != 'Setosa']\n",
    "df.head()"
   ],
   "metadata": {
    "collapsed": false,
    "pycharm": {
     "name": "#%%\n",
     "is_executing": false
    }
   }
  },
  {
   "cell_type": "code",
   "execution_count": 10,
   "outputs": [
    {
     "name": "stdout",
     "text": [
      "Broj instanci: 100\n"
     ],
     "output_type": "stream"
    }
   ],
   "source": [
    "n = df.shape[0]\n",
    "print(f'Broj instanci: {n}')"
   ],
   "metadata": {
    "collapsed": false,
    "pycharm": {
     "name": "#%%\n",
     "is_executing": false
    }
   }
  },
  {
   "cell_type": "code",
   "execution_count": 11,
   "outputs": [
    {
     "name": "stdout",
     "text": [
      "[[1.  4.7 1.4]\n [1.  4.5 1.5]\n [1.  4.9 1.5]\n [1.  4.  1.3]\n [1.  4.6 1.5]\n [1.  4.5 1.3]\n [1.  4.7 1.6]\n [1.  3.3 1. ]\n [1.  4.6 1.3]\n [1.  3.9 1.4]\n [1.  3.5 1. ]\n [1.  4.2 1.5]\n [1.  4.  1. ]\n [1.  4.7 1.4]\n [1.  3.6 1.3]\n [1.  4.4 1.4]\n [1.  4.5 1.5]\n [1.  4.1 1. ]\n [1.  4.5 1.5]\n [1.  3.9 1.1]\n [1.  4.8 1.8]\n [1.  4.  1.3]\n [1.  4.9 1.5]\n [1.  4.7 1.2]\n [1.  4.3 1.3]\n [1.  4.4 1.4]\n [1.  4.8 1.4]\n [1.  5.  1.7]\n [1.  4.5 1.5]\n [1.  3.5 1. ]\n [1.  3.8 1.1]\n [1.  3.7 1. ]\n [1.  3.9 1.2]\n [1.  5.1 1.6]\n [1.  4.5 1.5]\n [1.  4.5 1.6]\n [1.  4.7 1.5]\n [1.  4.4 1.3]\n [1.  4.1 1.3]\n [1.  4.  1.3]\n [1.  4.4 1.2]\n [1.  4.6 1.4]\n [1.  4.  1.2]\n [1.  3.3 1. ]\n [1.  4.2 1.3]\n [1.  4.2 1.2]\n [1.  4.2 1.3]\n [1.  4.3 1.3]\n [1.  3.  1.1]\n [1.  4.1 1.3]\n [1.  6.  2.5]\n [1.  5.1 1.9]\n [1.  5.9 2.1]\n [1.  5.6 1.8]\n [1.  5.8 2.2]\n [1.  6.6 2.1]\n [1.  4.5 1.7]\n [1.  6.3 1.8]\n [1.  5.8 1.8]\n [1.  6.1 2.5]\n [1.  5.1 2. ]\n [1.  5.3 1.9]\n [1.  5.5 2.1]\n [1.  5.  2. ]\n [1.  5.1 2.4]\n [1.  5.3 2.3]\n [1.  5.5 1.8]\n [1.  6.7 2.2]\n [1.  6.9 2.3]\n [1.  5.  1.5]\n [1.  5.7 2.3]\n [1.  4.9 2. ]\n [1.  6.7 2. ]\n [1.  4.9 1.8]\n [1.  5.7 2.1]\n [1.  6.  1.8]\n [1.  4.8 1.8]\n [1.  4.9 1.8]\n [1.  5.6 2.1]\n [1.  5.8 1.6]\n [1.  6.1 1.9]\n [1.  6.4 2. ]\n [1.  5.6 2.2]\n [1.  5.1 1.5]\n [1.  5.6 1.4]\n [1.  6.1 2.3]\n [1.  5.6 2.4]\n [1.  5.5 1.8]\n [1.  4.8 1.8]\n [1.  5.4 2.1]\n [1.  5.6 2.4]\n [1.  5.1 2.3]\n [1.  5.1 1.9]\n [1.  5.9 2.3]\n [1.  5.7 2.5]\n [1.  5.2 2.3]\n [1.  5.  1.9]\n [1.  5.2 2. ]\n [1.  5.4 2.3]\n [1.  5.1 1.8]]\n"
     ],
     "output_type": "stream"
    }
   ],
   "source": [
    "attr1 = 'petal.length'\n",
    "attr2 = 'petal.width'\n",
    "m = 2\n",
    "\n",
    "X = np.ones((n, m + 1))\n",
    "X[:, 1] = df[attr1]\n",
    "X[:, 2] = df[attr2]\n",
    "\n",
    "print(X)"
   ],
   "metadata": {
    "collapsed": false,
    "pycharm": {
     "name": "#%%\n",
     "is_executing": false
    }
   }
  },
  {
   "cell_type": "code",
   "execution_count": 12,
   "outputs": [
    {
     "data": {
      "text/plain": "50    Versicolor\n51    Versicolor\n52    Versicolor\n53    Versicolor\n54    Versicolor\nName: variety, dtype: object"
     },
     "metadata": {},
     "output_type": "execute_result",
     "execution_count": 12
    }
   ],
   "source": [
    "y = df['variety']\n",
    "y.head()"
   ],
   "metadata": {
    "collapsed": false,
    "pycharm": {
     "name": "#%%\n",
     "is_executing": false
    }
   }
  },
  {
   "cell_type": "code",
   "execution_count": 13,
   "outputs": [
    {
     "name": "stdout",
     "text": [
      "Broj klasa: 2\n"
     ],
     "output_type": "stream"
    }
   ],
   "source": [
    "variety = df['variety'].unique()\n",
    "n_classes = len(variety)\n",
    "\n",
    "print(f'Broj klasa: {n_classes}')"
   ],
   "metadata": {
    "collapsed": false,
    "pycharm": {
     "name": "#%%\n",
     "is_executing": false
    }
   }
  },
  {
   "cell_type": "code",
   "execution_count": 14,
   "outputs": [
    {
     "name": "stdout",
     "text": [
      "Preslikavanje imena klase u broj:\nVersicolor -> 0\nVirginica -> 1\n\nPreslikavanje broja u ime klase:\n0 -> Versicolor\n1 -> Virginica\n\nKlase nakon mapiranja:\n"
     ],
     "output_type": "stream"
    },
    {
     "data": {
      "text/plain": "50    0\n51    0\n52    0\n53    0\n54    0\nName: variety, dtype: int64"
     },
     "metadata": {},
     "output_type": "execute_result",
     "execution_count": 14
    }
   ],
   "source": [
    "mapping_name_to_i = dict(zip(variety, range(n_classes)))\n",
    "mapping_i_to_name = dict(zip(range(n_classes), variety))\n",
    "\n",
    "print('Preslikavanje imena klase u broj:')\n",
    "for (k, v) in mapping_name_to_i.items():\n",
    "    print(f'{k} -> {v}')\n",
    "print()\n",
    "    \n",
    "print('Preslikavanje broja u ime klase:')\n",
    "for (k, v) in mapping_i_to_name.items():\n",
    "    print(f'{k} -> {v}')\n",
    "print()\n",
    "    \n",
    "y = y.replace(mapping_name_to_i)\n",
    "\n",
    "print('Klase nakon mapiranja:')\n",
    "y.head()"
   ],
   "metadata": {
    "collapsed": false,
    "pycharm": {
     "name": "#%%\n",
     "is_executing": false
    }
   }
  },
  {
   "cell_type": "code",
   "execution_count": 15,
   "outputs": [
    {
     "name": "stdout",
     "text": [
      "[[0]\n [0]\n [0]\n [0]\n [0]\n [0]\n [0]\n [0]\n [0]\n [0]\n [0]\n [0]\n [0]\n [0]\n [0]\n [0]\n [0]\n [0]\n [0]\n [0]\n [0]\n [0]\n [0]\n [0]\n [0]\n [0]\n [0]\n [0]\n [0]\n [0]\n [0]\n [0]\n [0]\n [0]\n [0]\n [0]\n [0]\n [0]\n [0]\n [0]\n [0]\n [0]\n [0]\n [0]\n [0]\n [0]\n [0]\n [0]\n [0]\n [0]\n [1]\n [1]\n [1]\n [1]\n [1]\n [1]\n [1]\n [1]\n [1]\n [1]\n [1]\n [1]\n [1]\n [1]\n [1]\n [1]\n [1]\n [1]\n [1]\n [1]\n [1]\n [1]\n [1]\n [1]\n [1]\n [1]\n [1]\n [1]\n [1]\n [1]\n [1]\n [1]\n [1]\n [1]\n [1]\n [1]\n [1]\n [1]\n [1]\n [1]\n [1]\n [1]\n [1]\n [1]\n [1]\n [1]\n [1]\n [1]\n [1]\n [1]]\n"
     ],
     "output_type": "stream"
    }
   ],
   "source": [
    "y = np.array(y).reshape(-1, 1)\n",
    "print(y)"
   ],
   "metadata": {
    "collapsed": false,
    "pycharm": {
     "name": "#%%\n",
     "is_executing": false
    }
   }
  },
  {
   "cell_type": "code",
   "execution_count": 16,
   "outputs": [
    {
     "data": {
      "text/plain": "<Figure size 432x288 with 1 Axes>",
      "image/png": "[encoded data removed]"
     },
     "metadata": {
      "needs_background": "light"
     },
     "output_type": "display_data"
    }
   ],
   "source": [
    "colors = ['red', 'blue']\n",
    "\n",
    "for (v, c) in zip(variety, colors):\n",
    "    subsamples = df.loc[df['variety'] == v]\n",
    "    plt.scatter(subsamples[attr1], subsamples[attr2], color=c)\n",
    "    \n",
    "plt.title(f'Vizuelna reprezentacija podataka pomocu atributa {attr1} and {attr2}')\n",
    "plt.legend(list(variety))\n",
    "\n",
    "plt.xlabel(attr1)\n",
    "plt.ylabel(attr2)\n",
    "\n",
    "plt.show()"
   ],
   "metadata": {
    "collapsed": false,
    "pycharm": {
     "name": "#%%\n",
     "is_executing": false
    }
   }
  },
  {
   "cell_type": "code",
   "execution_count": 17,
   "outputs": [
    {
     "name": "stdout",
     "text": [
      "Model form: f_w(x) = 1 / (1 + exp(-(w0 + w1*petal.length + w2*petal.width)))\n"
     ],
     "output_type": "stream"
    }
   ],
   "source": [
    "print(f'Model form: f_w(x) = 1 / (1 + exp(-(w0 + w1*petal.length + w2*petal.width)))')"
   ],
   "metadata": {
    "collapsed": false,
    "pycharm": {
     "name": "#%%\n",
     "is_executing": false
    }
   }
  },
  {
   "cell_type": "code",
   "execution_count": 18,
   "outputs": [
    {
     "name": "stdout",
     "text": [
      "w_init:\n[[0.]\n [0.]\n [0.]]\n"
     ],
     "output_type": "stream"
    }
   ],
   "source": [
    "w_init = np.zeros((m + 1, 1))\n",
    "print('w_init:')\n",
    "print(w_init)"
   ],
   "metadata": {
    "collapsed": false,
    "pycharm": {
     "name": "#%%\n",
     "is_executing": false
    }
   }
  },
  {
   "cell_type": "code",
   "execution_count": 19,
   "outputs": [],
   "source": [
    "alpha = 0.1\n",
    "num_iter = 10000\n",
    "eps = 10e-5\n",
    "\n",
    "w, loss_history, it_break = gradient_descent(X, y, w_init, alpha, num_iter, eps)"
   ],
   "metadata": {
    "collapsed": false,
    "pycharm": {
     "name": "#%%\n",
     "is_executing": false
    }
   }
  },
  {
   "cell_type": "code",
   "execution_count": 20,
   "outputs": [
    {
     "name": "stdout",
     "text": [
      "Loss = 0.0\nPrecision = 100.0%\n"
     ],
     "output_type": "stream"
    }
   ],
   "source": [
    "print(f'Loss = {loss_history[-1][0]}')\n",
    "print(f'Precision = {round(100 - loss_history[-1][0], 3)}%')"
   ],
   "metadata": {
    "collapsed": false,
    "pycharm": {
     "name": "#%%\n",
     "is_executing": false
    }
   }
  },
  {
   "cell_type": "code",
   "execution_count": 21,
   "outputs": [
    {
     "name": "stdout",
     "text": [
      "Trained model:\nw = -5.071642865182238 + -0.12101564484084681*x1 + 3.5044507224383614*x2\nf_w = 1 / (1 + exp(-(-5.072 + -0.121*petal.length+ 3.504*petal.width))\n"
     ],
     "output_type": "stream"
    }
   ],
   "source": [
    "print('Trained model:')\n",
    "show_model(w)"
   ],
   "metadata": {
    "collapsed": false,
    "pycharm": {
     "name": "#%%\n",
     "is_executing": false
    }
   }
  },
  {
   "cell_type": "code",
   "execution_count": 22,
   "outputs": [
    {
     "data": {
      "text/plain": "Text(0.5, 1.0, 'Funkcija gubitka u zavisnosti od broja iteracija')"
     },
     "metadata": {},
     "output_type": "execute_result",
     "execution_count": 22
    },
    {
     "data": {
      "text/plain": "<Figure size 432x288 with 1 Axes>",
      "image/png": "[encoded data removed]"
     },
     "metadata": {
      "needs_background": "light"
     },
     "output_type": "display_data"
    }
   ],
   "source": [
    "plt.plot(range(it_break), loss_history[:it_break], color='red')\n",
    "plt.xlabel('Iteration')\n",
    "plt.ylabel('Loss')\n",
    "\n",
    "plt.legend(['Loss function'])\n",
    "plt.title('Funkcija gubitka u zavisnosti od broja iteracija')"
   ],
   "metadata": {
    "collapsed": false,
    "pycharm": {
     "name": "#%%\n",
     "is_executing": false
    }
   }
  },
  {
   "cell_type": "code",
   "execution_count": 26,
   "outputs": [],
   "source": [
    "# Provera uspesnosti istrenirnaog modela\n",
    "petal_length = float(input('Unesite petal.length: '))\n",
    "petal_width = float(input('Unesite petal.width: '))"
   ],
   "metadata": {
    "collapsed": false,
    "pycharm": {
     "name": "#%%\n",
     "is_executing": false
    }
   }
  },
  {
   "cell_type": "code",
   "execution_count": 27,
   "outputs": [
    {
     "name": "stdout",
     "text": [
      "f_w = 0.4826070372397184(Probability: 51.739%)\nVrsta cveta: Versicolor\n"
     ],
     "output_type": "stream"
    }
   ],
   "source": [
    "x = np.array([1, petal_length, petal_width]).reshape(-1, 1)\n",
    "f_w = hypothesis(w, x)\n",
    "\n",
    "if f_w >= 0.5:\n",
    "    cls = 1\n",
    "    prob = round(100*f_w, 3)\n",
    "else:\n",
    "    cls = 0\n",
    "    prob = round(100*(1 - f_w), 3)\n",
    "\n",
    "print(f'f_w = {f_w}', end='')\n",
    "print(f'(Probability: {prob}%)')\n",
    "    \n",
    "print(f'Vrsta cveta: {mapping_i_to_name[cls]}')"
   ],
   "metadata": {
    "collapsed": false,
    "pycharm": {
     "name": "#%%\n",
     "is_executing": false
    }
   }
  }
 ],
 "metadata": {
  "language_info": {
   "codemirror_mode": {
    "name": "ipython",
    "version": 2
   },
   "file_extension": ".py",
   "mimetype": "text/x-python",
   "name": "python",
   "nbconvert_exporter": "python",
   "pygments_lexer": "ipython2",
   "version": "2.7.6"
  },
  "kernelspec": {
   "name": "python3",
   "language": "python",
   "display_name": "Python 3"
  },
  "pycharm": {
   "stem_cell": {
    "cell_type": "raw",
    "source": [],
    "metadata": {
     "collapsed": false
    }
   }
  }
 },
 "nbformat": 4,
 "nbformat_minor": 0
}