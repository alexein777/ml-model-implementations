{
 "cells": [
  {
   "cell_type": "code",
   "execution_count": 36,
   "metadata": {
    "collapsed": true,
    "pycharm": {
     "is_executing": false
    }
   },
   "outputs": [],
   "source": [
    "import pandas as pd\n",
    "import numpy as np\n",
    "import matplotlib.pyplot as plt"
   ]
  },
  {
   "cell_type": "code",
   "execution_count": 56,
   "outputs": [],
   "source": [
    "def g_sigmoid(z):\n",
    "    return 1 / (1 + np.exp(-z))\n",
    "\n",
    "def g_sigmoid_derivative(z):\n",
    "    return g_sigmoid(z) * (1 - g_sigmoid(z))\n",
    "\n",
    "def identity(x):\n",
    "    return x\n",
    "\n",
    "def hypothesis_neural(neural_model, input_data):\n",
    "    a_l = input_data\n",
    "    \n",
    "    for l in range(neural_model.shape[0]):\n",
    "        z_lp1 = neural_model[l].dot(a_l)\n",
    "        a_lp1 = g_sigmoid(z_lp1)\n",
    "        \n",
    "        if l != neural_model.shape[0] - 1:\n",
    "            a_lp1 = np.concatenate((np.array([1]), a_lp1))\n",
    "            \n",
    "        a_l = a_lp1\n",
    "        \n",
    "    return a_l[0]"
   ],
   "metadata": {
    "collapsed": false,
    "pycharm": {
     "name": "#%%\n",
     "is_executing": false
    }
   }
  },
  {
   "cell_type": "code",
   "execution_count": 38,
   "outputs": [],
   "source": [
    "def unroll_matrix(matrix):\n",
    "    return matrix.ravel()\n",
    "\n",
    "def unroll_matrix_array(matrix_vec):\n",
    "    unrolled = np.array([])\n",
    "    for matrix in matrix_vec:\n",
    "        unrolled = np.concatenate((unrolled, unroll_matrix(matrix)), axis=None)\n",
    "        \n",
    "    return np.array(unrolled).ravel()\n",
    "\n",
    "def roll_vec_to_matrix(vec, matrix_size):\n",
    "    rows = matrix_size[0]\n",
    "    cols = matrix_size[1]\n",
    "    \n",
    "    if vec.shape[0] != rows * cols:\n",
    "        raise ValueError(f'Nekorektno razvijanje vektora velicine {vec.shape[0]} u matricu'\n",
    "                         f' dimenzija {rows}x{cols} (matrica od {rows*cols} elemenata)')\n",
    "    \n",
    "    matrix = np.zeros(matrix_size)\n",
    "    for i in range(rows):\n",
    "        matrix[i] = vec[i*cols : (i + 1)*cols]\n",
    "        \n",
    "    return matrix\n",
    "\n",
    "def roll_vec_to_matrix_array(long_vec, matrix_sizes):\n",
    "    matrix_array = []\n",
    "    prev_rows = 0\n",
    "    prev_cols = 0\n",
    "    \n",
    "    for matrix_size in matrix_sizes:\n",
    "        rows = matrix_size[0]\n",
    "        cols = matrix_size[1]\n",
    "        \n",
    "        i = prev_rows * prev_cols\n",
    "        j = rows * cols\n",
    "        matrix_array.append(roll_vec_to_matrix(long_vec[i : i+j], matrix_size))\n",
    "        \n",
    "        prev_rows = rows\n",
    "        prev_cols = cols\n",
    "        \n",
    "    return np.array(matrix_array)\n",
    "\n",
    "def get_matrix_sizes(matrix_array):\n",
    "    sizes = []\n",
    "    for i in range(matrix_array.shape[0]):\n",
    "        sizes.append(matrix_array[i].shape)\n",
    "        \n",
    "    return sizes"
   ],
   "metadata": {
    "collapsed": false,
    "pycharm": {
     "name": "#%%\n",
     "is_executing": false
    }
   }
  },
  {
   "cell_type": "code",
   "execution_count": 49,
   "outputs": [],
   "source": [
    "def regularization(neural_model, N_set_size, lambda_param=0):\n",
    "    if lambda_param == 0:\n",
    "        return 0\n",
    "    \n",
    "    reg = 0\n",
    "    for l in range(neural_model.shape[0]):\n",
    "        for i in range(neural_model[l].shape[0]):\n",
    "            for j in range(1, neural_model[l].shape[1]):\n",
    "                reg += (neural_model[l][i][j])**2\n",
    "                \n",
    "    return lambda_param * reg / (2*N_set_size)\n",
    "\n",
    "def loss_logistic(X, y, neural_model, lambda_param=0):\n",
    "    N = y.shape[0]\n",
    "    loss = 0\n",
    "    \n",
    "    for i in range(N):\n",
    "        y_i = y[i][0]\n",
    "        y_i_predict = hypothesis_neural(neural_model, X[i])\n",
    "        \n",
    "        loss += y_i*np.log(y_i_predict) + (1 - y_i)*np.log(1 - y_i_predict)\n",
    "        \n",
    "    return -loss / N + regularization(neural_model, N, lambda_param)"
   ],
   "metadata": {
    "collapsed": false,
    "pycharm": {
     "name": "#%%\n",
     "is_executing": false
    }
   }
  },
  {
   "cell_type": "code",
   "execution_count": 88,
   "outputs": [],
   "source": [
    "def gradient_checking(X, y, neural_model, lambda_param=0, eps=10e-4):\n",
    "    w_unrolled = unroll_matrix_array(neural_model)\n",
    "    n = len(w_unrolled)\n",
    "    \n",
    "    grad_approx = np.zeros((n,))\n",
    "    matrix_sizes = get_matrix_sizes(neural_model)\n",
    "    \n",
    "    for i in range(n):\n",
    "        # OBAVEZNO MORA KOPIJA VEKTORA, inace imamo dve reference na isti vektor!!!\n",
    "        w_plus = w_unrolled.copy()\n",
    "        w_minus = w_unrolled.copy()\n",
    "        w_plus[i] += eps\n",
    "        w_minus[i] -= eps\n",
    "        \n",
    "        # print('w_plus:')\n",
    "        # print(w_plus)\n",
    "        # \n",
    "        # print('\\nw_minus:')\n",
    "        # print(w_minus)\n",
    "        # \n",
    "        # print(f'w_plus == w_minus?\\n{w_plus == w_minus}')\n",
    "        \n",
    "        w_plus_rolled = roll_vec_to_matrix_array(w_plus, matrix_sizes)\n",
    "        w_minus_rolled = roll_vec_to_matrix_array(w_minus, matrix_sizes)\n",
    "        \n",
    "        loss_plus = loss_logistic(X, y, w_plus_rolled, lambda_param)\n",
    "        loss_minus = loss_logistic(X, y, w_minus_rolled, lambda_param)\n",
    "        \n",
    "        # print(f'loss_plus_{i} = {loss_plus}')\n",
    "        # print(f'loss_minus_{i} = {loss_minus}\\n')\n",
    "        \n",
    "        grad_approx[i] = (loss_plus - loss_minus) / (2*eps)\n",
    "    \n",
    "    return grad_approx"
   ],
   "metadata": {
    "collapsed": false,
    "pycharm": {
     "name": "#%%\n",
     "is_executing": false
    }
   }
  },
  {
   "cell_type": "code",
   "execution_count": 61,
   "outputs": [],
   "source": [
    "def gradient_descent(X, \n",
    "                     y, \n",
    "                     neural_network, \n",
    "                     alpha=0.01, \n",
    "                     num_iter=1000, \n",
    "                     lambda_param=0,\n",
    "                     plot=False):\n",
    "    \n",
    "    loss_history = np.zeros((num_iter, 1))\n",
    "    matrix_sizes = get_matrix_sizes(neural_network.model)\n",
    "    \n",
    "    # Podsetnik: neuralna mreza prilikom kreiranja vec ima inicijalni model.\n",
    "    # Ovde je dovoljno samo da ga razvijemo u vektor kako bi ga pripremili za\n",
    "    # algoritam gradijentnog spusta\n",
    "    w = neural_network.unroll_model()\n",
    "    for i in range(num_iter):\n",
    "        loss, gradient = neural_network.backward_propagation(X, y, lambda_param)\n",
    "        w = w - alpha * gradient\n",
    "        \n",
    "        # VRLO VAZAN KORAK: nakon sto je model azuriran, treba ga azurirati UNUTAR neuralne\n",
    "        # mreze kako bi backward propagation algoritam radio sa novim vrednostima modela.\n",
    "        neural_network.set_model(roll_vec_to_matrix_array(w, matrix_sizes))\n",
    "        \n",
    "        loss_history[i] = loss\n",
    "    \n",
    "    if plot:\n",
    "        plt.plot(range(num_iter), loss_history)\n",
    "        \n",
    "        plt.xlabel('Iterations')\n",
    "        plt.ylabel('Loss')\n",
    "        plt.legend(['Loss_train'])\n",
    "            \n",
    "    return loss_history, w"
   ],
   "metadata": {
    "collapsed": false,
    "pycharm": {
     "name": "#%%\n",
     "is_executing": false
    }
   }
  },
  {
   "cell_type": "code",
   "execution_count": 89,
   "outputs": [],
   "source": [
    "class NeuralNetwork:\n",
    "    def __init__(self, input_layer_size, hidden_layer_options, output_layer_size, eps=10e-3):\n",
    "        self.input_layer_size = input_layer_size\n",
    "        self.hidden_layers_num = len(hidden_layer_options)\n",
    "        self.layers_num = self.hidden_layers_num + 2\n",
    "        self.output_layer_size = output_layer_size\n",
    "        self.layer_sizes = [input_layer_size] + hidden_layer_options + [output_layer_size]\n",
    "        self.layer_indices = range(self.layers_num)\n",
    "        \n",
    "        # NAPOMENA: velicina slojeva neuralne mreze (layer_sizes) se racuna kao broj jedinica\n",
    "        # BEZ bias jedinice, ali prilikom postavljanja slojeva mreza ocekuje bias jedinice.\n",
    "        # Dakle, svaki sloj je velicine za jedan vise, osim poslednjeg sloja.\n",
    "        layers = [np.ones(input_layer_size + 1)]\n",
    "        for i in range(self.hidden_layers_num):\n",
    "            layers.append(np.ones(hidden_layer_options[i] + 1))\n",
    "            \n",
    "        layers.append(np.ones(output_layer_size))\n",
    "        self.network = np.array(layers)\n",
    "        \n",
    "        # Cuvam dimenzije matrica Wij koje mapiraju slojeve j -> j + 1\n",
    "        # s(j+1) x (s(j) + 1)\n",
    "        mappers = {}\n",
    "        for l in range(self.layers_num - 1):\n",
    "           rows = self.layer_sizes[l + 1]\n",
    "           cols = self.layer_sizes[l] + 1\n",
    "           \n",
    "           mappers[l] = (rows, cols)\n",
    "        \n",
    "        self.layer_mapper_sizes = mappers\n",
    "        \n",
    "        # inicijalizacija modela, tj. matrica W_i za svaki sloj\n",
    "        ws = []\n",
    "        for l in range(self.layers_num - 1):\n",
    "            w_l = 2*eps * np.random.random(self.layer_mapper_sizes[l]) - eps\n",
    "            ws.append(w_l)\n",
    "            \n",
    "        self.model = np.array(ws)\n",
    "        self.model_trained = self.model\n",
    "        \n",
    "        # Analogno kao za slojeve, delte ocekuju bias jedinice, koje se NECE koristiti\n",
    "        # u proracunima backpropagation algoritma. Prvi sloj mora da ima\n",
    "        # podrazumevano za delte sve nule, jer ulazni podaci nemaju gresku.\n",
    "        deltas = []\n",
    "        for l in self.layer_indices:\n",
    "            if l == self.layers_num - 1:\n",
    "                delta_l = np.zeros(self.layer_sizes[l])\n",
    "            else:\n",
    "                delta_l = np.zeros(self.layer_sizes[l] + 1)\n",
    "                \n",
    "            deltas.append(delta_l)\n",
    "            \n",
    "        self.deltas = np.array(deltas)\n",
    "        \n",
    "    def __str__(self):\n",
    "        self.print_network()\n",
    "        \n",
    "    def __repr__(self):\n",
    "        self.print_network()\n",
    "        \n",
    "    def __layer_index_check(self, layer_index):\n",
    "        if layer_index < 0 or layer_index >= self.layers_num:\n",
    "            raise IndexError(f'Nekorektan indeks sloja neuralne mreze {layer_index}: '\n",
    "                             f'dostupni indeksi 0-{self.layers_num - 1}')\n",
    "        \n",
    "    def set_layer(self, layer_index, units_vec):\n",
    "        self.__layer_index_check(layer_index)\n",
    "        \n",
    "        # poslednji sloj NEMA bias unit\n",
    "        # -1 jer mreza inicijalno ne sadrzi bias unit, a ja ocekujem vektor koji sadrzi bias unit\n",
    "        if layer_index != self.layers_num - 1 and \\\n",
    "                units_vec.shape[0] != self.layer_sizes[layer_index] + 1:\n",
    "            error_message = f'Nekorektna dimenzija vektora {units_vec.shape[0]} za sloj {layer_index}: ' \\\n",
    "                f'ocekivana {self.layer_sizes[layer_index] + 1}'\n",
    "            \n",
    "            raise ValueError(error_message)\n",
    "        elif layer_index == self.layers_num - 1 and \\\n",
    "                units_vec.shape[0] != self.layer_sizes[layer_index]: # ovde je layer_index poslednji sloj\n",
    "            error_message = f'Nekorektna dimenzija vektora {units_vec.shape[0]} za izlazni sloj {layer_index}: ' \\\n",
    "                f'ocekivana {self.layer_sizes[layer_index]}'\n",
    "            \n",
    "            raise ValueError(error_message)\n",
    "        \n",
    "        self.network[layer_index] = units_vec\n",
    "        \n",
    "    def set_all_layers(self, all_layers):\n",
    "        for l in range(self.layers_num):\n",
    "            self.set_layer(l, all_layers[l])\n",
    "            \n",
    "    def set_mapper(self, layer_index, mapper):\n",
    "        self.__layer_index_check(layer_index)\n",
    "        \n",
    "        if mapper.shape != self.model[layer_index].shape:\n",
    "            error_message = f'Nekorektna dimenzija matrice {mapper.shape[0]}x{mapper.shape[1]} ' \\\n",
    "                f'za preslikavanje sloja {layer_index} -> {layer_index + 1}: ocekivana ' \\\n",
    "                f'{self.model[layer_index].shape[0]}x{self.model[layer_index].shape[1]}'\n",
    "            \n",
    "            raise ValueError(error_message)\n",
    "        \n",
    "        self.model[layer_index] = mapper\n",
    "        \n",
    "    # Funkcija po analogiji za slojeve, radi doslednosti\n",
    "    def set_all_mappers(self, all_mappers):\n",
    "        for l in range(self.layers_num - 1):\n",
    "            self.set_mapper(l, all_mappers[l])\n",
    "            \n",
    "    def set_model(self, all_mappers):\n",
    "        self.set_all_mappers(all_mappers)\n",
    "        \n",
    "    def set_delta(self, layer_index, delta_vec):\n",
    "        self.__layer_index_check(layer_index)\n",
    "        \n",
    "        if layer_index != self.layers_num - 1 and \\\n",
    "                delta_vec.shape[0] != self.layer_sizes[layer_index] + 1:\n",
    "            error_message = f'Nekorektna dimenzija vektora {delta_vec.shape[0]}:' \\\n",
    "                f'ocekivana {self.layer_sizes[layer_index] + 1}'\n",
    "            \n",
    "            raise ValueError(error_message)\n",
    "        elif layer_index == self.layers_num - 1 and \\\n",
    "                delta_vec.shape[0] != self.layer_sizes[layer_index]:\n",
    "            error_message = f'Nekorektna dimenzija vektora {delta_vec.shape[0]} za poslednji sloj: ' \\\n",
    "                f'ocekivana {self.layer_sizes[layer_index]}' \n",
    "            \n",
    "            raise ValueError(error_message)\n",
    "            \n",
    "        self.deltas[layer_index] = delta_vec\n",
    "        \n",
    "    def set_all_deltas(self, all_deltas):\n",
    "        for l in self.layer_indices:\n",
    "            self.set_delta(l, all_deltas[l])\n",
    "        \n",
    "    def unroll_mapper(self, layer_index):\n",
    "        self.__layer_index_check(layer_index)\n",
    "        \n",
    "        return self.model[layer_index].ravel()\n",
    "    \n",
    "    def unroll_model(self):\n",
    "        unrolled_model = np.array([])\n",
    "        for l in range(self.layers_num - 1):\n",
    "            W_l = self.unroll_mapper(l)\n",
    "            unrolled_model = np.concatenate((unrolled_model, W_l), axis=None)\n",
    "            \n",
    "        return np.array(unrolled_model).ravel()\n",
    "    \n",
    "    @staticmethod\n",
    "    def __activate_layer(z_vec, activation_func):\n",
    "        return activation_func(z_vec)\n",
    "    \n",
    "    def forward_propagation(self, input_layer_data):\n",
    "        a_l = input_layer_data\n",
    "        self.set_layer(0, a_l)\n",
    "        \n",
    "        for l in range(self.layers_num - 1):\n",
    "            z_lp1 = self.model[l].dot(a_l) # z(l+1) = W(l)*a(l)\n",
    "            a_l = g_sigmoid(z_lp1)\n",
    "            \n",
    "            # Dodavanje bias jedinice u a_l vektor\n",
    "            if l != self.layers_num - 2:\n",
    "                a_l = np.concatenate((np.array([1]), a_l))\n",
    "            \n",
    "            self.set_layer(l + 1, a_l)\n",
    "            \n",
    "    # Vrsi propagaciju na osnovu prosledjenog modela, a ne na osnovu internog modela.\n",
    "    def propagate(self, input_layer_data, neural_model):\n",
    "        a_l = input_layer_data\n",
    "        self.set_layer(0, a_l)\n",
    "        \n",
    "        for l in range(self.layers_num - 1):\n",
    "            z_lp1 = neural_model[l].dot(a_l)\n",
    "            a_l = g_sigmoid(z_lp1)\n",
    "            \n",
    "            # Dodavanje bias jedinice u a_l vektor\n",
    "            if l != self.layers_num - 2:\n",
    "                a_l = np.concatenate((np.array([1]), a_l))\n",
    "            \n",
    "            self.set_layer(l + 1, a_l)\n",
    "            \n",
    "    def backward_propagation_deltas(self, y_data):\n",
    "        delta_output = self.network[self.layers_num - 1] - y_data\n",
    "        self.set_delta(self.layers_num - 1, delta_output)\n",
    "        \n",
    "        for l in range(self.layers_num - 2, 0, -1):\n",
    "            z_l = self.model[l - 1].dot(self.network[l - 1]) # z(l) = W(l-1)*a(l-1)\n",
    "            g_prim_vec = np.concatenate((np.array([1]), g_sigmoid_derivative(z_l)))\n",
    "            \n",
    "            if l + 1 == self.layers_num - 1:\n",
    "                delta_lp1 = self.deltas[l + 1] # ne postoji bias jedinica za poslednji sloj\n",
    "            else:\n",
    "                delta_lp1 = self.deltas[l + 1][1:] # ignorisem bias jedinicu delta vektora\n",
    "                \n",
    "            delta_l = self.model[l].transpose().dot(delta_lp1) * g_prim_vec\n",
    "            self.set_delta(l, delta_l)\n",
    "            \n",
    "        # delta_0 je uvek nula-vektor, postavljen jos prilikom inicijalizacije same mreze\n",
    "        \n",
    "    # Funkcija koja racuna uporedo parcijalne izvode (gradijent) i funkciju gubitka\n",
    "    def backward_propagation(self, X_training, y_training, lambda_param=0):\n",
    "        accs = []\n",
    "        for l in range(self.layers_num - 1):\n",
    "            delta_acc_l = np.zeros(self.layer_mapper_sizes[l])\n",
    "            accs.append(delta_acc_l)\n",
    "            \n",
    "        # Delta_l akumulatori za parcijalne izvode i inicijalni parcijalni izvodi\n",
    "        delta_accumulators = np.array(accs)\n",
    "        gradient = np.array(accs)\n",
    "        loss = 0\n",
    "        \n",
    "        N = X_training.shape[0]\n",
    "        for i in range(N):\n",
    "            self.forward_propagation(X_training[i]) # a_0 = X[i] ...\n",
    "            self.backward_propagation_deltas(y_training[i])\n",
    "            self.__accumulate_deltas(delta_accumulators)\n",
    "            \n",
    "            # print(f'Delta accumulators:')\n",
    "            # print(delta_accumulators)\n",
    "            \n",
    "            # Hocu da y_predict i y budu realne vrednosti a ne vektori velicine 1\n",
    "            y_i_predict = self.network[self.layers_num - 1][0]\n",
    "            y_i = y_training[i][0]\n",
    "            \n",
    "            loss += y_i*np.log(y_i_predict) + (1 - y_i)*np.log(1 - y_i_predict)\n",
    "            \n",
    "            # print(f'y_predict = {y_predict}, y_{i} = {y_i}')\n",
    "            # print(f'Loss_{i}: {loss}')\n",
    "            \n",
    "        self.__set_partial_derivatives(gradient, delta_accumulators, lambda_param)\n",
    "        loss = -loss / N + regularization(self.model, N, lambda_param)\n",
    "        \n",
    "        return loss, unroll_matrix_array(gradient)\n",
    "            \n",
    "    def __accumulate_deltas(self, delta_accumulators):\n",
    "        for l in range(self.layers_num - 1):\n",
    "            if l + 1 == self.layers_num - 1:\n",
    "                delta_lp1 = self.deltas[l + 1].reshape(-1, 1)\n",
    "            else:\n",
    "                delta_lp1 = self.deltas[l + 1][1:].reshape(-1, 1)\n",
    "                \n",
    "            a_l = self.network[l].reshape(-1, 1).transpose()\n",
    "\n",
    "            delta_accumulators[l] += delta_lp1.dot(a_l)\n",
    "            \n",
    "    def __set_partial_derivatives(self, partial_derivatives, delta_accumulators, lambda_param):\n",
    "        for l in range(self.layers_num - 1):\n",
    "            for i in range(self.model[l].shape[0]):\n",
    "                for j in range(self.model[l].shape[1]):\n",
    "                    if j == 0:\n",
    "                        partial_derivatives[l][i][j] = delta_accumulators[l][i][j] / N\n",
    "                    else:\n",
    "                        partial_derivatives[l][i][j] = delta_accumulators[l][i][j] / N + \\\n",
    "                                                       lambda_param * self.model[l][i][j]\n",
    "                        \n",
    "    def fit(self, X, y, alpha=0.01, num_iter=1000, lambda_param=0, plot=False):\n",
    "        loss_history, model_trained = gradient_descent(X, y, \n",
    "                                                       self, \n",
    "                                                       alpha, \n",
    "                                                       num_iter, \n",
    "                                                       lambda_param,\n",
    "                                                       plot=plot)\n",
    "        \n",
    "        matrix_sizes = list(self.layer_mapper_sizes.values())\n",
    "        self.model_trained = roll_vec_to_matrix_array(model_trained, matrix_sizes)\n",
    "            \n",
    "    def predict(self, input_data):\n",
    "        return hypothesis_neural(self.model, input_data)\n",
    "        \n",
    "    def print_layer(self, layer_index):\n",
    "        self.__layer_index_check(layer_index)\n",
    "        \n",
    "        print(f'Layer {layer_index}:')\n",
    "        print(self.network[layer_index])\n",
    "        \n",
    "    def print_network(self):\n",
    "        print('~ Neural network ~')\n",
    "        \n",
    "        for i in range(self.network.shape[0]):\n",
    "            print(f'Layer {i + 1}:')\n",
    "            print(self.network[i])\n",
    "            \n",
    "    def print_layer_mapper_sizes(self):\n",
    "        print('Dimenzije matrica modela koji mapiraju slojeve:')\n",
    "        \n",
    "        for k, v in self.layer_mapper_sizes.items():\n",
    "            print(f'{k} -> {k + 1}: {v[0]} x {v[1]}')\n",
    "        \n",
    "    def print_mapper(self, layer_index):\n",
    "        self.__layer_index_check(layer_index)\n",
    "        \n",
    "        print(f'W_{layer_index}: {layer_index} -> {layer_index + 1}')\n",
    "        print(self.model[layer_index])           \n",
    "            \n",
    "    def print_model(self):\n",
    "        print('Model:')\n",
    "        \n",
    "        for l in range(self.layers_num - 1):\n",
    "            print(f'W_{l}: {l} -> {l + 1}')\n",
    "            print(self.model[l])\n",
    "            \n",
    "    def print_delta(self, layer_index):\n",
    "        self.__layer_index_check(layer_index)\n",
    "        \n",
    "        print(self.deltas[layer_index])\n",
    "            \n",
    "    def print_deltas(self):\n",
    "        print('Deltas:')\n",
    "        \n",
    "        for l in range(self.layers_num):\n",
    "            print(f'delta_{l}:')\n",
    "            print(self.deltas[l])\n",
    "# ---------------------------------------------------------------------------------------------------------\n",
    "\n",
    "# UCITAVANJE PODATAKA I TESTIRANJE"
   ],
   "metadata": {
    "collapsed": false,
    "pycharm": {
     "name": "#%%\n",
     "is_executing": false
    }
   }
  },
  {
   "cell_type": "code",
   "execution_count": 63,
   "outputs": [
    {
     "data": {
      "text/plain": "   sepal.length  sepal.width  petal.length  petal.width variety\n0           5.1          3.5           1.4          0.2  Setosa\n1           4.9          3.0           1.4          0.2  Setosa\n2           4.7          3.2           1.3          0.2  Setosa\n3           4.6          3.1           1.5          0.2  Setosa\n4           5.0          3.6           1.4          0.2  Setosa",
      "text/html": "<div>\n<style scoped>\n    .dataframe tbody tr th:only-of-type {\n        vertical-align: middle;\n    }\n\n    .dataframe tbody tr th {\n        vertical-align: top;\n    }\n\n    .dataframe thead th {\n        text-align: right;\n    }\n</style>\n<table border=\"1\" class=\"dataframe\">\n  <thead>\n    <tr style=\"text-align: right;\">\n      <th></th>\n      <th>sepal.length</th>\n      <th>sepal.width</th>\n      <th>petal.length</th>\n      <th>petal.width</th>\n      <th>variety</th>\n    </tr>\n  </thead>\n  <tbody>\n    <tr>\n      <th>0</th>\n      <td>5.1</td>\n      <td>3.5</td>\n      <td>1.4</td>\n      <td>0.2</td>\n      <td>Setosa</td>\n    </tr>\n    <tr>\n      <th>1</th>\n      <td>4.9</td>\n      <td>3.0</td>\n      <td>1.4</td>\n      <td>0.2</td>\n      <td>Setosa</td>\n    </tr>\n    <tr>\n      <th>2</th>\n      <td>4.7</td>\n      <td>3.2</td>\n      <td>1.3</td>\n      <td>0.2</td>\n      <td>Setosa</td>\n    </tr>\n    <tr>\n      <th>3</th>\n      <td>4.6</td>\n      <td>3.1</td>\n      <td>1.5</td>\n      <td>0.2</td>\n      <td>Setosa</td>\n    </tr>\n    <tr>\n      <th>4</th>\n      <td>5.0</td>\n      <td>3.6</td>\n      <td>1.4</td>\n      <td>0.2</td>\n      <td>Setosa</td>\n    </tr>\n  </tbody>\n</table>\n</div>"
     },
     "metadata": {},
     "output_type": "execute_result",
     "execution_count": 63
    }
   ],
   "source": [
    "df = pd.read_csv('../datasets/iris.csv')\n",
    "df.head()"
   ],
   "metadata": {
    "collapsed": false,
    "pycharm": {
     "name": "#%%\n",
     "is_executing": false
    }
   }
  },
  {
   "cell_type": "code",
   "execution_count": null,
   "outputs": [
    {
     "name": "stdout",
     "text": [
      "Ukupan broj podataka: 150\nBroj atributa svakog podatka: 4\nAtributi: ['sepal.length', 'sepal.width', 'petal.length', 'petal.width']\n"
     ],
     "output_type": "stream"
    }
   ],
   "source": [
    "N = df.shape[0]\n",
    "print(f'Ukupan broj podataka: {N}')\n",
    "\n",
    "m = df.shape[1] - 1\n",
    "print(f'Broj atributa svakog podatka: {m}')\n",
    "\n",
    "attributes = list(df.drop('variety', axis=True).columns)\n",
    "print(f'Atributi: {attributes}')"
   ],
   "metadata": {
    "collapsed": false,
    "pycharm": {
     "name": "#%%\n",
     "is_executing": true
    }
   }
  },
  {
   "cell_type": "code",
   "execution_count": 65,
   "outputs": [
    {
     "name": "stdout",
     "text": [
      "     sepal.length  sepal.width  petal.length  petal.width     variety\n50            7.0          3.2           4.7          1.4  Versicolor\n51            6.4          3.2           4.5          1.5  Versicolor\n52            6.9          3.1           4.9          1.5  Versicolor\n53            5.5          2.3           4.0          1.3  Versicolor\n54            6.5          2.8           4.6          1.5  Versicolor\n55            5.7          2.8           4.5          1.3  Versicolor\n56            6.3          3.3           4.7          1.6  Versicolor\n57            4.9          2.4           3.3          1.0  Versicolor\n58            6.6          2.9           4.6          1.3  Versicolor\n59            5.2          2.7           3.9          1.4  Versicolor\n60            5.0          2.0           3.5          1.0  Versicolor\n61            5.9          3.0           4.2          1.5  Versicolor\n62            6.0          2.2           4.0          1.0  Versicolor\n63            6.1          2.9           4.7          1.4  Versicolor\n64            5.6          2.9           3.6          1.3  Versicolor\n65            6.7          3.1           4.4          1.4  Versicolor\n66            5.6          3.0           4.5          1.5  Versicolor\n67            5.8          2.7           4.1          1.0  Versicolor\n68            6.2          2.2           4.5          1.5  Versicolor\n69            5.6          2.5           3.9          1.1  Versicolor\n70            5.9          3.2           4.8          1.8  Versicolor\n71            6.1          2.8           4.0          1.3  Versicolor\n72            6.3          2.5           4.9          1.5  Versicolor\n73            6.1          2.8           4.7          1.2  Versicolor\n74            6.4          2.9           4.3          1.3  Versicolor\n75            6.6          3.0           4.4          1.4  Versicolor\n76            6.8          2.8           4.8          1.4  Versicolor\n77            6.7          3.0           5.0          1.7  Versicolor\n78            6.0          2.9           4.5          1.5  Versicolor\n79            5.7          2.6           3.5          1.0  Versicolor\n..            ...          ...           ...          ...         ...\n120           6.9          3.2           5.7          2.3   Virginica\n121           5.6          2.8           4.9          2.0   Virginica\n122           7.7          2.8           6.7          2.0   Virginica\n123           6.3          2.7           4.9          1.8   Virginica\n124           6.7          3.3           5.7          2.1   Virginica\n125           7.2          3.2           6.0          1.8   Virginica\n126           6.2          2.8           4.8          1.8   Virginica\n127           6.1          3.0           4.9          1.8   Virginica\n128           6.4          2.8           5.6          2.1   Virginica\n129           7.2          3.0           5.8          1.6   Virginica\n130           7.4          2.8           6.1          1.9   Virginica\n131           7.9          3.8           6.4          2.0   Virginica\n132           6.4          2.8           5.6          2.2   Virginica\n133           6.3          2.8           5.1          1.5   Virginica\n134           6.1          2.6           5.6          1.4   Virginica\n135           7.7          3.0           6.1          2.3   Virginica\n136           6.3          3.4           5.6          2.4   Virginica\n137           6.4          3.1           5.5          1.8   Virginica\n138           6.0          3.0           4.8          1.8   Virginica\n139           6.9          3.1           5.4          2.1   Virginica\n140           6.7          3.1           5.6          2.4   Virginica\n141           6.9          3.1           5.1          2.3   Virginica\n142           5.8          2.7           5.1          1.9   Virginica\n143           6.8          3.2           5.9          2.3   Virginica\n144           6.7          3.3           5.7          2.5   Virginica\n145           6.7          3.0           5.2          2.3   Virginica\n146           6.3          2.5           5.0          1.9   Virginica\n147           6.5          3.0           5.2          2.0   Virginica\n148           6.2          3.4           5.4          2.3   Virginica\n149           5.9          3.0           5.1          1.8   Virginica\n\n[100 rows x 5 columns]",
      "\n"
     ],
     "output_type": "stream"
    }
   ],
   "source": [
    "attr1 = 'petal.length'\n",
    "attr2 = 'petal.width'\n",
    "attributes = [attr1, attr2]\n",
    "m = len(attributes)\n",
    "\n",
    "df_short = df[df['variety'] != 'Setosa']\n",
    "print(df_short)"
   ],
   "metadata": {
    "collapsed": false,
    "pycharm": {
     "name": "#%%\n",
     "is_executing": false
    }
   }
  },
  {
   "cell_type": "code",
   "execution_count": 66,
   "outputs": [
    {
     "name": "stdout",
     "text": [
      "Velicina skupa podataka: 100\n"
     ],
     "output_type": "stream"
    }
   ],
   "source": [
    "N = df_short.shape[0]\n",
    "print(f'Velicina skupa podataka: {N}')\n",
    "\n",
    "X = np.ones((N, m + 1))\n",
    "X[:, 1] = df_short[attr1]\n",
    "X[:, 2] = df_short[attr2]\n",
    "\n",
    "y = df_short['variety']"
   ],
   "metadata": {
    "collapsed": false,
    "pycharm": {
     "name": "#%%\n",
     "is_executing": false
    }
   }
  },
  {
   "cell_type": "code",
   "execution_count": 67,
   "outputs": [
    {
     "name": "stdout",
     "text": [
      "Mapiranje imena klasa u numericke vrednosti:\nVersicolor -> 0\nVirginica -> 1\n\nMapiranje numerickih vrednosti u odgovarajuce nazive klasa:\n0 -> Versicolor\n1 -> Virginica\n"
     ],
     "output_type": "stream"
    }
   ],
   "source": [
    "classes = df_short['variety'].unique()\n",
    "n_classes = len(classes)\n",
    "\n",
    "name_to_class_dict = dict(zip(classes, range(n_classes)))\n",
    "class_to_name_dict = dict(zip(range(n_classes), classes))\n",
    "\n",
    "print(f'Mapiranje imena klasa u numericke vrednosti:')\n",
    "for name, cls in name_to_class_dict.items():\n",
    "    print(f'{name} -> {cls}')\n",
    "\n",
    "print()\n",
    "print(f'Mapiranje numerickih vrednosti u odgovarajuce nazive klasa:')\n",
    "for cls, name in class_to_name_dict.items():\n",
    "    print(f'{cls} -> {name}')"
   ],
   "metadata": {
    "collapsed": false,
    "pycharm": {
     "name": "#%%\n",
     "is_executing": false
    }
   }
  },
  {
   "cell_type": "code",
   "execution_count": 68,
   "outputs": [
    {
     "data": {
      "text/plain": "<matplotlib.legend.Legend at 0x9ec2978>"
     },
     "metadata": {},
     "output_type": "execute_result",
     "execution_count": 68
    },
    {
     "data": {
      "text/plain": "<Figure size 432x288 with 1 Axes>",
      "image/png": "[encoded data removed]"
     },
     "metadata": {
      "needs_background": "light"
     },
     "output_type": "display_data"
    }
   ],
   "source": [
    "colors = ['red', 'blue']\n",
    "for c, cls in zip(colors, classes):\n",
    "    subsample = df.loc[df['variety'] == cls]\n",
    "    plt.scatter(subsample[attr1], subsample[attr2], color=c)\n",
    "    \n",
    "plt.xlabel(attr1)\n",
    "plt.ylabel(attr2)\n",
    "\n",
    "plt.legend(classes)"
   ],
   "metadata": {
    "collapsed": false,
    "pycharm": {
     "name": "#%%\n",
     "is_executing": false
    }
   }
  },
  {
   "cell_type": "code",
   "execution_count": 69,
   "outputs": [],
   "source": [
    "y = y.replace(name_to_class_dict)\n",
    "y = np.array(y).reshape(-1, 1)"
   ],
   "metadata": {
    "collapsed": false,
    "pycharm": {
     "name": "#%%\n",
     "is_executing": false
    }
   }
  },
  {
   "cell_type": "code",
   "execution_count": 70,
   "outputs": [
    {
     "name": "stdout",
     "text": [
      "Podaci:\n[[1.  4.7 1.4]\n [1.  4.5 1.5]\n [1.  4.9 1.5]\n [1.  4.  1.3]\n [1.  4.6 1.5]\n [1.  4.5 1.3]\n [1.  4.7 1.6]\n [1.  3.3 1. ]\n [1.  4.6 1.3]\n [1.  3.9 1.4]]\n ...\nCiljne promenljive:\n[[0]\n [0]\n [0]\n [0]\n [0]\n [0]\n [0]\n [0]\n [0]\n [0]]\n ...\n"
     ],
     "output_type": "stream"
    }
   ],
   "source": [
    "print(f'Podaci:')\n",
    "print(X[:10])\n",
    "print(' ...')\n",
    "\n",
    "print(f'Ciljne promenljive:')\n",
    "print(y[:10])\n",
    "print(' ...')"
   ],
   "metadata": {
    "collapsed": false,
    "pycharm": {
     "name": "#%%\n",
     "is_executing": false
    }
   }
  },
  {
   "cell_type": "code",
   "execution_count": 93,
   "outputs": [
    {
     "name": "stdout",
     "text": [
      "~ Neural network ~\nLayer 1:\n[1. 1. 1.]\nLayer 2:\n[1. 1. 1.]\nLayer 3:\n[1. 1. 1.]\nLayer 4:\n[1.]\n\nDimenzije matrica modela koji mapiraju slojeve:\n0 -> 1: 2 x 3\n1 -> 2: 2 x 3\n2 -> 3: 1 x 3\n\nModel:\nW_0: 0 -> 1\n[[ 0.2102487  -0.88563106 -0.65365835]\n [-0.68339839 -0.14446353 -0.42374298]]\nW_1: 1 -> 2\n[[-0.56786989  0.09544584 -0.83043103]\n [ 0.9486589   0.05803493  0.87375211]]\nW_2: 2 -> 3\n[[ 0.35733447 -0.42599028 -0.30439753]]\n"
     ],
     "output_type": "stream"
    }
   ],
   "source": [
    "# nn = NeuralNetwork(m, [3, 4], 1)\n",
    "nn = NeuralNetwork(m, [m, m], 1)\n",
    "nn.print_network()\n",
    "print()\n",
    "\n",
    "nn.print_layer_mapper_sizes()\n",
    "print()\n",
    "\n",
    "nn.set_model(nn.model * 100)\n",
    "nn.print_model()"
   ],
   "metadata": {
    "collapsed": false,
    "pycharm": {
     "name": "#%%\n",
     "is_executing": false
    }
   }
  },
  {
   "cell_type": "code",
   "execution_count": 97,
   "outputs": [
    {
     "name": "stdout",
     "text": [
      "gradient (backpropagation):\n[-3.21192222e-05 -1.17424391e-04 -3.35939003e-05  2.50424302e-04\n  3.19164826e-04 -6.66990227e-05  6.04479300e-04 -2.51326576e-04\n -1.05879879e-03  4.85902877e-04 -1.52526381e-04 -6.34428875e-04\n -3.28064245e-03 -3.25706051e-03 -4.20061262e-04]\n\ngrad_approx (gradient checking):\n[-3.64463660e-06 -4.00002506e-06  9.12163702e-07  2.66483091e-03\n  1.80045051e-02  6.84055113e-03 -2.64959733e-01 -9.05423382e-02\n -1.90386663e-01  4.22175547e-02 -8.50266671e-05  2.83984053e-03\n  0.00000000e+00  0.00000000e+00  0.00000000e+00]\n\nDifference:\n[2.84745856e-05 1.13424366e-04 3.45060640e-05 2.41440661e-03\n 1.76853402e-02 6.90725016e-03 2.65564213e-01 9.02910116e-02\n 1.89327865e-01 4.17316518e-02 6.74997140e-05 3.47426941e-03\n 3.28064245e-03 3.25706051e-03 4.20061262e-04]\n"
     ],
     "output_type": "stream"
    }
   ],
   "source": [
    "lambda_param = 0\n",
    "eps = 10e-2\n",
    "\n",
    "loss, gradient = nn.backward_propagation(X, y, lambda_param)\n",
    "grad_approx = gradient_checking(X, y, nn.model, lambda_param, eps)\n",
    "\n",
    "print('gradient (backpropagation):')\n",
    "print(gradient)\n",
    "print()\n",
    "\n",
    "print('grad_approx (gradient checking):')\n",
    "print(grad_approx)\n",
    "\n",
    "diff = abs(gradient - grad_approx)\n",
    "print('\\nDifference:')\n",
    "print(diff)"
   ],
   "metadata": {
    "collapsed": false,
    "pycharm": {
     "name": "#%%\n",
     "is_executing": false
    }
   }
  },
  {
   "cell_type": "code",
   "execution_count": 19,
   "outputs": [
    {
     "data": {
      "text/plain": "<Figure size 432x288 with 1 Axes>",
      "image/png": "[encoded data removed]"
     },
     "metadata": {
      "needs_background": "light"
     },
     "output_type": "display_data"
    }
   ],
   "source": [
    "nn.fit(X, y, alpha=10e-6, plot=True)"
   ],
   "metadata": {
    "collapsed": false,
    "pycharm": {
     "name": "#%%\n",
     "is_executing": false
    }
   }
  },
  {
   "cell_type": "code",
   "execution_count": 20,
   "outputs": [
    {
     "name": "stdout",
     "text": [
      "Istrenirani model: \nModel:\nW_0: 0 -> 1\n[[ 0.00519806 -0.00506938  0.00992735]\n [ 0.00331246  0.00680432  0.00422209]]\nW_1: 1 -> 2\n[[-0.00578401 -0.00185166 -0.00272882]\n [ 0.00419984 -0.00473241  0.00934449]]\nW_2: 2 -> 3\n[[-0.00578401 -0.00185166 -0.00272882]]\n"
     ],
     "output_type": "stream"
    }
   ],
   "source": [
    "print(f'Istrenirani model: ')\n",
    "nn.print_model()"
   ],
   "metadata": {
    "collapsed": false,
    "pycharm": {
     "name": "#%%\n",
     "is_executing": false
    }
   }
  },
  {
   "cell_type": "code",
   "execution_count": 22,
   "outputs": [],
   "source": [
    "petal_length = float(input('Unesite petal.length:'))\n",
    "petal_width = float(input('Unesite petal.width:'))"
   ],
   "metadata": {
    "collapsed": false,
    "pycharm": {
     "name": "#%%\n",
     "is_executing": false
    }
   }
  },
  {
   "cell_type": "code",
   "execution_count": 23,
   "outputs": [
    {
     "name": "stdout",
     "text": [
      "y_predict: 0.4979812610389185\nVersicolor\n"
     ],
     "output_type": "stream"
    }
   ],
   "source": [
    "x = np.array([1, petal_length, petal_width])\n",
    "nn.predict(x, class_to_name_dict)"
   ],
   "metadata": {
    "collapsed": false,
    "pycharm": {
     "name": "#%%\n",
     "is_executing": false
    }
   }
  },
  {
   "cell_type": "code",
   "execution_count": null,
   "outputs": [],
   "source": [
    "# loss, gradient = nn.backward_propagation(X, y)\n",
    "# print(f'\\nLoss = {loss}')\n",
    "# print(f'\\nGradient:')\n",
    "# print(gradient)"
   ],
   "metadata": {
    "collapsed": false,
    "pycharm": {
     "name": "#%%\n"
    }
   }
  },
  {
   "cell_type": "code",
   "execution_count": 27,
   "outputs": [],
   "source": [
    "# W_0 = np.array([[1, 1, 1, 1, 1, 1, 1], [2, 2, 2, 2, 2, 2, 2], [3, 3, 3, 3, 3, 3, 3]])\n",
    "# W_1 = np.array([[-1, -1, -1, -1], [-0.1, -0.2, -0.3, -0.4], [7, 7, 4, 4], [0, 2, 0, -3]])\n",
    "# W_2 = np.array([[5, 2, -5, -5, 10]])\n",
    "# # W_0 = np.array([[10, 1]])\n",
    "# # W_1 = np.array([[7, -10]])\n",
    "# \n",
    "# Ws = np.array([W_0, W_1, W_2])\n",
    "# nn.set_model(Ws)\n",
    "# nn.print_model()"
   ],
   "metadata": {
    "collapsed": false,
    "pycharm": {
     "name": "#%%\n",
     "is_executing": false
    }
   }
  },
  {
   "cell_type": "code",
   "execution_count": 24,
   "outputs": [
    {
     "name": "stdout",
     "text": [
      "0.4979812610389185\n"
     ],
     "output_type": "stream"
    }
   ],
   "source": [
    "x = np.array([1, 4.4, 3.2])\n",
    "y_predict = hypothesis_neural(nn.model, x)\n",
    "\n",
    "print(y_predict)"
   ],
   "metadata": {
    "collapsed": false,
    "pycharm": {
     "name": "#%%\n",
     "is_executing": false
    }
   }
  },
  {
   "cell_type": "code",
   "execution_count": 83,
   "outputs": [
    {
     "name": "stdout",
     "text": [
      "[1 2 3 4]\n[1 2 3 4]\nPosle promene:\n[0 0 0]\n[1 2 3 4]\n"
     ],
     "output_type": "stream"
    }
   ],
   "source": [
    "a = np.array([1, 2, 3, 4])\n",
    "b = a\n",
    "\n",
    "print(a)\n",
    "print(b)\n",
    "\n",
    "a = np.array([0, 0, 0])\n",
    "\n",
    "print('Posle promene:')\n",
    "print(a)\n",
    "print(b)\n"
   ],
   "metadata": {
    "collapsed": false,
    "pycharm": {
     "name": "#%%\n",
     "is_executing": false
    }
   }
  }
 ],
 "metadata": {
  "language_info": {
   "codemirror_mode": {
    "name": "ipython",
    "version": 2
   },
   "file_extension": ".py",
   "mimetype": "text/x-python",
   "name": "python",
   "nbconvert_exporter": "python",
   "pygments_lexer": "ipython2",
   "version": "2.7.6"
  },
  "kernelspec": {
   "name": "python3",
   "language": "python",
   "display_name": "Python 3"
  },
  "pycharm": {
   "stem_cell": {
    "cell_type": "raw",
    "source": [],
    "metadata": {
     "collapsed": false
    }
   }
  }
 },
 "nbformat": 4,
 "nbformat_minor": 0
}