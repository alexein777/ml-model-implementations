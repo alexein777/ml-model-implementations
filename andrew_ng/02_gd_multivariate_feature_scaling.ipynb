{
 "cells": [
  {
   "cell_type": "code",
   "execution_count": 1,
   "outputs": [],
   "source": [
    "# NAPOMENA: Predikcija za unete atribute je vrlo LOSA jer gradiejntni spust\n",
    "# pronalazi koeficijente w_i nad skaliranim atributima. Iako se uneti atributi skaliraju\n",
    "# pomocu zabelezenih avg/stddev iz odgovarajucih kolona, ipak se (iz nekog razloga) dobija los rezultat\n",
    "# (masi za nekih 8 mpg) !!!\n"
   ],
   "metadata": {
    "collapsed": false,
    "pycharm": {
     "name": "#%%\n",
     "is_executing": false
    }
   }
  },
  {
   "cell_type": "code",
   "execution_count": 2,
   "metadata": {
    "collapsed": true,
    "pycharm": {
     "is_executing": false
    }
   },
   "outputs": [],
   "source": [
    "import pandas as pd\n",
    "import numpy as np\n",
    "import matplotlib.pyplot as plt\n"
   ]
  },
  {
   "cell_type": "code",
   "execution_count": 3,
   "outputs": [],
   "source": [
    "def loss_function(X, y, w):\n",
    "    N = y.shape[0]\n",
    "    y_predict = X.dot(w)\n",
    "    diff = y_predict - y\n",
    "    \n",
    "    gradient = np.zeros(w.shape[0])\n",
    "    gradient = 1/N * (X.transpose().dot(diff))\n",
    "    \n",
    "    loss = 1/(2*N) * np.sum(diff ** 2)\n",
    "    \n",
    "    return loss, gradient"
   ],
   "metadata": {
    "collapsed": false,
    "pycharm": {
     "name": "#%%\n",
     "is_executing": false
    }
   }
  },
  {
   "cell_type": "code",
   "execution_count": 4,
   "outputs": [],
   "source": [
    "def gradient_descent(X, y, w, alpha=0.01, num_iter=100, eps=10e-5):\n",
    "    loss_history = np.zeros((num_iter, 1))\n",
    "    it_break = num_iter\n",
    "    \n",
    "    for i in range(num_iter):\n",
    "        loss, gradient = loss_function(X, y, w)        \n",
    "        w = w - alpha * gradient\n",
    "        \n",
    "        loss_history[i] = loss\n",
    "        # print(f'Iteration {i + 1}: Loss = {loss}')\n",
    "        \n",
    "        if i > 0 and np.abs(loss - loss_history[i-1]) <= eps:\n",
    "            it_break = i\n",
    "            break\n",
    "    \n",
    "    return w, loss_history, it_break"
   ],
   "metadata": {
    "collapsed": false,
    "pycharm": {
     "name": "#%%\n",
     "is_executing": false
    }
   }
  },
  {
   "cell_type": "code",
   "execution_count": 5,
   "outputs": [],
   "source": [
    "def show_model(model):\n",
    "    n = model.shape[0]\n",
    "    \n",
    "    print('f_w(x) = ', end='')\n",
    "    for i in range(n):\n",
    "        if i == 0:\n",
    "            print(f'{round(model[i][0], 3)} + ', end='')\n",
    "        elif i < n - 1:\n",
    "            print(f'{round(model[i][0], 3)}*x{i-1} + ', end='')\n",
    "        else:\n",
    "            print(f'{round(model[i][0], 3)}*x{i-1}', end='')\n",
    "    \n",
    "    print()       "
   ],
   "metadata": {
    "collapsed": false,
    "pycharm": {
     "name": "#%%\n",
     "is_executing": false
    }
   }
  },
  {
   "cell_type": "code",
   "execution_count": 6,
   "outputs": [],
   "source": [
    "def predict(model, instance):\n",
    "    return model.transpose().dot(instance)[0][0]"
   ],
   "metadata": {
    "collapsed": false,
    "pycharm": {
     "name": "#%%\n",
     "is_executing": false
    }
   }
  },
  {
   "cell_type": "code",
   "execution_count": 7,
   "outputs": [
    {
     "data": {
      "text/plain": "    mpg  cylinders  displacement  horsepower  weight  acceleration  model-year\n0  18.0          8         307.0       130.0    3504          12.0          70\n1  15.0          8         350.0       165.0    3693          11.5          70\n2  18.0          8         318.0       150.0    3436          11.0          70\n3  16.0          8         304.0       150.0    3433          12.0          70\n4  17.0          8         302.0       140.0    3449          10.5          70",
      "text/html": "<div>\n<style scoped>\n    .dataframe tbody tr th:only-of-type {\n        vertical-align: middle;\n    }\n\n    .dataframe tbody tr th {\n        vertical-align: top;\n    }\n\n    .dataframe thead th {\n        text-align: right;\n    }\n</style>\n<table border=\"1\" class=\"dataframe\">\n  <thead>\n    <tr style=\"text-align: right;\">\n      <th></th>\n      <th>mpg</th>\n      <th>cylinders</th>\n      <th>displacement</th>\n      <th>horsepower</th>\n      <th>weight</th>\n      <th>acceleration</th>\n      <th>model-year</th>\n    </tr>\n  </thead>\n  <tbody>\n    <tr>\n      <th>0</th>\n      <td>18.0</td>\n      <td>8</td>\n      <td>307.0</td>\n      <td>130.0</td>\n      <td>3504</td>\n      <td>12.0</td>\n      <td>70</td>\n    </tr>\n    <tr>\n      <th>1</th>\n      <td>15.0</td>\n      <td>8</td>\n      <td>350.0</td>\n      <td>165.0</td>\n      <td>3693</td>\n      <td>11.5</td>\n      <td>70</td>\n    </tr>\n    <tr>\n      <th>2</th>\n      <td>18.0</td>\n      <td>8</td>\n      <td>318.0</td>\n      <td>150.0</td>\n      <td>3436</td>\n      <td>11.0</td>\n      <td>70</td>\n    </tr>\n    <tr>\n      <th>3</th>\n      <td>16.0</td>\n      <td>8</td>\n      <td>304.0</td>\n      <td>150.0</td>\n      <td>3433</td>\n      <td>12.0</td>\n      <td>70</td>\n    </tr>\n    <tr>\n      <th>4</th>\n      <td>17.0</td>\n      <td>8</td>\n      <td>302.0</td>\n      <td>140.0</td>\n      <td>3449</td>\n      <td>10.5</td>\n      <td>70</td>\n    </tr>\n  </tbody>\n</table>\n</div>"
     },
     "metadata": {},
     "output_type": "execute_result",
     "execution_count": 7
    }
   ],
   "source": [
    "df = pd.read_csv('../datasets/auto-mpg.csv')\n",
    "df.head()"
   ],
   "metadata": {
    "collapsed": false,
    "pycharm": {
     "name": "#%%\n",
     "is_executing": false
    }
   }
  },
  {
   "cell_type": "code",
   "execution_count": 8,
   "outputs": [],
   "source": [
    "df = df.replace('?', np.nan)\n",
    "df = df.dropna()"
   ],
   "metadata": {
    "collapsed": false,
    "pycharm": {
     "name": "#%%\n",
     "is_executing": false
    }
   }
  },
  {
   "cell_type": "code",
   "execution_count": 9,
   "outputs": [
    {
     "data": {
      "text/plain": "0    18.0\n1    15.0\n2    18.0\n3    16.0\n4    17.0\nName: mpg, dtype: float64"
     },
     "metadata": {},
     "output_type": "execute_result",
     "execution_count": 9
    }
   ],
   "source": [
    "y = df['mpg']\n",
    "y.head()"
   ],
   "metadata": {
    "collapsed": false,
    "pycharm": {
     "name": "#%%\n",
     "is_executing": false
    }
   }
  },
  {
   "cell_type": "code",
   "execution_count": 10,
   "outputs": [
    {
     "data": {
      "text/plain": "   cylinders  displacement  horsepower  weight  acceleration  model-year\n0          8         307.0       130.0    3504          12.0          70\n1          8         350.0       165.0    3693          11.5          70\n2          8         318.0       150.0    3436          11.0          70\n3          8         304.0       150.0    3433          12.0          70\n4          8         302.0       140.0    3449          10.5          70",
      "text/html": "<div>\n<style scoped>\n    .dataframe tbody tr th:only-of-type {\n        vertical-align: middle;\n    }\n\n    .dataframe tbody tr th {\n        vertical-align: top;\n    }\n\n    .dataframe thead th {\n        text-align: right;\n    }\n</style>\n<table border=\"1\" class=\"dataframe\">\n  <thead>\n    <tr style=\"text-align: right;\">\n      <th></th>\n      <th>cylinders</th>\n      <th>displacement</th>\n      <th>horsepower</th>\n      <th>weight</th>\n      <th>acceleration</th>\n      <th>model-year</th>\n    </tr>\n  </thead>\n  <tbody>\n    <tr>\n      <th>0</th>\n      <td>8</td>\n      <td>307.0</td>\n      <td>130.0</td>\n      <td>3504</td>\n      <td>12.0</td>\n      <td>70</td>\n    </tr>\n    <tr>\n      <th>1</th>\n      <td>8</td>\n      <td>350.0</td>\n      <td>165.0</td>\n      <td>3693</td>\n      <td>11.5</td>\n      <td>70</td>\n    </tr>\n    <tr>\n      <th>2</th>\n      <td>8</td>\n      <td>318.0</td>\n      <td>150.0</td>\n      <td>3436</td>\n      <td>11.0</td>\n      <td>70</td>\n    </tr>\n    <tr>\n      <th>3</th>\n      <td>8</td>\n      <td>304.0</td>\n      <td>150.0</td>\n      <td>3433</td>\n      <td>12.0</td>\n      <td>70</td>\n    </tr>\n    <tr>\n      <th>4</th>\n      <td>8</td>\n      <td>302.0</td>\n      <td>140.0</td>\n      <td>3449</td>\n      <td>10.5</td>\n      <td>70</td>\n    </tr>\n  </tbody>\n</table>\n</div>"
     },
     "metadata": {},
     "output_type": "execute_result",
     "execution_count": 10
    }
   ],
   "source": [
    "X = df.drop('mpg', axis=1)\n",
    "X.head()"
   ],
   "metadata": {
    "collapsed": false,
    "pycharm": {
     "name": "#%%\n",
     "is_executing": false
    }
   }
  },
  {
   "cell_type": "code",
   "execution_count": null,
   "outputs": [
    {
     "name": "stdout",
     "text": [
      "Broj instanci: 396\n"
     ],
     "output_type": "stream"
    }
   ],
   "source": [
    "N = y.shape[0]\n",
    "print(f'Broj instanci: {N}')"
   ],
   "metadata": {
    "collapsed": false,
    "pycharm": {
     "name": "#%%\n",
     "is_executing": true
    }
   }
  },
  {
   "cell_type": "code",
   "execution_count": null,
   "outputs": [
    {
     "name": "stdout",
     "text": [
      "Broj atributa: 6\n"
     ],
     "output_type": "stream"
    }
   ],
   "source": [
    "m = X.shape[1]\n",
    "print(f'Broj atributa: {m}')"
   ],
   "metadata": {
    "collapsed": false,
    "pycharm": {
     "name": "#%%\n",
     "is_executing": true
    }
   }
  },
  {
   "cell_type": "code",
   "execution_count": null,
   "outputs": [
    {
     "name": "stdout",
     "text": [
      "['cylinders', 'displacement', 'horsepower', 'weight', 'acceleration', 'model-year']\n"
     ],
     "output_type": "stream"
    }
   ],
   "source": [
    "attributes = list(df.drop('mpg', axis=1).columns.values)\n",
    "print(attributes)"
   ],
   "metadata": {
    "collapsed": false,
    "pycharm": {
     "name": "#%%\n",
     "is_executing": true
    }
   }
  },
  {
   "cell_type": "code",
   "execution_count": 14,
   "outputs": [
    {
     "name": "stdout",
     "text": [
      "[[-1.46733290e-01]\n [-2.26520524e-01]\n [-1.46733290e-01]\n [-1.99924780e-01]\n [-1.73329035e-01]\n [-2.26520524e-01]\n [-2.53116269e-01]\n [-2.53116269e-01]\n [-2.53116269e-01]\n [-2.26520524e-01]\n [-2.26520524e-01]\n [-2.53116269e-01]\n [-2.26520524e-01]\n [-2.53116269e-01]\n [ 1.28411777e-02]\n [-4.03503116e-02]\n [-1.46733290e-01]\n [-6.69460563e-02]\n [ 9.26284118e-02]\n [ 6.60326671e-02]\n [ 3.94369224e-02]\n [ 1.28411777e-02]\n [ 3.94369224e-02]\n [ 6.60326671e-02]\n [-6.69460563e-02]\n [-3.59499248e-01]\n [-3.59499248e-01]\n [-3.32903503e-01]\n [-3.86094992e-01]\n [ 9.26284118e-02]\n [ 1.19224156e-01]\n [ 3.94369224e-02]\n [-1.20137546e-01]\n [-1.99924780e-01]\n [-1.73329035e-01]\n [-1.20137546e-01]\n [-1.46733290e-01]\n [-2.53116269e-01]\n [-2.53116269e-01]\n [-2.53116269e-01]\n [-2.53116269e-01]\n [-3.06307758e-01]\n [-2.79712014e-01]\n [-2.79712014e-01]\n [-1.46733290e-01]\n [-4.03503116e-02]\n [-1.20137546e-01]\n [-1.46733290e-01]\n [-1.37545669e-02]\n [ 1.19224156e-01]\n [ 1.72415646e-01]\n [ 1.72415646e-01]\n [ 1.99011391e-01]\n [ 3.05394369e-01]\n [ 9.26284118e-02]\n [ 6.60326671e-02]\n [ 1.28411777e-02]\n [ 3.94369224e-02]\n [-1.37545669e-02]\n [-9.35418010e-02]\n [-6.69460563e-02]\n [-2.79712014e-01]\n [-2.53116269e-01]\n [-2.26520524e-01]\n [-2.53116269e-01]\n [-1.73329035e-01]\n [-3.32903503e-01]\n [-2.79712014e-01]\n [-3.06307758e-01]\n [-2.79712014e-01]\n [-1.20137546e-01]\n [-2.26520524e-01]\n [-2.79712014e-01]\n [-2.79712014e-01]\n [-2.53116269e-01]\n [-1.46733290e-01]\n [-4.03503116e-02]\n [-6.69460563e-02]\n [ 6.60326671e-02]\n [-4.03503116e-02]\n [ 1.19224156e-01]\n [-1.37545669e-02]\n [ 1.19224156e-01]\n [ 9.26284118e-02]\n [-2.79712014e-01]\n [-2.53116269e-01]\n [-2.79712014e-01]\n [-2.53116269e-01]\n [-2.26520524e-01]\n [-3.06307758e-01]\n [-2.79712014e-01]\n [-2.79712014e-01]\n [-2.53116269e-01]\n [-2.79712014e-01]\n [-3.06307758e-01]\n [-2.79712014e-01]\n [-1.46733290e-01]\n [-1.99924780e-01]\n [-1.46733290e-01]\n [-1.46733290e-01]\n [-1.37545669e-02]\n [ 6.60326671e-02]\n [-3.32903503e-01]\n [-3.06307758e-01]\n [-2.79712014e-01]\n [-3.06307758e-01]\n [-1.46733290e-01]\n [-9.35418010e-02]\n [-6.69460563e-02]\n [-4.03503116e-02]\n [-1.46733290e-01]\n [-1.20137546e-01]\n [-6.69460563e-02]\n [ 6.60326671e-02]\n [-2.26520524e-01]\n [-1.99924780e-01]\n [ 1.45819901e-01]\n [ 1.28411777e-02]\n [-9.35418010e-02]\n [-1.20137546e-01]\n [-2.26520524e-01]\n [ 1.28411777e-02]\n [-9.35418010e-02]\n [-3.32903503e-01]\n [-9.35418010e-02]\n [-1.20137546e-01]\n [-2.26520524e-01]\n [ 1.99011391e-01]\n [ 6.60326671e-02]\n [ 2.25607135e-01]\n [ 3.94369224e-02]\n [-1.99924780e-01]\n [-1.99924780e-01]\n [-1.46733290e-01]\n [-1.99924780e-01]\n [-2.79712014e-01]\n [-2.53116269e-01]\n [-2.53116269e-01]\n [-2.53116269e-01]\n [ 1.45819901e-01]\n [ 6.60326671e-02]\n [ 6.60326671e-02]\n [ 1.99011391e-01]\n [ 2.25607135e-01]\n [ 1.19224156e-01]\n [ 1.28411777e-02]\n [ 6.60326671e-02]\n [ 1.28411777e-02]\n [ 6.60326671e-02]\n [ 1.99011391e-01]\n [-1.20137546e-01]\n [-1.46733290e-01]\n [-2.26520524e-01]\n [-2.26520524e-01]\n [-1.99924780e-01]\n [-2.26520524e-01]\n [-1.99924780e-01]\n [-2.53116269e-01]\n [-1.73329035e-01]\n [-1.99924780e-01]\n [-2.26520524e-01]\n [-1.46733290e-01]\n [-6.69460563e-02]\n [-9.35418010e-02]\n [-2.79712014e-01]\n [ 1.45819901e-01]\n [-1.37545669e-02]\n [-9.35418010e-02]\n [-1.37545669e-02]\n [ 1.28411777e-02]\n [ 3.94369224e-02]\n [ 1.28411777e-02]\n [-1.46733290e-01]\n [ 1.45819901e-01]\n [-1.20137546e-01]\n [-1.37545669e-02]\n [-1.37545669e-02]\n [-4.03503116e-02]\n [ 3.94369224e-02]\n [ 2.52202880e-01]\n [ 1.19224156e-01]\n [ 3.94369224e-02]\n [ 3.94369224e-02]\n [ 6.60326671e-02]\n [ 9.26284118e-02]\n [-1.60031163e-01]\n [-1.99924780e-01]\n [-2.13222652e-01]\n [-2.39818397e-01]\n [-4.03503116e-02]\n [-4.03503116e-02]\n [ 1.28411777e-02]\n [-2.70524393e-02]\n [ 1.45819901e-01]\n [ 2.61390501e-02]\n [ 1.45819901e-01]\n [ 2.52202880e-01]\n [-9.35418010e-02]\n [-1.46733290e-01]\n [-1.33435418e-01]\n [-1.60031163e-01]\n [ 1.59117773e-01]\n [ 2.25607135e-01]\n [ 1.19224156e-01]\n [ 7.93305394e-02]\n [-9.35418010e-02]\n [-2.79712014e-01]\n [-1.20137546e-01]\n [-1.20137546e-01]\n [-1.86626907e-01]\n [-1.86626907e-01]\n [-2.79712014e-01]\n [-2.79712014e-01]\n [-2.79712014e-01]\n [ 2.12309263e-01]\n [ 1.72415646e-01]\n [ 3.31990114e-01]\n [ 5.27347948e-02]\n [ 2.65500752e-01]\n [-1.60031163e-01]\n [-1.73329035e-01]\n [-2.13222652e-01]\n [-2.26520524e-01]\n [-1.60031163e-01]\n [-8.02439286e-02]\n [-1.20137546e-01]\n [-1.33435418e-01]\n [-1.99924780e-01]\n [-2.13222652e-01]\n [-2.13222652e-01]\n [-1.99924780e-01]\n [ 1.45819901e-01]\n [ 2.61390501e-02]\n [ 6.60326671e-02]\n [ 5.27347948e-02]\n [ 1.85713518e-01]\n [ 2.65500752e-01]\n [ 1.72415646e-01]\n [ 1.85713518e-01]\n [-4.03503116e-02]\n [-5.36481840e-02]\n [-5.36481840e-02]\n [ 5.20819901e-01]\n [ 3.34649688e-01]\n [ 2.46883731e-01]\n [ 4.22415646e-01]\n [ 3.34649688e-01]\n [-9.62013755e-02]\n [-1.09499248e-01]\n [-8.82226521e-02]\n [-1.14818397e-01]\n [-8.02439286e-02]\n [-8.82226521e-02]\n [ 4.20964969e-02]\n [-8.02439286e-02]\n [-1.09499248e-01]\n [-7.75843542e-02]\n [-7.22652052e-02]\n [-1.30775844e-01]\n [-1.44073716e-01]\n [-1.14818397e-01]\n [-1.54712014e-01]\n [-1.44073716e-01]\n [-1.60031163e-01]\n [ 1.72415646e-01]\n [ 1.05926284e-01]\n [ 9.79475607e-02]\n [ 1.96351816e-01]\n [-6.42864818e-02]\n [-8.43541801e-03]\n [ 7.52202880e-03]\n [ 1.01816033e-02]\n [-8.55630776e-02]\n [-1.73329035e-01]\n [-5.09886095e-02]\n [-1.94605631e-01]\n [ 2.12309263e-01]\n [ 1.59117773e-01]\n [-5.36481840e-02]\n [-9.88609499e-02]\n [-3.23715882e-02]\n [-8.82226521e-02]\n [-7.75843542e-02]\n [-1.73329035e-01]\n [-1.57371588e-01]\n [-1.86626907e-01]\n [-1.41414141e-01]\n [-1.75988609e-01]\n [-2.13222652e-01]\n [-1.14818397e-01]\n [-1.33435418e-01]\n [ 2.22947561e-01]\n [ 2.81458199e-01]\n [ 3.24011391e-01]\n [ 1.03266710e-01]\n [ 5.00752203e-02]\n [-1.37545669e-02]\n [ 9.79475607e-02]\n [ 1.01816033e-02]\n [ 2.84117773e-01]\n [ 2.92096497e-01]\n [ 2.20287986e-01]\n [ 3.66564582e-01]\n [ 1.29862454e-01]\n [ 1.40500752e-01]\n [ 8.73092628e-02]\n [ 2.65500752e-01]\n [ 4.78266710e-01]\n [ 3.87841178e-01]\n [ 2.28266710e-01]\n [ 3.63905008e-01]\n [ 1.19224156e-01]\n [ 7.66709650e-02]\n [ 2.08199011e-02]\n [-1.17477971e-01]\n [ 2.86777348e-01]\n [ 1.67096497e-01]\n [ 2.06990114e-01]\n [ 3.58585859e-01]\n [ 2.30926284e-01]\n [ 6.13905008e-01]\n [ 1.16564582e-01]\n [ 4.59649688e-01]\n [ 5.52734795e-01]\n [ 5.28798625e-01]\n [ 3.42628412e-01]\n [ 1.72415646e-01]\n [ 5.60713518e-01]\n [ 4.62309263e-01]\n [ 2.73479476e-01]\n [ 1.67096497e-01]\n [ 2.44224156e-01]\n [ 4.86245433e-03]\n [ 3.05394369e-01]\n [ 2.20287986e-03]\n [ 2.36245433e-01]\n [ 9.79475607e-02]\n [ 8.19901139e-02]\n [ 6.07135182e-02]\n [-4.56694606e-04]\n [ 1.72415646e-01]\n [ 4.14436922e-01]\n [ 4.11777348e-01]\n [ 3.08053944e-01]\n [ 2.33585859e-01]\n [ 3.58585859e-01]\n [ 3.77202880e-01]\n [ 2.81458199e-01]\n [ 2.97415646e-01]\n [ 2.89436922e-01]\n [ 1.69756071e-01]\n [ 2.52202880e-01]\n [ 2.92096497e-01]\n [ 2.70819901e-01]\n [ 2.36245433e-01]\n [ 2.49543305e-01]\n [ 2.14968837e-01]\n [ 1.21883731e-01]\n [ 1.91032667e-01]\n [ 5.00752203e-02]\n [ 1.81603267e-02]\n [-2.97120138e-02]\n [ 8.19901139e-02]\n [-8.82226521e-02]\n [-1.57371588e-01]\n [ 1.19224156e-01]\n [ 9.26284118e-02]\n [ 2.78798625e-01]\n [ 1.99011391e-01]\n [ 1.45819901e-01]\n [ 9.26284118e-02]\n [ 1.28411777e-02]\n [-1.37545669e-02]\n [ 3.31990114e-01]\n [ 3.58585859e-01]\n [ 1.99011391e-01]\n [ 3.85181603e-01]\n [ 3.31990114e-01]\n [ 3.31990114e-01]\n [ 3.31990114e-01]\n [ 2.78798625e-01]\n [ 3.85181603e-01]\n [ 2.25607135e-01]\n [ 3.85181603e-01]\n [ 3.94369224e-02]\n [ 3.85181603e-01]\n [ 6.60326671e-02]\n [-4.03503116e-02]\n [ 2.25607135e-01]\n [ 3.31990114e-01]\n [ 9.26284118e-02]\n [ 9.26284118e-02]\n [ 5.44756071e-01]\n [ 2.25607135e-01]\n [ 1.19224156e-01]\n [ 1.99011391e-01]]\n"
     ],
     "output_type": "stream"
    }
   ],
   "source": [
    "y = np.array(y)\n",
    "\n",
    "avg = np.average(y)\n",
    "stddev = np.max(y) - np.min(y)\n",
    "\n",
    "y = np.array(list(map(lambda x: (x - avg) / stddev, y))).reshape(-1, 1)\n",
    "print(y)"
   ],
   "metadata": {
    "collapsed": false,
    "pycharm": {
     "name": "#%%\n",
     "is_executing": false
    }
   }
  },
  {
   "cell_type": "code",
   "execution_count": null,
   "outputs": [
    {
     "name": "stdout",
     "text": [
      "Podaci u numpy formatu:\n[[ 1.         -0.14673329  0.50858586 ...  0.14027503  0.15055288\n  -0.21165524]\n [ 1.         -0.22652052  0.50858586 ...  0.33049242  0.2041395\n  -0.24141715]\n [ 1.         -0.14673329  0.50858586 ...  0.24897069  0.13127304\n  -0.27117905]\n ...\n [ 1.          0.22560714 -0.29141414 ... -0.10972497 -0.19223136\n  -0.23546477]\n [ 1.          0.11922416 -0.29141414 ... -0.13689888 -0.09866742\n   0.1812019 ]\n [ 1.          0.19901139 -0.29141414 ... -0.12059453 -0.07173235\n   0.22882095]]\n"
     ],
     "output_type": "stream"
    }
   ],
   "source": [
    "X = np.ones((N, m + 1))\n",
    "scale_mapping = {}\n",
    "\n",
    "for i in range(m):\n",
    "    attr_i = df.iloc[:, i]\n",
    "    avg = np.average(attr_i)\n",
    "    stddev = np.max(attr_i) - np.min(attr_i)\n",
    "    \n",
    "    scale_mapping[str(i)] = (avg, stddev)\n",
    "    X[:, i + 1] = np.array(list(map(lambda a: (a - avg) / stddev, attr_i)))\n",
    "\n",
    "print('Podaci u numpy formatu:')\n",
    "print(X)"
   ],
   "metadata": {
    "collapsed": false,
    "pycharm": {
     "name": "#%%\n",
     "is_executing": true
    }
   }
  },
  {
   "cell_type": "code",
   "execution_count": 16,
   "outputs": [
    {
     "name": "stdout",
     "text": [
      "Inicijalizacija w:\n[[0.]\n [0.]\n [0.]\n [0.]\n [0.]\n [0.]\n [0.]]\n"
     ],
     "output_type": "stream"
    }
   ],
   "source": [
    "w_init = np.zeros((m + 1, 1))\n",
    "print('Inicijalizacija w:')\n",
    "print(w_init)"
   ],
   "metadata": {
    "collapsed": false,
    "pycharm": {
     "name": "#%%\n",
     "is_executing": false
    }
   }
  },
  {
   "cell_type": "code",
   "execution_count": 29,
   "outputs": [
    {
     "name": "stdout",
     "text": [
      "[[0.02165231]\n [0.02155243]\n [0.02145316]\n ...\n [0.        ]\n [0.        ]\n [0.        ]]\nLast iteration: 395\n"
     ],
     "output_type": "stream"
    }
   ],
   "source": [
    "alpha = 0.01\n",
    "num_iter = 6500\n",
    "eps = 10e-6\n",
    "\n",
    "w, loss_history, it_break = gradient_descent(X, y, w_init, alpha, num_iter, eps)\n",
    "print(loss_history)\n",
    "print(f'Last iteration: {it_break}')"
   ],
   "metadata": {
    "collapsed": false,
    "pycharm": {
     "name": "#%%\n",
     "is_executing": false
    }
   }
  },
  {
   "cell_type": "code",
   "execution_count": null,
   "outputs": [
    {
     "name": "stdout",
     "text": [
      "Trained model:\nf_w(x) = 0.0 + 0.117*x0 + -0.119*x1 + -0.1*x2 + -0.076*x3 + -0.096*x4 + 0.029*x5\n"
     ],
     "output_type": "stream"
    }
   ],
   "source": [
    "print(f'Trained model:')\n",
    "show_model(w)"
   ],
   "metadata": {
    "collapsed": false,
    "pycharm": {
     "name": "#%%\n",
     "is_executing": true
    }
   }
  },
  {
   "cell_type": "code",
   "execution_count": 31,
   "outputs": [
    {
     "data": {
      "text/plain": "<Figure size 432x288 with 1 Axes>",
      "image/png": "[encoded data removed]"
     },
     "metadata": {
      "needs_background": "light"
     },
     "output_type": "display_data"
    }
   ],
   "source": [
    "plt.plot(range(it_break), loss_history[:it_break, 0], color='aqua')\n",
    "plt.xlabel('Iteration')\n",
    "plt.ylabel('Loss')\n",
    "\n",
    "plt.title('Loss function with respect to number of iterations')\n",
    "plt.show()"
   ],
   "metadata": {
    "collapsed": false,
    "pycharm": {
     "name": "#%%\n",
     "is_executing": false
    }
   }
  },
  {
   "cell_type": "code",
   "execution_count": 32,
   "outputs": [],
   "source": [
    "cylinders = int(input('Cylinders: '))\n",
    "displacement = float(input('Displacement: '))\n",
    "horsepower = float(input('Horsepower: '))\n",
    "weight = float(input('Weight: '))\n",
    "acceleration = float(input('Acceleration: '))\n",
    "model_year = float(input('Model-year: '))"
   ],
   "metadata": {
    "collapsed": false,
    "pycharm": {
     "name": "#%%\n",
     "is_executing": false
    }
   }
  },
  {
   "cell_type": "code",
   "execution_count": 22,
   "outputs": [],
   "source": [
    "input_attrs = [cylinders, displacement, horsepower, weight, acceleration, model_year]\n",
    "x = [1]\n",
    "for i in range(m):\n",
    "    x_i = input_attrs[i]\n",
    "    (avg, stddev) = scale_mapping[str(i)]\n",
    "\n",
    "    x_i_scaled = (x_i + avg) / stddev\n",
    "    x.append(x_i_scaled)\n"
   ],
   "metadata": {
    "collapsed": false,
    "pycharm": {
     "name": "#%%\n",
     "is_executing": false
    }
   }
  },
  {
   "cell_type": "code",
   "execution_count": null,
   "outputs": [
    {
     "name": "stdout",
     "text": [
      "Instance:\n[[1.000e+00]\n [8.000e+00]\n [3.550e+02]\n [1.600e+02]\n [3.515e+03]\n [1.150e+01]\n [7.000e+01]]\n"
     ],
     "output_type": "stream"
    }
   ],
   "source": [
    "x = [1, cylinders, displacement, horsepower, weight, acceleration, model_year]\n",
    "x = np.array(x).reshape(-1, 1)\n",
    "\n",
    "print('Instance:')\n",
    "print(x)"
   ],
   "metadata": {
    "collapsed": false,
    "pycharm": {
     "name": "#%%\n",
     "is_executing": true
    }
   }
  },
  {
   "cell_type": "code",
   "execution_count": 35,
   "outputs": [
    {
     "name": "stdout",
     "text": [
      "Mpg = -323.6986212515555\nscaled mpg = -5422.581028945325\n"
     ],
     "output_type": "stream"
    }
   ],
   "source": [
    "predicted_mpg = predict(w, x)\n",
    "print(f'Mpg = {predicted_mpg}')\n",
    "print(f'scaled mpg = {predicted_mpg* stddev + avg}')"
   ],
   "metadata": {
    "collapsed": false,
    "pycharm": {
     "name": "#%%\n",
     "is_executing": false
    }
   }
  },
  {
   "cell_type": "code",
   "execution_count": null,
   "outputs": [],
   "source": [
    "\n"
   ],
   "metadata": {
    "collapsed": false,
    "pycharm": {
     "name": "#%%\n"
    }
   }
  }
 ],
 "metadata": {
  "language_info": {
   "codemirror_mode": {
    "name": "ipython",
    "version": 2
   },
   "file_extension": ".py",
   "mimetype": "text/x-python",
   "name": "python",
   "nbconvert_exporter": "python",
   "pygments_lexer": "ipython2",
   "version": "2.7.6"
  },
  "kernelspec": {
   "name": "python3",
   "language": "python",
   "display_name": "Python 3"
  },
  "pycharm": {
   "stem_cell": {
    "cell_type": "raw",
    "source": [],
    "metadata": {
     "collapsed": false
    }
   }
  }
 },
 "nbformat": 4,
 "nbformat_minor": 0
}