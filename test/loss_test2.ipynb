{
 "cells": [
  {
   "cell_type": "code",
   "execution_count": 2,
   "outputs": [],
   "source": [
    "from neural_implementation import neural_classification as nc\n",
    "import pandas as pd\n",
    "import numpy as np\n",
    "import matplotlib.pyplot as plt\n",
    "from sklearn.model_selection import train_test_split"
   ],
   "metadata": {
    "collapsed": false,
    "pycharm": {
     "name": "#%%\n",
     "is_executing": false
    }
   }
  },
  {
   "cell_type": "code",
   "execution_count": 3,
   "outputs": [
    {
     "data": {
      "text/plain": "   sepal.length  sepal.width  petal.length  petal.width variety\n0           5.1          3.5           1.4          0.2  Setosa\n1           4.9          3.0           1.4          0.2  Setosa\n2           4.7          3.2           1.3          0.2  Setosa\n3           4.6          3.1           1.5          0.2  Setosa\n4           5.0          3.6           1.4          0.2  Setosa",
      "text/html": "<div>\n<style scoped>\n    .dataframe tbody tr th:only-of-type {\n        vertical-align: middle;\n    }\n\n    .dataframe tbody tr th {\n        vertical-align: top;\n    }\n\n    .dataframe thead th {\n        text-align: right;\n    }\n</style>\n<table border=\"1\" class=\"dataframe\">\n  <thead>\n    <tr style=\"text-align: right;\">\n      <th></th>\n      <th>sepal.length</th>\n      <th>sepal.width</th>\n      <th>petal.length</th>\n      <th>petal.width</th>\n      <th>variety</th>\n    </tr>\n  </thead>\n  <tbody>\n    <tr>\n      <th>0</th>\n      <td>5.1</td>\n      <td>3.5</td>\n      <td>1.4</td>\n      <td>0.2</td>\n      <td>Setosa</td>\n    </tr>\n    <tr>\n      <th>1</th>\n      <td>4.9</td>\n      <td>3.0</td>\n      <td>1.4</td>\n      <td>0.2</td>\n      <td>Setosa</td>\n    </tr>\n    <tr>\n      <th>2</th>\n      <td>4.7</td>\n      <td>3.2</td>\n      <td>1.3</td>\n      <td>0.2</td>\n      <td>Setosa</td>\n    </tr>\n    <tr>\n      <th>3</th>\n      <td>4.6</td>\n      <td>3.1</td>\n      <td>1.5</td>\n      <td>0.2</td>\n      <td>Setosa</td>\n    </tr>\n    <tr>\n      <th>4</th>\n      <td>5.0</td>\n      <td>3.6</td>\n      <td>1.4</td>\n      <td>0.2</td>\n      <td>Setosa</td>\n    </tr>\n  </tbody>\n</table>\n</div>"
     },
     "metadata": {},
     "output_type": "execute_result",
     "execution_count": 3
    }
   ],
   "source": [
    "# UCITAVANJE PODATAKA I TESTIRANJE\n",
    "\n",
    "df = pd.read_csv('../datasets/iris_extended.csv')\n",
    "df.head()"
   ],
   "metadata": {
    "collapsed": false,
    "pycharm": {
     "name": "#%%\n",
     "is_executing": false
    }
   }
  },
  {
   "cell_type": "code",
   "execution_count": 4,
   "outputs": [
    {
     "name": "stdout",
     "text": [
      "Ukupan broj podataka: 250\nBroj atributa svakog podatka: 4\nAtributi: ['sepal.length', 'sepal.width', 'petal.length', 'petal.width']\n"
     ],
     "output_type": "stream"
    }
   ],
   "source": [
    "N = df.shape[0]\n",
    "print(f'Ukupan broj podataka: {N}')\n",
    "\n",
    "m = df.shape[1] - 1\n",
    "print(f'Broj atributa svakog podatka: {m}')\n",
    "\n",
    "attributes = list(df.drop('variety', axis=True).columns)\n",
    "print(f'Atributi: {attributes}')"
   ],
   "metadata": {
    "collapsed": false,
    "pycharm": {
     "name": "#%%\n",
     "is_executing": false
    }
   }
  },
  {
   "cell_type": "code",
   "execution_count": 5,
   "outputs": [
    {
     "name": "stdout",
     "text": [
      "Velicina skupa podataka: 250\n"
     ],
     "output_type": "stream"
    }
   ],
   "source": [
    "attr1 = 'petal.length'\n",
    "attr2 = 'petal.width'\n",
    "attributes = [attr1, attr2]\n",
    "m = len(attributes)\n",
    "\n",
    "N = df.shape[0]\n",
    "print(f'Velicina skupa podataka: {N}')"
   ],
   "metadata": {
    "collapsed": false,
    "pycharm": {
     "name": "#%%\n",
     "is_executing": false
    }
   }
  },
  {
   "cell_type": "code",
   "execution_count": 6,
   "outputs": [
    {
     "name": "stdout",
     "text": [
      "Klase: ['Setosa' 'Versicolor' 'Virginica' 'Letosa' 'Helenica']\nBroj klasa: 5\n\nMapiranje imena klasa u numericke vrednosti:\nSetosa -> 0\nVersicolor -> 1\nVirginica -> 2\nLetosa -> 3\nHelenica -> 4\n\nMapiranje numerickih vrednosti u odgovarajuce nazive klasa:\n0 -> Setosa\n1 -> Versicolor\n2 -> Virginica\n3 -> Letosa\n4 -> Helenica\n"
     ],
     "output_type": "stream"
    }
   ],
   "source": [
    "classes = df['variety'].unique()\n",
    "n_classes = len(classes)\n",
    "\n",
    "print(f'Klase: {classes}')\n",
    "print(f'Broj klasa: {n_classes}\\n')\n",
    "\n",
    "name_to_class_dict = dict(zip(classes, range(n_classes)))\n",
    "class_to_name_dict = dict(zip(range(n_classes), classes))\n",
    "\n",
    "print(f'Mapiranje imena klasa u numericke vrednosti:')\n",
    "for name, cls in name_to_class_dict.items():\n",
    "    print(f'{name} -> {cls}')\n",
    "\n",
    "print()\n",
    "print(f'Mapiranje numerickih vrednosti u odgovarajuce nazive klasa:')\n",
    "for cls, name in class_to_name_dict.items():\n",
    "    print(f'{cls} -> {name}')"
   ],
   "metadata": {
    "collapsed": false,
    "pycharm": {
     "name": "#%%\n",
     "is_executing": false
    }
   }
  },
  {
   "cell_type": "code",
   "execution_count": 7,
   "outputs": [
    {
     "name": "stdout",
     "text": [
      "Mapiranje numericke vrednosti u odgovarajuci vektor:\n0 -> [1. 0. 0. 0. 0.]\n1 -> [0. 1. 0. 0. 0.]\n2 -> [0. 0. 1. 0. 0.]\n3 -> [0. 0. 0. 1. 0.]\n4 -> [0. 0. 0. 0. 1.]\n"
     ],
     "output_type": "stream"
    }
   ],
   "source": [
    "mapper_cls_to_vec = {}\n",
    "for i in range(n_classes):\n",
    "    vec = np.zeros((n_classes,))\n",
    "    vec[i] = 1\n",
    "    \n",
    "    mapper_cls_to_vec[i] = vec\n",
    "    \n",
    "print('Mapiranje numericke vrednosti u odgovarajuci vektor:')\n",
    "for cls, vec in mapper_cls_to_vec.items():\n",
    "    print(f'{cls} -> {vec}')"
   ],
   "metadata": {
    "collapsed": false,
    "pycharm": {
     "name": "#%%\n",
     "is_executing": false
    }
   }
  },
  {
   "cell_type": "code",
   "execution_count": 8,
   "outputs": [],
   "source": [
    "y_tmp = df['variety']\n",
    "\n",
    "y = np.zeros((N, n_classes))\n",
    "for i in range(N):\n",
    "    cls = name_to_class_dict[y_tmp[i]]\n",
    "    y[i] = mapper_cls_to_vec[cls]"
   ],
   "metadata": {
    "collapsed": false,
    "pycharm": {
     "name": "#%%\n",
     "is_executing": false
    }
   }
  },
  {
   "cell_type": "code",
   "execution_count": 9,
   "outputs": [],
   "source": [
    "X = np.ones((N, 2*m + 1))\n",
    "X[:, 1] = df[attr1]\n",
    "X[:, 2] = df[attr2]\n",
    "X[:, 3] = df[attr1]**2\n",
    "X[:, 4] = df[attr2]**2"
   ],
   "metadata": {
    "collapsed": false,
    "pycharm": {
     "name": "#%%\n",
     "is_executing": false
    }
   }
  },
  {
   "cell_type": "code",
   "execution_count": 10,
   "outputs": [
    {
     "name": "stdout",
     "text": [
      "Podaci:\n[[1.   1.4  0.2  1.96 0.04]\n [1.   1.4  0.2  1.96 0.04]\n [1.   1.3  0.2  1.69 0.04]\n [1.   1.5  0.2  2.25 0.04]\n [1.   1.4  0.2  1.96 0.04]\n [1.   1.7  0.4  2.89 0.16]\n [1.   1.4  0.3  1.96 0.09]\n [1.   1.5  0.2  2.25 0.04]\n [1.   1.4  0.2  1.96 0.04]\n [1.   1.5  0.1  2.25 0.01]]\n ...\nCiljne promenljive:\n[[1. 0. 0. 0. 0.]\n [1. 0. 0. 0. 0.]\n [1. 0. 0. 0. 0.]\n [1. 0. 0. 0. 0.]\n [1. 0. 0. 0. 0.]\n [1. 0. 0. 0. 0.]\n [1. 0. 0. 0. 0.]\n [1. 0. 0. 0. 0.]\n [1. 0. 0. 0. 0.]\n [1. 0. 0. 0. 0.]]\n ...\n"
     ],
     "output_type": "stream"
    }
   ],
   "source": [
    "print(f'Podaci:')\n",
    "print(X[:10])\n",
    "print(' ...')\n",
    "\n",
    "print(f'Ciljne promenljive:')\n",
    "print(y[:10])\n",
    "print(' ...')"
   ],
   "metadata": {
    "collapsed": false,
    "pycharm": {
     "name": "#%%\n",
     "is_executing": false
    }
   }
  },
  {
   "cell_type": "code",
   "execution_count": 11,
   "outputs": [],
   "source": [
    "X_train, X_test, y_train, y_test = train_test_split(X, y, \n",
    "                                                    stratify=y, \n",
    "                                                    test_size=0.35, \n",
    "                                                    random_state=5)"
   ],
   "metadata": {
    "collapsed": false,
    "pycharm": {
     "name": "#%%\n",
     "is_executing": false
    }
   }
  },
  {
   "cell_type": "code",
   "execution_count": 12,
   "outputs": [
    {
     "name": "stdout",
     "text": [
      "X_train:\n[[ 1.    2.4   2.1   5.76  4.41]\n [ 1.    3.5   1.3  12.25  1.69]\n [ 1.    1.3   0.2   1.69  0.04]\n [ 1.    1.3   0.2   1.69  0.04]\n [ 1.    5.9   0.6  34.81  0.36]\n [ 1.    4.9   2.   24.01  4.  ]\n [ 1.    2.8   1.4   7.84  1.96]\n [ 1.    4.5   1.5  20.25  2.25]\n [ 1.    2.3   1.4   5.29  1.96]\n [ 1.    1.4   0.3   1.96  0.09]]\n ...\n\ny_train:\n[[0. 0. 0. 1. 0.]\n [0. 0. 0. 1. 0.]\n [1. 0. 0. 0. 0.]\n [1. 0. 0. 0. 0.]\n [0. 0. 0. 0. 1.]\n [0. 0. 1. 0. 0.]\n [0. 0. 0. 1. 0.]\n [0. 1. 0. 0. 0.]\n [0. 0. 0. 1. 0.]\n [1. 0. 0. 0. 0.]]\n ...\n\nX_test:\n[[ 1.    1.5   0.3   2.25  0.09]\n [ 1.    6.3   1.2  39.69  1.44]\n [ 1.    1.5   0.4   2.25  0.16]\n [ 1.    1.6   0.2   2.56  0.04]\n [ 1.    2.7   1.3   7.29  1.69]\n [ 1.    1.7   0.3   2.89  0.09]\n [ 1.    5.7   0.7  32.49  0.49]\n [ 1.    5.7   2.5  32.49  6.25]\n [ 1.    6.1   2.3  37.21  5.29]\n [ 1.    4.9   1.8  24.01  3.24]]\n ...\n\ny_test:\n[[1. 0. 0. 0. 0.]\n [0. 0. 0. 0. 1.]\n [1. 0. 0. 0. 0.]\n [1. 0. 0. 0. 0.]\n [0. 0. 0. 1. 0.]\n [1. 0. 0. 0. 0.]\n [0. 0. 0. 0. 1.]\n [0. 0. 1. 0. 0.]\n [0. 0. 1. 0. 0.]\n [0. 0. 1. 0. 0.]]\n ...\n"
     ],
     "output_type": "stream"
    }
   ],
   "source": [
    "print(f'X_train:')\n",
    "print(X_train[:10])\n",
    "print(' ...')\n",
    "print()\n",
    "\n",
    "print(f'y_train:')\n",
    "print(y_train[:10])\n",
    "print(' ...')\n",
    "print()\n",
    "\n",
    "print(f'X_test:')\n",
    "print(X_test[:10])\n",
    "print(' ...')\n",
    "print()\n",
    "\n",
    "print(f'y_test:')\n",
    "print(y_test[:10])\n",
    "print(' ...')"
   ],
   "metadata": {
    "collapsed": false,
    "pycharm": {
     "name": "#%%\n",
     "is_executing": false
    }
   }
  },
  {
   "cell_type": "code",
   "execution_count": 13,
   "outputs": [
    {
     "name": "stdout",
     "text": [
      "~ Neural network ~\nLayer 1:\n[1. 1. 1. 1. 1.]\nLayer 2:\n[1. 1. 1. 1. 1. 1. 1.]\nLayer 3:\n[1. 1. 1. 1. 1.]\n\nDimenzije matrica modela koji mapiraju slojeve:\n0 -> 1: 6 x 5\n1 -> 2: 5 x 7\n\nInitial model:\nModel:\nW_0: 0 -> 1, shape: (6, 5)\n[[-0.06157264  0.09615163 -0.0276511   0.07133403 -0.07579739]\n [ 0.07011184  0.01999647 -0.04791899 -0.02427859  0.04364305]\n [ 0.01924523 -0.07584433  0.0943057   0.08261045  0.06512398]\n [ 0.06389872 -0.052628   -0.09072422  0.09901065  0.09255535]\n [ 0.01206866 -0.00522093 -0.0311791  -0.08715674  0.09527713]\n [ 0.05582692  0.08281624  0.06815128 -0.0806189   0.07919447]]\nW_1: 1 -> 2, shape: (5, 7)\n[[ 0.08152145 -0.03419015  0.05619043  0.06019812 -0.01858365  0.05824296\n  -0.02376717]\n [-0.01690141  0.0148221   0.00170834 -0.05964638 -0.05808759 -0.04672434\n  -0.08627023]\n [-0.06537666 -0.00968331  0.07700766 -0.04718174  0.00843327  0.06404\n   0.07436258]\n [-0.00718591 -0.06170562 -0.05894271 -0.08831093 -0.03572811  0.06523224\n   0.01647312]\n [-0.01502753 -0.03116164 -0.01319908  0.08435994 -0.01723333 -0.01766631\n   0.02753476]]\n"
     ],
     "output_type": "stream"
    }
   ],
   "source": [
    "nn = nc.NeuralNetwork(2*m, [3*m], n_classes)\n",
    "\n",
    "nn.print_network()\n",
    "print()\n",
    "\n",
    "nn.print_layer_mapper_sizes()\n",
    "print()\n",
    "\n",
    "print('Initial model:')\n",
    "nn.print_model()"
   ],
   "metadata": {
    "collapsed": false,
    "pycharm": {
     "name": "#%%\n",
     "is_executing": false
    }
   }
  },
  {
   "cell_type": "code",
   "execution_count": 14,
   "outputs": [
    {
     "data": {
      "text/plain": "<Figure size 432x288 with 1 Axes>",
      "image/png": "[encoded data removed]"
     },
     "metadata": {
      "needs_background": "light"
     },
     "output_type": "display_data"
    },
    {
     "name": "stdout",
     "text": [
      "Trained model:\nModel:\nW_0: 0 -> 1\n[[ 0.03975651 -0.0745578   0.08053794  0.0588446  -0.0267236 ]\n [-0.09377972  0.06280023  0.03035399 -0.00429894  0.0988881 ]\n [ 0.0712357   0.08673601  0.00627136 -0.07338153  0.01823906]\n [-0.06012143  0.00189702  0.07816687 -0.03552897  0.05970653]]\nW_1: 1 -> 2\n[[ 0.06189098 -0.02146348  0.07453357  0.0773799  -0.05543459]\n [-0.08737863 -0.00846622 -0.0060384   0.09446711  0.08525127]\n [ 0.08774894 -0.09422432  0.03946135 -0.0702783  -0.04558369]\n [-0.03697014 -0.06895149  0.0435051  -0.02661004 -0.04524813]]\nW_2: 2 -> 3\n[[ 0.06189098 -0.02146348  0.07453357  0.0773799  -0.05543459]\n [-0.08737863 -0.00846622 -0.0060384   0.09446711  0.08525127]\n [ 0.08774894 -0.09422432  0.03946135 -0.0702783  -0.04558369]\n [-0.03697014 -0.06895149  0.0435051  -0.02661004 -0.04524813]]\nW_3: 3 -> 4\n[[ 0.06189098 -0.02146348  0.07453357  0.0773799  -0.05543459]\n [-0.08737863 -0.00846622 -0.0060384   0.09446711  0.08525127]\n [ 0.08774894 -0.09422432  0.03946135 -0.0702783  -0.04558369]\n [-0.03697014 -0.06895149  0.0435051  -0.02661004 -0.04524813]]\nW_4: 4 -> 5\n[[ 0.06189098 -0.02146348  0.07453357  0.0773799  -0.05543459]\n [-0.08737863 -0.00846622 -0.0060384   0.09446711  0.08525127]\n [ 0.08774894 -0.09422432  0.03946135 -0.0702783  -0.04558369]\n [-0.03697014 -0.06895149  0.0435051  -0.02661004 -0.04524813]\n [ 0.09446569  0.00617136  0.07183984 -0.04021054 -0.08885154]]\n\n~ Neural network ~\nLayer 1:\n[ 1.    4.6   1.4  21.16  1.96]\nLayer 2:\n[1.         0.73151425 0.58429994 0.26153558 0.35968586]\nLayer 3:\n[1.         0.5224944  0.48956911 0.50177586 0.47870688]\nLayer 4:\n[1.         0.52484351 0.49836338 0.50018773 0.47833573]\nLayer 5:\n[1.         0.52496889 0.49829972 0.50025128 0.47840552]\nLayer 6:\n[0.52496729 0.49830254 0.50024579 0.47840146 0.5177135 ]\n"
     ],
     "output_type": "stream"
    }
   ],
   "source": [
    "clf = nn.fit(X_train, \n",
    "             y_train, \n",
    "             alpha=0.0085, \n",
    "             num_iter=1500,\n",
    "             plot=True, \n",
    "             gc_it=300, \n",
    "             gc_log_path='./gc_test3.txt')\n",
    "\n",
    "print('Trained model:')\n",
    "clf.print_model()\n",
    "print()\n",
    "\n",
    "nn.print_network()"
   ],
   "metadata": {
    "collapsed": false,
    "pycharm": {
     "name": "#%%\n",
     "is_executing": false
    }
   }
  },
  {
   "cell_type": "code",
   "execution_count": 15,
   "outputs": [
    {
     "data": {
      "text/plain": "<Figure size 432x288 with 1 Axes>",
      "image/png": "[encoded data removed]"
     },
     "metadata": {
      "needs_background": "light"
     },
     "output_type": "display_data"
    }
   ],
   "source": [
    "nc.plot_learning_curves(X_train, y_train, X_test, y_test, clf)"
   ],
   "metadata": {
    "collapsed": false,
    "pycharm": {
     "name": "#%%\n",
     "is_executing": false
    }
   }
  },
  {
   "cell_type": "code",
   "execution_count": 16,
   "outputs": [
    {
     "data": {
      "text/plain": "<matplotlib.legend.Legend at 0xbf25630>"
     },
     "metadata": {},
     "output_type": "execute_result",
     "execution_count": 16
    },
    {
     "data": {
      "text/plain": "<Figure size 432x288 with 1 Axes>",
      "image/png": "[encoded data removed]"
     },
     "metadata": {
      "needs_background": "light"
     },
     "output_type": "display_data"
    }
   ],
   "source": [
    "colors = ['red', 'blue', 'green', 'yellow', 'magenta']\n",
    "for c, cls in zip(colors, classes):\n",
    "    subsample = df.loc[df['variety'] == cls]\n",
    "    plt.scatter(subsample[attr1], subsample[attr2], color=c)\n",
    "\n",
    "plt.xlabel(attr1)\n",
    "plt.ylabel(attr2)\n",
    "\n",
    "plt.legend(classes)"
   ],
   "metadata": {
    "collapsed": false,
    "pycharm": {
     "name": "#%%\n",
     "is_executing": false
    }
   }
  },
  {
   "cell_type": "code",
   "execution_count": 17,
   "outputs": [],
   "source": [
    "x1 = np.array([1, 0.5, 0.4, 0.5**2, 0.4**2]) # Setosa\n",
    "x2 = np.array([1, 4.2, 1.2, 4.2**2, 1.2**2]) # Versicolor\n",
    "x3 = np.array([1, 5.5, 2, 5.5**2, 2**2]) # Virginca\n",
    "x4 = np.array([1, 2.9, 1.9, 2.9**2, 1.9**2]) # Letosa\n",
    "x5 = np.array([1, 5.2, 0.8, 5.2**2, 0.8**2]) # Helenica"
   ],
   "metadata": {
    "collapsed": false,
    "pycharm": {
     "name": "#%%\n",
     "is_executing": false
    }
   }
  },
  {
   "cell_type": "code",
   "execution_count": 18,
   "outputs": [
    {
     "name": "stdout",
     "text": [
      "~ TESTIRANJE KLASIFIKATORA ~\nTest 1:\nPrediction vector: [0.52496737 0.49830225 0.50024607 0.4784017  0.517713  ]\nMax prediction value: 0.5249673697044165 (at position 0)\nClass: Setosa\n\nTest 2:\nPrediction vector: [0.52496736 0.49830245 0.50024587 0.47840157 0.51771281]\nMax prediction value: 0.524967357708796 (at position 0)\nClass: Setosa\n\nTest 3:\nPrediction vector: [0.52496735 0.49830257 0.50024576 0.47840149 0.5177127 ]\nMax prediction value: 0.5249673500723439 (at position 0)\nClass: Setosa\n\nTest 4:\nPrediction vector: [0.52496736 0.49830233 0.500246   0.47840165 0.51771291]\nMax prediction value: 0.5249673579295262 (at position 0)\nClass: Setosa\n\nTest 5:\nPrediction vector: [0.52496736 0.49830255 0.50024578 0.4784015  0.51771273]\nMax prediction value: 0.5249673569379476 (at position 0)\nClass: Setosa\n\n"
     ],
     "output_type": "stream"
    }
   ],
   "source": [
    "y_predict1 = clf.predict(x1)\n",
    "y_predict2 = clf.predict(x2)\n",
    "y_predict3 = clf.predict(x3)\n",
    "y_predict4 = clf.predict(x4)\n",
    "y_predict5 = clf.predict(x5)\n",
    "\n",
    "print('~ TESTIRANJE KLASIFIKATORA ~')\n",
    "\n",
    "print('Test 1:')\n",
    "nc.Classifier.prediction_info(y_predict1, class_to_name_dict)\n",
    "print()\n",
    "\n",
    "print('Test 2:')\n",
    "nc.Classifier.prediction_info(y_predict2, class_to_name_dict)\n",
    "print()\n",
    "\n",
    "print('Test 3:')\n",
    "nc.Classifier.prediction_info(y_predict3, class_to_name_dict)\n",
    "print()\n",
    "\n",
    "print('Test 4:')\n",
    "nc.Classifier.prediction_info(y_predict4, class_to_name_dict)\n",
    "print()\n",
    "\n",
    "print('Test 5:')\n",
    "nc.Classifier.prediction_info(y_predict5, class_to_name_dict)\n",
    "print() "
   ],
   "metadata": {
    "collapsed": false,
    "pycharm": {
     "name": "#%%\n",
     "is_executing": false
    }
   }
  },
  {
   "cell_type": "code",
   "execution_count": null,
   "outputs": [],
   "source": [
    "\n",
    "\n"
   ],
   "metadata": {
    "collapsed": false,
    "pycharm": {
     "name": "#%%\n"
    }
   }
  }
 ],
 "metadata": {
  "kernelspec": {
   "display_name": "Python 3",
   "language": "python",
   "name": "python3"
  },
  "language_info": {
   "codemirror_mode": {
    "name": "ipython",
    "version": 2
   },
   "file_extension": ".py",
   "mimetype": "text/x-python",
   "name": "python",
   "nbconvert_exporter": "python",
   "pygments_lexer": "ipython2",
   "version": "2.7.6"
  },
  "pycharm": {
   "stem_cell": {
    "cell_type": "raw",
    "source": [],
    "metadata": {
     "collapsed": false
    }
   }
  }
 },
 "nbformat": 4,
 "nbformat_minor": 0
}