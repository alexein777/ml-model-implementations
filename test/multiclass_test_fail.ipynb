{
 "cells": [
  {
   "cell_type": "code",
   "execution_count": null,
   "outputs": [],
   "source": [
    "from neural_implementation import neural_classification as nc\n",
    "import pandas as pd\n",
    "import numpy as np\n",
    "import matplotlib.pyplot as plt\n",
    "from sklearn.model_selection import train_test_split"
   ],
   "metadata": {
    "collapsed": false,
    "pycharm": {
     "name": "#%%\n"
    }
   }
  },
  {
   "cell_type": "code",
   "execution_count": null,
   "outputs": [],
   "source": [
    "# UCITAVANJE PODATAKA I TESTIRANJE\n",
    "\n",
    "df = pd.read_csv('../datasets/iris_extended.csv')\n",
    "df.head()"
   ],
   "metadata": {
    "collapsed": false,
    "pycharm": {
     "name": "#%%\n"
    }
   }
  },
  {
   "cell_type": "code",
   "execution_count": null,
   "outputs": [],
   "source": [
    "N = df.shape[0]\n",
    "print(f'Ukupan broj podataka: {N}')\n",
    "\n",
    "m = df.shape[1] - 1\n",
    "print(f'Broj atributa svakog podatka: {m}')\n",
    "\n",
    "attributes = list(df.drop('variety', axis=True).columns)\n",
    "print(f'Atributi: {attributes}')"
   ],
   "metadata": {
    "collapsed": false,
    "pycharm": {
     "name": "#%%\n"
    }
   }
  },
  {
   "cell_type": "code",
   "execution_count": null,
   "outputs": [],
   "source": [
    "attr1 = 'petal.length'\n",
    "attr2 = 'petal.width'\n",
    "attributes = [attr1, attr2]\n",
    "m = len(attributes)\n",
    "\n",
    "N = df.shape[0]\n",
    "print(f'Velicina skupa podataka: {N}')"
   ],
   "metadata": {
    "collapsed": false,
    "pycharm": {
     "name": "#%%\n"
    }
   }
  },
  {
   "cell_type": "code",
   "execution_count": null,
   "outputs": [],
   "source": [
    "classes = df['variety'].unique()\n",
    "n_classes = len(classes)\n",
    "\n",
    "print(f'Klase: {classes}')\n",
    "print(f'Broj klasa: {n_classes}\\n')\n",
    "\n",
    "name_to_class_dict = dict(zip(classes, range(n_classes)))\n",
    "class_to_name_dict = dict(zip(range(n_classes), classes))\n",
    "\n",
    "print(f'Mapiranje imena klasa u numericke vrednosti:')\n",
    "for name, cls in name_to_class_dict.items():\n",
    "    print(f'{name} -> {cls}')\n",
    "\n",
    "print()\n",
    "print(f'Mapiranje numerickih vrednosti u odgovarajuce nazive klasa:')\n",
    "for cls, name in class_to_name_dict.items():\n",
    "    print(f'{cls} -> {name}')"
   ],
   "metadata": {
    "collapsed": false,
    "pycharm": {
     "name": "#%%\n"
    }
   }
  },
  {
   "cell_type": "code",
   "execution_count": null,
   "outputs": [],
   "source": [
    "mapper_cls_to_vec = {}\n",
    "for i in range(n_classes):\n",
    "    vec = np.zeros((n_classes,))\n",
    "    vec[i] = 1\n",
    "    \n",
    "    mapper_cls_to_vec[i] = vec\n",
    "    \n",
    "print('Mapiranje numericke vrednosti u odgovarajuci vektor:')\n",
    "for cls, vec in mapper_cls_to_vec.items():\n",
    "    print(f'{cls} -> {vec}')"
   ],
   "metadata": {
    "collapsed": false,
    "pycharm": {
     "name": "#%%\n"
    }
   }
  },
  {
   "cell_type": "code",
   "execution_count": null,
   "outputs": [],
   "source": [
    "y_tmp = df['variety']\n",
    "\n",
    "y = np.zeros((N, n_classes))\n",
    "for i in range(N):\n",
    "    cls = name_to_class_dict[y_tmp[i]]\n",
    "    y[i] = mapper_cls_to_vec[cls]"
   ],
   "metadata": {
    "collapsed": false,
    "pycharm": {
     "name": "#%%\n"
    }
   }
  },
  {
   "cell_type": "code",
   "execution_count": null,
   "outputs": [],
   "source": [
    "X = np.ones((N, m + 1))\n",
    "X[:, 1] = df[attr1]\n",
    "X[:, 2] = df[attr2]\n",
    "# X[:, 3] = df[attr1]**2\n",
    "# X[:, 4] = df[attr2]**2"
   ],
   "metadata": {
    "collapsed": false,
    "pycharm": {
     "name": "#%%\n"
    }
   }
  },
  {
   "cell_type": "code",
   "execution_count": null,
   "outputs": [],
   "source": [
    "print(f'Podaci:')\n",
    "print(X[:10])\n",
    "print(' ...')\n",
    "\n",
    "print(f'Ciljne promenljive:')\n",
    "print(y[:10])\n",
    "print(' ...')"
   ],
   "metadata": {
    "collapsed": false,
    "pycharm": {
     "name": "#%%\n"
    }
   }
  },
  {
   "cell_type": "code",
   "execution_count": null,
   "outputs": [],
   "source": [
    "colors = ['red', 'blue', 'green', 'yellow', 'magenta']\n",
    "for c, cls in zip(colors, classes):\n",
    "    subsample = df.loc[df['variety'] == cls]\n",
    "    plt.scatter(subsample[attr1], subsample[attr2], color=c)\n",
    "    \n",
    "plt.xlabel(attr1)\n",
    "plt.ylabel(attr2)\n",
    "\n",
    "plt.legend(classes)"
   ],
   "metadata": {
    "collapsed": false,
    "pycharm": {
     "name": "#%%\n"
    }
   }
  },
  {
   "cell_type": "code",
   "execution_count": null,
   "outputs": [],
   "source": [
    "X_train, X_test, y_train, y_test = train_test_split(X, y, \n",
    "                                                    stratify=y, \n",
    "                                                    test_size=0.3, \n",
    "                                                    random_state=5)"
   ],
   "metadata": {
    "collapsed": false,
    "pycharm": {
     "name": "#%%\n"
    }
   }
  },
  {
   "cell_type": "code",
   "execution_count": null,
   "outputs": [],
   "source": [
    "print(f'X_train:')\n",
    "print(X_train[:10])\n",
    "print(' ...')\n",
    "print()\n",
    "\n",
    "print(f'y_train:')\n",
    "print(y_train[:10])\n",
    "print(' ...')\n",
    "print()\n",
    "\n",
    "print(f'X_test:')\n",
    "print(X_test[:10])\n",
    "print(' ...')\n",
    "print()\n",
    "\n",
    "print(f'y_test:')\n",
    "print(y_test[:10])\n",
    "print(' ...')"
   ],
   "metadata": {
    "collapsed": false,
    "pycharm": {
     "name": "#%%\n"
    }
   }
  },
  {
   "cell_type": "code",
   "execution_count": null,
   "outputs": [],
   "source": [
    "nn = nc.NeuralNetwork(m, [3*m], n_classes, eps_init=1e-1)\n",
    "\n",
    "nn.print_network()\n",
    "print()\n",
    "\n",
    "nn.print_layer_mapper_sizes()\n",
    "print()\n",
    "\n",
    "print('Initial model:')\n",
    "nn.print_model()"
   ],
   "metadata": {
    "collapsed": false,
    "pycharm": {
     "name": "#%%\n"
    }
   }
  },
  {
   "cell_type": "code",
   "execution_count": null,
   "outputs": [],
   "source": [
    "lambdas = [0] + [0.01 * (1.5**i) for i in range(8)]\n",
    "print('lamda parameters:')\n",
    "print(lambdas)"
   ],
   "metadata": {
    "collapsed": false,
    "pycharm": {
     "name": "#%%\n"
    }
   }
  },
  {
   "cell_type": "code",
   "execution_count": null,
   "outputs": [],
   "source": [
    "classifiers = [nn.fit(X_train, \n",
    "                      y_train, \n",
    "                      alpha=0.008, \n",
    "                      lambda_param=lambda_param, \n",
    "                      plot=True,\n",
    "                      gc_it=100,\n",
    "                      gc_log_path='./gc_log.txt') \n",
    "               for lambda_param in lambdas]"
   ],
   "metadata": {
    "collapsed": false,
    "pycharm": {
     "name": "#%%\n"
    }
   }
  },
  {
   "cell_type": "code",
   "execution_count": null,
   "outputs": [],
   "source": [
    "losses_test = [clf.loss(X_test, y_test) for clf in classifiers]\n",
    "\n",
    "print('Funkcije gubitka za svaki klasifikator posebno na test skupu:')\n",
    "for i, loss in enumerate(losses_test):\n",
    "    print(f'Klasifikator {i + 1}: Loss = {loss}')"
   ],
   "metadata": {
    "collapsed": false,
    "pycharm": {
     "name": "#%%\n"
    }
   }
  },
  {
   "cell_type": "code",
   "execution_count": null,
   "outputs": [],
   "source": [
    "min_loss = float('inf')\n",
    "best_clf = None\n",
    "\n",
    "for i, loss in enumerate(losses_test):\n",
    "    if loss < min_loss:\n",
    "        min_loss = loss\n",
    "        best_clf = classifiers[i]\n",
    "        \n",
    "print(f'Najmanji gubitak (na test skupu) za svaki klasifikator: {min_loss}')\n",
    "print(f'Regularizacioni parametar lambda za koji je naucen najbolji model: '\n",
    "      f'{best_clf.lambda_learned}')      \n",
    "print('Model najboljeg klasifikatora:')\n",
    "\n",
    "best_clf.print_model()"
   ],
   "metadata": {
    "collapsed": false,
    "pycharm": {
     "name": "#%%\n"
    }
   }
  },
  {
   "cell_type": "code",
   "execution_count": null,
   "outputs": [],
   "source": [
    "nc.plot_learning_curves(X_train, y_train, X_test, y_test, best_clf)"
   ],
   "metadata": {
    "collapsed": false,
    "pycharm": {
     "name": "#%%\n"
    }
   }
  },
  {
   "cell_type": "code",
   "execution_count": null,
   "outputs": [],
   "source": [
    "print('Ponovno iscrtavanje skupa podataka pred testiranje:')\n",
    "\n",
    "colors = ['red', 'blue', 'green', 'yellow', 'magenta']\n",
    "for c, cls in zip(colors, classes):\n",
    "    subsample = df.loc[df['variety'] == cls]\n",
    "    plt.scatter(subsample[attr1], subsample[attr2], color=c)\n",
    "\n",
    "plt.xlabel(attr1)\n",
    "plt.ylabel(attr2)\n",
    "\n",
    "plt.legend(classes)"
   ],
   "metadata": {
    "collapsed": false,
    "pycharm": {
     "name": "#%%\n"
    }
   }
  },
  {
   "cell_type": "code",
   "execution_count": null,
   "outputs": [],
   "source": [
    "x1 = np.array([1, 0.5, 0.4]) # Setosa\n",
    "x2 = np.array([1, 4.2, 1.2]) # Versicolor\n",
    "x3 = np.array([1, 5.5, 2]) # Virginca\n",
    "x4 = np.array([1, 2.9, 1.9]) # Letosa\n",
    "x5 = np.array([1, 5.2, 0.8]) # Helenica"
   ],
   "metadata": {
    "collapsed": false,
    "pycharm": {
     "name": "#%%\n"
    }
   }
  },
  {
   "cell_type": "code",
   "execution_count": null,
   "outputs": [],
   "source": [
    "y_predict1 = best_clf.predict(x1)\n",
    "y_predict2 = best_clf.predict(x2)\n",
    "y_predict3 = best_clf.predict(x3)\n",
    "y_predict4 = best_clf.predict(x4)\n",
    "y_predict5 = best_clf.predict(x5)\n",
    "\n",
    "print('~ TESTIRANJE KLASIFIKATORA ~')\n",
    "\n",
    "print('Test 1:')\n",
    "nc.Classifier.prediction_info(y_predict1, class_to_name_dict)\n",
    "print()\n",
    "\n",
    "print('Test 2:')\n",
    "nc.Classifier.prediction_info(y_predict2, class_to_name_dict)\n",
    "print()\n",
    "\n",
    "print('Test 3:')\n",
    "nc.Classifier.prediction_info(y_predict3, class_to_name_dict)\n",
    "print()\n",
    "\n",
    "print('Test 4:')\n",
    "nc.Classifier.prediction_info(y_predict4, class_to_name_dict)\n",
    "print()\n",
    "\n",
    "print('Test 5:')\n",
    "nc.Classifier.prediction_info(y_predict5, class_to_name_dict)\n",
    "print() "
   ],
   "metadata": {
    "collapsed": false,
    "pycharm": {
     "name": "#%%\n"
    }
   }
  },
  {
   "cell_type": "code",
   "execution_count": null,
   "outputs": [],
   "source": [],
   "metadata": {
    "collapsed": false,
    "pycharm": {
     "name": "#%%\n"
    }
   }
  }
 ],
 "metadata": {
  "kernelspec": {
   "display_name": "Python 3",
   "language": "python",
   "name": "python3"
  },
  "language_info": {
   "codemirror_mode": {
    "name": "ipython",
    "version": 2
   },
   "file_extension": ".py",
   "mimetype": "text/x-python",
   "name": "python",
   "nbconvert_exporter": "python",
   "pygments_lexer": "ipython2",
   "version": "2.7.6"
  },
  "pycharm": {
   "stem_cell": {
    "cell_type": "raw",
    "source": [],
    "metadata": {
     "collapsed": false
    }
   }
  }
 },
 "nbformat": 4,
 "nbformat_minor": 0
}