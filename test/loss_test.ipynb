{
 "cells": [
  {
   "cell_type": "code",
   "execution_count": 1,
   "metadata": {
    "collapsed": true,
    "pycharm": {
     "is_executing": false
    }
   },
   "outputs": [],
   "source": [
    "from neural_implementation import neural_classification as nc\n",
    "import pandas as pd\n",
    "import numpy as np\n",
    "import matplotlib.pyplot as plt\n",
    "from sklearn.model_selection import train_test_split"
   ]
  },
  {
   "cell_type": "code",
   "execution_count": 2,
   "outputs": [
    {
     "data": {
      "text/plain": "   sepal.length  sepal.width  petal.length  petal.width variety\n0           5.1          3.5           1.4          0.2  Setosa\n1           4.9          3.0           1.4          0.2  Setosa\n2           4.7          3.2           1.3          0.2  Setosa\n3           4.6          3.1           1.5          0.2  Setosa\n4           5.0          3.6           1.4          0.2  Setosa",
      "text/html": "<div>\n<style scoped>\n    .dataframe tbody tr th:only-of-type {\n        vertical-align: middle;\n    }\n\n    .dataframe tbody tr th {\n        vertical-align: top;\n    }\n\n    .dataframe thead th {\n        text-align: right;\n    }\n</style>\n<table border=\"1\" class=\"dataframe\">\n  <thead>\n    <tr style=\"text-align: right;\">\n      <th></th>\n      <th>sepal.length</th>\n      <th>sepal.width</th>\n      <th>petal.length</th>\n      <th>petal.width</th>\n      <th>variety</th>\n    </tr>\n  </thead>\n  <tbody>\n    <tr>\n      <th>0</th>\n      <td>5.1</td>\n      <td>3.5</td>\n      <td>1.4</td>\n      <td>0.2</td>\n      <td>Setosa</td>\n    </tr>\n    <tr>\n      <th>1</th>\n      <td>4.9</td>\n      <td>3.0</td>\n      <td>1.4</td>\n      <td>0.2</td>\n      <td>Setosa</td>\n    </tr>\n    <tr>\n      <th>2</th>\n      <td>4.7</td>\n      <td>3.2</td>\n      <td>1.3</td>\n      <td>0.2</td>\n      <td>Setosa</td>\n    </tr>\n    <tr>\n      <th>3</th>\n      <td>4.6</td>\n      <td>3.1</td>\n      <td>1.5</td>\n      <td>0.2</td>\n      <td>Setosa</td>\n    </tr>\n    <tr>\n      <th>4</th>\n      <td>5.0</td>\n      <td>3.6</td>\n      <td>1.4</td>\n      <td>0.2</td>\n      <td>Setosa</td>\n    </tr>\n  </tbody>\n</table>\n</div>"
     },
     "metadata": {},
     "output_type": "execute_result",
     "execution_count": 2
    }
   ],
   "source": [
    "# UCITAVANJE PODATAKA I TESTIRANJE\n",
    "\n",
    "df = pd.read_csv('../datasets/iris_extended.csv')\n",
    "df.head()"
   ],
   "metadata": {
    "collapsed": false,
    "pycharm": {
     "name": "#%%\n",
     "is_executing": false
    }
   }
  },
  {
   "cell_type": "code",
   "execution_count": 3,
   "outputs": [
    {
     "name": "stdout",
     "text": [
      "Ukupan broj podataka: 250\nBroj atributa svakog podatka: 4\nAtributi: ['sepal.length', 'sepal.width', 'petal.length', 'petal.width']\n"
     ],
     "output_type": "stream"
    }
   ],
   "source": [
    "N = df.shape[0]\n",
    "print(f'Ukupan broj podataka: {N}')\n",
    "\n",
    "m = df.shape[1] - 1\n",
    "print(f'Broj atributa svakog podatka: {m}')\n",
    "\n",
    "attributes = list(df.drop('variety', axis=True).columns)\n",
    "print(f'Atributi: {attributes}')"
   ],
   "metadata": {
    "collapsed": false,
    "pycharm": {
     "name": "#%%\n",
     "is_executing": false
    }
   }
  },
  {
   "cell_type": "code",
   "execution_count": 4,
   "outputs": [
    {
     "name": "stdout",
     "text": [
      "Velicina skupa podataka: 250\n"
     ],
     "output_type": "stream"
    }
   ],
   "source": [
    "attr1 = 'petal.length'\n",
    "attr2 = 'petal.width'\n",
    "attributes = [attr1, attr2]\n",
    "m = len(attributes)\n",
    "\n",
    "N = df.shape[0]\n",
    "print(f'Velicina skupa podataka: {N}')"
   ],
   "metadata": {
    "collapsed": false,
    "pycharm": {
     "name": "#%%\n",
     "is_executing": false
    }
   }
  },
  {
   "cell_type": "code",
   "execution_count": 5,
   "outputs": [
    {
     "name": "stdout",
     "text": [
      "Klase: ['Setosa' 'Versicolor' 'Virginica' 'Letosa' 'Helenica']\nBroj klasa: 5\n\nMapiranje imena klasa u numericke vrednosti:\nSetosa -> 0\nVersicolor -> 1\nVirginica -> 2\nLetosa -> 3\nHelenica -> 4\n\nMapiranje numerickih vrednosti u odgovarajuce nazive klasa:\n0 -> Setosa\n1 -> Versicolor\n2 -> Virginica\n3 -> Letosa\n4 -> Helenica\n"
     ],
     "output_type": "stream"
    }
   ],
   "source": [
    "classes = df['variety'].unique()\n",
    "n_classes = len(classes)\n",
    "\n",
    "print(f'Klase: {classes}')\n",
    "print(f'Broj klasa: {n_classes}\\n')\n",
    "\n",
    "name_to_class_dict = dict(zip(classes, range(n_classes)))\n",
    "class_to_name_dict = dict(zip(range(n_classes), classes))\n",
    "\n",
    "print(f'Mapiranje imena klasa u numericke vrednosti:')\n",
    "for name, cls in name_to_class_dict.items():\n",
    "    print(f'{name} -> {cls}')\n",
    "\n",
    "print()\n",
    "print(f'Mapiranje numerickih vrednosti u odgovarajuce nazive klasa:')\n",
    "for cls, name in class_to_name_dict.items():\n",
    "    print(f'{cls} -> {name}')"
   ],
   "metadata": {
    "collapsed": false,
    "pycharm": {
     "name": "#%%\n",
     "is_executing": false
    }
   }
  },
  {
   "cell_type": "code",
   "execution_count": 6,
   "outputs": [
    {
     "name": "stdout",
     "text": [
      "Mapiranje numericke vrednosti u odgovarajuci vektor:\n0 -> [1. 0. 0. 0. 0.]\n1 -> [0. 1. 0. 0. 0.]\n2 -> [0. 0. 1. 0. 0.]\n3 -> [0. 0. 0. 1. 0.]\n4 -> [0. 0. 0. 0. 1.]\n"
     ],
     "output_type": "stream"
    }
   ],
   "source": [
    "mapper_cls_to_vec = {}\n",
    "for i in range(n_classes):\n",
    "    vec = np.zeros((n_classes,))\n",
    "    vec[i] = 1\n",
    "    \n",
    "    mapper_cls_to_vec[i] = vec\n",
    "    \n",
    "print('Mapiranje numericke vrednosti u odgovarajuci vektor:')\n",
    "for cls, vec in mapper_cls_to_vec.items():\n",
    "    print(f'{cls} -> {vec}')"
   ],
   "metadata": {
    "collapsed": false,
    "pycharm": {
     "name": "#%%\n",
     "is_executing": false
    }
   }
  },
  {
   "cell_type": "code",
   "execution_count": 7,
   "outputs": [],
   "source": [
    "y_tmp = df['variety']\n",
    "\n",
    "y = np.zeros((N, n_classes))\n",
    "for i in range(N):\n",
    "    cls = name_to_class_dict[y_tmp[i]]\n",
    "    y[i] = mapper_cls_to_vec[cls]"
   ],
   "metadata": {
    "collapsed": false,
    "pycharm": {
     "name": "#%%\n",
     "is_executing": false
    }
   }
  },
  {
   "cell_type": "code",
   "execution_count": 8,
   "outputs": [],
   "source": [
    "X = np.ones((N, 2*m + 1))\n",
    "X[:, 1] = df[attr1]\n",
    "X[:, 2] = df[attr2]\n",
    "X[:, 3] = df[attr1]**2\n",
    "X[:, 4] = df[attr2]**2"
   ],
   "metadata": {
    "collapsed": false,
    "pycharm": {
     "name": "#%%\n",
     "is_executing": false
    }
   }
  },
  {
   "cell_type": "code",
   "execution_count": 9,
   "outputs": [
    {
     "name": "stdout",
     "text": [
      "Podaci:\n[[1.   1.4  0.2  1.96 0.04]\n [1.   1.4  0.2  1.96 0.04]\n [1.   1.3  0.2  1.69 0.04]\n [1.   1.5  0.2  2.25 0.04]\n [1.   1.4  0.2  1.96 0.04]\n [1.   1.7  0.4  2.89 0.16]\n [1.   1.4  0.3  1.96 0.09]\n [1.   1.5  0.2  2.25 0.04]\n [1.   1.4  0.2  1.96 0.04]\n [1.   1.5  0.1  2.25 0.01]]\n ...\nCiljne promenljive:\n[[1. 0. 0. 0. 0.]\n [1. 0. 0. 0. 0.]\n [1. 0. 0. 0. 0.]\n [1. 0. 0. 0. 0.]\n [1. 0. 0. 0. 0.]\n [1. 0. 0. 0. 0.]\n [1. 0. 0. 0. 0.]\n [1. 0. 0. 0. 0.]\n [1. 0. 0. 0. 0.]\n [1. 0. 0. 0. 0.]]\n ...\n"
     ],
     "output_type": "stream"
    }
   ],
   "source": [
    "print(f'Podaci:')\n",
    "print(X[:10])\n",
    "print(' ...')\n",
    "\n",
    "print(f'Ciljne promenljive:')\n",
    "print(y[:10])\n",
    "print(' ...')"
   ],
   "metadata": {
    "collapsed": false,
    "pycharm": {
     "name": "#%%\n",
     "is_executing": false
    }
   }
  },
  {
   "cell_type": "code",
   "execution_count": 10,
   "outputs": [],
   "source": [
    "X_train, X_test, y_train, y_test = train_test_split(X, y, \n",
    "                                                    stratify=y, \n",
    "                                                    test_size=0.4, \n",
    "                                                    random_state=5)"
   ],
   "metadata": {
    "collapsed": false,
    "pycharm": {
     "name": "#%%\n",
     "is_executing": false
    }
   }
  },
  {
   "cell_type": "code",
   "execution_count": 11,
   "outputs": [
    {
     "name": "stdout",
     "text": [
      "X_train:\n[[1.000e+00 1.400e+00 2.000e-01 1.960e+00 4.000e-02]\n [1.000e+00 4.500e+00 1.500e+00 2.025e+01 2.250e+00]\n [1.000e+00 5.500e+00 1.800e+00 3.025e+01 3.240e+00]\n [1.000e+00 4.400e+00 1.200e+00 1.936e+01 1.440e+00]\n [1.000e+00 1.700e+00 5.000e-01 2.890e+00 2.500e-01]\n [1.000e+00 1.400e+00 2.000e-01 1.960e+00 4.000e-02]\n [1.000e+00 2.600e+00 1.500e+00 6.760e+00 2.250e+00]\n [1.000e+00 5.500e+00 1.800e+00 3.025e+01 3.240e+00]\n [1.000e+00 4.800e+00 1.800e+00 2.304e+01 3.240e+00]\n [1.000e+00 1.100e+00 1.000e-01 1.210e+00 1.000e-02]]\n ...\n\ny_train:\n[[1. 0. 0. 0. 0.]\n [0. 1. 0. 0. 0.]\n [0. 0. 1. 0. 0.]\n [0. 1. 0. 0. 0.]\n [1. 0. 0. 0. 0.]\n [1. 0. 0. 0. 0.]\n [0. 0. 0. 1. 0.]\n [0. 0. 1. 0. 0.]\n [0. 0. 1. 0. 0.]\n [1. 0. 0. 0. 0.]]\n ...\n\nX_test:\n[[1.000e+00 6.000e+00 1.000e+00 3.600e+01 1.000e+00]\n [1.000e+00 5.000e+00 7.000e-01 2.500e+01 4.900e-01]\n [1.000e+00 2.600e+00 1.300e+00 6.760e+00 1.690e+00]\n [1.000e+00 1.600e+00 2.000e-01 2.560e+00 4.000e-02]\n [1.000e+00 4.700e+00 1.100e+00 2.209e+01 1.210e+00]\n [1.000e+00 3.700e+00 1.000e+00 1.369e+01 1.000e+00]\n [1.000e+00 6.100e+00 2.300e+00 3.721e+01 5.290e+00]\n [1.000e+00 4.900e+00 1.500e+00 2.401e+01 2.250e+00]\n [1.000e+00 6.900e+00 2.300e+00 4.761e+01 5.290e+00]\n [1.000e+00 4.700e+00 1.200e+00 2.209e+01 1.440e+00]]\n ...\n\ny_test:\n[[0. 0. 0. 0. 1.]\n [0. 0. 0. 0. 1.]\n [0. 0. 0. 1. 0.]\n [1. 0. 0. 0. 0.]\n [0. 0. 0. 0. 1.]\n [0. 1. 0. 0. 0.]\n [0. 0. 1. 0. 0.]\n [0. 1. 0. 0. 0.]\n [0. 0. 1. 0. 0.]\n [0. 1. 0. 0. 0.]]\n ...\n"
     ],
     "output_type": "stream"
    }
   ],
   "source": [
    "print(f'X_train:')\n",
    "print(X_train[:10])\n",
    "print(' ...')\n",
    "print()\n",
    "\n",
    "print(f'y_train:')\n",
    "print(y_train[:10])\n",
    "print(' ...')\n",
    "print()\n",
    "\n",
    "print(f'X_test:')\n",
    "print(X_test[:10])\n",
    "print(' ...')\n",
    "print()\n",
    "\n",
    "print(f'y_test:')\n",
    "print(y_test[:10])\n",
    "print(' ...')"
   ],
   "metadata": {
    "collapsed": false,
    "pycharm": {
     "name": "#%%\n",
     "is_executing": false
    }
   }
  },
  {
   "cell_type": "code",
   "execution_count": 12,
   "outputs": [
    {
     "name": "stdout",
     "text": [
      "~ Neural network ~\nLayer 1:\n[1. 1. 1. 1. 1.]\nLayer 2:\n[1. 1. 1. 1. 1. 1. 1.]\nLayer 3:\n[1. 1. 1. 1. 1.]\n\nDimenzije matrica modela koji mapiraju slojeve:\n0 -> 1: 6 x 5\n1 -> 2: 5 x 7\n\nInitial model:\nModel:\nW_0: 0 -> 1\n[[-0.05836535  0.02436203 -0.04906601  0.06482071 -0.09119757]\n [ 0.0243445  -0.02798128 -0.04077608  0.04998993  0.08941528]\n [ 0.04337067  0.07422797 -0.01775161 -0.04427937 -0.09440114]\n [ 0.09177818  0.09825028 -0.06780894  0.07903445 -0.06917626]\n [-0.0942316  -0.06094864  0.00487548  0.00649435 -0.00020762]\n [ 0.02669824 -0.0828177   0.02129086  0.07584793 -0.0496075 ]]\nW_1: 1 -> 2\n[[-0.09666425 -0.06128758  0.04577081 -0.04216238 -0.08385929  0.02081899\n  -0.09038054]\n [ 0.04241695 -0.03764495 -0.05049151  0.05666422 -0.06156461  0.05876117\n  -0.07508603]\n [ 0.07095271  0.00762878  0.07955247 -0.02118433 -0.07776893 -0.08466553\n   0.02830599]\n [-0.04582905  0.09946456 -0.05648837  0.0389568   0.04136683  0.0574687\n  -0.00632452]\n [-0.02675636  0.03211596  0.00126918  0.05875292  0.04753086 -0.03640306\n  -0.01946524]]\n"
     ],
     "output_type": "stream"
    }
   ],
   "source": [
    "nn = nc.NeuralNetwork(2*m, [3*m], n_classes)\n",
    "\n",
    "nn.print_network()\n",
    "print()\n",
    "\n",
    "nn.print_layer_mapper_sizes()\n",
    "print()\n",
    "\n",
    "print('Initial model:')\n",
    "nn.print_model()"
   ],
   "metadata": {
    "collapsed": false,
    "pycharm": {
     "name": "#%%\n",
     "is_executing": false
    }
   }
  },
  {
   "cell_type": "code",
   "execution_count": 13,
   "outputs": [
    {
     "data": {
      "text/plain": "<Figure size 432x288 with 1 Axes>",
      "image/png": "[encoded data removed]"
     },
     "metadata": {
      "needs_background": "light"
     },
     "output_type": "display_data"
    },
    {
     "name": "stdout",
     "text": [
      "Trained model:\nModel:\nW_0: 0 -> 1\n[[ 0.05998678 -0.05411545 -0.0653      0.10709527 -0.04933846]\n [ 0.0174372   0.18578825  0.00674448  0.2472164  -0.01698682]\n [ 0.00102362 -0.08544127 -0.11501026  0.12392077 -0.03706333]\n [-0.00299123 -0.08927141 -0.01853507  0.13636782 -0.00574598]\n [ 0.28985478  0.28939134  0.24755737 -0.19937855  0.12800101]\n [-0.04621167 -0.07550753  0.12517179  0.16054525  0.05247247]]\nW_1: 1 -> 2\n[[-0.063767   -0.34701621 -0.37518758 -0.45175853 -0.38157936  0.59756429\n  -0.58357957]\n [-0.55203344 -0.17531064 -0.1368761  -0.18888799 -0.06925484 -0.34341859\n  -0.23226447]\n [-0.61595474 -0.10228923 -0.29208568 -0.02221717 -0.0265911  -0.6023778\n  -0.10108669]\n [-0.28079227 -0.40063416 -0.29936675 -0.35605869 -0.32098627  0.32829998\n  -0.17306232]\n [-0.55369646 -0.01744345 -0.36275117 -0.0172264  -0.1349471  -0.52951152\n  -0.10213152]]\n\n~ Neural network ~\nLayer 1:\n[ 1.    4.6   1.4  21.16  1.96]\nLayer 2:\n[1.         0.86869705 0.99771367 0.88046875 0.91947405 0.11915426\n 0.96381922]\nLayer 3:\n[0.12141422 0.20821993 0.22977413 0.15928123 0.22588518]\n"
     ],
     "output_type": "stream"
    }
   ],
   "source": [
    "clf = nn.fit(X_train, \n",
    "             y_train, \n",
    "             alpha=0.0085, \n",
    "             num_iter=1500,\n",
    "             plot=True, \n",
    "             gc_it=100, \n",
    "             gc_log_path='./gc_test2.txt')\n",
    "\n",
    "print('Trained model:')\n",
    "clf.print_model()\n",
    "print()\n",
    "\n",
    "nn.print_network()"
   ],
   "metadata": {
    "collapsed": false,
    "pycharm": {
     "name": "#%%\n",
     "is_executing": false
    }
   }
  },
  {
   "cell_type": "code",
   "execution_count": 14,
   "outputs": [
    {
     "data": {
      "text/plain": "<Figure size 432x288 with 1 Axes>",
      "image/png": "[encoded data removed]"
     },
     "metadata": {
      "needs_background": "light"
     },
     "output_type": "display_data"
    }
   ],
   "source": [
    "nc.plot_learning_curves(X_train, y_train, X_test, y_test, clf)"
   ],
   "metadata": {
    "collapsed": false,
    "pycharm": {
     "name": "#%%\n",
     "is_executing": false
    }
   }
  },
  {
   "cell_type": "code",
   "execution_count": 15,
   "outputs": [
    {
     "data": {
      "text/plain": "<matplotlib.legend.Legend at 0xbfc7278>"
     },
     "metadata": {},
     "output_type": "execute_result",
     "execution_count": 15
    },
    {
     "data": {
      "text/plain": "<Figure size 432x288 with 1 Axes>",
      "image/png": "[encoded data removed]"
     },
     "metadata": {
      "needs_background": "light"
     },
     "output_type": "display_data"
    }
   ],
   "source": [
    "colors = ['red', 'blue', 'green', 'yellow', 'magenta']\n",
    "for c, cls in zip(colors, classes):\n",
    "    subsample = df.loc[df['variety'] == cls]\n",
    "    plt.scatter(subsample[attr1], subsample[attr2], color=c)\n",
    "\n",
    "plt.xlabel(attr1)\n",
    "plt.ylabel(attr2)\n",
    "\n",
    "plt.legend(classes)"
   ],
   "metadata": {
    "collapsed": false,
    "pycharm": {
     "name": "#%%\n",
     "is_executing": false
    }
   }
  },
  {
   "cell_type": "code",
   "execution_count": 16,
   "outputs": [],
   "source": [
    "x1 = np.array([1, 0.5, 0.4, 0.5**2, 0.4**2]) # Setosa\n",
    "x2 = np.array([1, 4.2, 1.2, 4.2**2, 1.2**2]) # Versicolor\n",
    "x3 = np.array([1, 5.5, 2, 5.5**2, 2**2]) # Virginca\n",
    "x4 = np.array([1, 2.9, 1.9, 2.9**2, 1.9**2]) # Letosa\n",
    "x5 = np.array([1, 5.2, 0.8, 5.2**2, 0.8**2]) # Helenica"
   ],
   "metadata": {
    "collapsed": false,
    "pycharm": {
     "name": "#%%\n",
     "is_executing": false
    }
   }
  },
  {
   "cell_type": "code",
   "execution_count": 17,
   "outputs": [
    {
     "name": "stdout",
     "text": [
      "~ TESTIRANJE KLASIFIKATORA ~\nTest 1:\nPrediction vector: [0.31602811 0.23650294 0.21811051 0.29736144 0.22862038]\nMax prediction value: 0.3160281070829708 (at position 0)\nClass: Setosa\n\nTest 2:\nPrediction vector: [0.1325502  0.20898406 0.22531802 0.16874249 0.22236897]\nMax prediction value: 0.22531801507534865 (at position 2)\nClass: Virginica\n\nTest 3:\nPrediction vector: [0.10743519 0.20685761 0.23580343 0.14644781 0.23084789]\nMax prediction value: 0.23580342908505747 (at position 2)\nClass: Virginica\n\nTest 4:\nPrediction vector: [0.21548106 0.20645665 0.19394099 0.23227979 0.19700618]\nMax prediction value: 0.2322797891200141 (at position 3)\nClass: Letosa\n\nTest 5:\nPrediction vector: [0.10847241 0.20805217 0.23686163 0.14739252 0.23195565]\nMax prediction value: 0.2368616307060637 (at position 2)\nClass: Virginica\n\n"
     ],
     "output_type": "stream"
    }
   ],
   "source": [
    "y_predict1 = clf.predict(x1)\n",
    "y_predict2 = clf.predict(x2)\n",
    "y_predict3 = clf.predict(x3)\n",
    "y_predict4 = clf.predict(x4)\n",
    "y_predict5 = clf.predict(x5)\n",
    "\n",
    "print('~ TESTIRANJE KLASIFIKATORA ~')\n",
    "\n",
    "print('Test 1:')\n",
    "nc.Classifier.prediction_info(y_predict1, class_to_name_dict)\n",
    "print()\n",
    "\n",
    "print('Test 2:')\n",
    "nc.Classifier.prediction_info(y_predict2, class_to_name_dict)\n",
    "print()\n",
    "\n",
    "print('Test 3:')\n",
    "nc.Classifier.prediction_info(y_predict3, class_to_name_dict)\n",
    "print()\n",
    "\n",
    "print('Test 4:')\n",
    "nc.Classifier.prediction_info(y_predict4, class_to_name_dict)\n",
    "print()\n",
    "\n",
    "print('Test 5:')\n",
    "nc.Classifier.prediction_info(y_predict5, class_to_name_dict)\n",
    "print() "
   ],
   "metadata": {
    "collapsed": false,
    "pycharm": {
     "name": "#%%\n",
     "is_executing": false
    }
   }
  },
  {
   "cell_type": "code",
   "execution_count": null,
   "outputs": [],
   "source": [],
   "metadata": {
    "collapsed": false,
    "pycharm": {
     "name": "#%%\n"
    }
   }
  }
 ],
 "metadata": {
  "kernelspec": {
   "display_name": "Python 3",
   "language": "python",
   "name": "python3"
  },
  "language_info": {
   "codemirror_mode": {
    "name": "ipython",
    "version": 2
   },
   "file_extension": ".py",
   "mimetype": "text/x-python",
   "name": "python",
   "nbconvert_exporter": "python",
   "pygments_lexer": "ipython2",
   "version": "2.7.6"
  },
  "pycharm": {
   "stem_cell": {
    "cell_type": "raw",
    "source": [],
    "metadata": {
     "collapsed": false
    }
   }
  }
 },
 "nbformat": 4,
 "nbformat_minor": 0
}