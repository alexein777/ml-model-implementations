{
 "cells": [
  {
   "cell_type": "code",
   "execution_count": 2,
   "outputs": [],
   "source": [
    "from neural_implementation import neural_classification as nc\n",
    "import pandas as pd\n",
    "import numpy as np\n",
    "import matplotlib.pyplot as plt\n",
    "from sklearn.model_selection import train_test_split"
   ],
   "metadata": {
    "collapsed": false,
    "pycharm": {
     "name": "#%%\n",
     "is_executing": false
    }
   }
  },
  {
   "cell_type": "code",
   "execution_count": 4,
   "outputs": [
    {
     "data": {
      "text/plain": "   sepal.length  sepal.width  petal.length  petal.width variety\n0           5.1          3.5           1.4          0.2  Setosa\n1           4.9          3.0           1.4          0.2  Setosa\n2           4.7          3.2           1.3          0.2  Setosa\n3           4.6          3.1           1.5          0.2  Setosa\n4           5.0          3.6           1.4          0.2  Setosa",
      "text/html": "<div>\n<style scoped>\n    .dataframe tbody tr th:only-of-type {\n        vertical-align: middle;\n    }\n\n    .dataframe tbody tr th {\n        vertical-align: top;\n    }\n\n    .dataframe thead th {\n        text-align: right;\n    }\n</style>\n<table border=\"1\" class=\"dataframe\">\n  <thead>\n    <tr style=\"text-align: right;\">\n      <th></th>\n      <th>sepal.length</th>\n      <th>sepal.width</th>\n      <th>petal.length</th>\n      <th>petal.width</th>\n      <th>variety</th>\n    </tr>\n  </thead>\n  <tbody>\n    <tr>\n      <th>0</th>\n      <td>5.1</td>\n      <td>3.5</td>\n      <td>1.4</td>\n      <td>0.2</td>\n      <td>Setosa</td>\n    </tr>\n    <tr>\n      <th>1</th>\n      <td>4.9</td>\n      <td>3.0</td>\n      <td>1.4</td>\n      <td>0.2</td>\n      <td>Setosa</td>\n    </tr>\n    <tr>\n      <th>2</th>\n      <td>4.7</td>\n      <td>3.2</td>\n      <td>1.3</td>\n      <td>0.2</td>\n      <td>Setosa</td>\n    </tr>\n    <tr>\n      <th>3</th>\n      <td>4.6</td>\n      <td>3.1</td>\n      <td>1.5</td>\n      <td>0.2</td>\n      <td>Setosa</td>\n    </tr>\n    <tr>\n      <th>4</th>\n      <td>5.0</td>\n      <td>3.6</td>\n      <td>1.4</td>\n      <td>0.2</td>\n      <td>Setosa</td>\n    </tr>\n  </tbody>\n</table>\n</div>"
     },
     "metadata": {},
     "output_type": "execute_result",
     "execution_count": 4
    }
   ],
   "source": [
    "# UCITAVANJE PODATAKA I TESTIRANJE\n",
    "\n",
    "df = pd.read_csv('./datasets/iris_extended.csv')\n",
    "df.head()"
   ],
   "metadata": {
    "collapsed": false,
    "pycharm": {
     "name": "#%%\n",
     "is_executing": false
    }
   }
  },
  {
   "cell_type": "code",
   "execution_count": 5,
   "outputs": [
    {
     "name": "stdout",
     "text": [
      "Ukupan broj podataka: 250\nBroj atributa svakog podatka: 4\nAtributi: ['sepal.length', 'sepal.width', 'petal.length', 'petal.width']\n"
     ],
     "output_type": "stream"
    }
   ],
   "source": [
    "N = df.shape[0]\n",
    "print(f'Ukupan broj podataka: {N}')\n",
    "\n",
    "m = df.shape[1] - 1\n",
    "print(f'Broj atributa svakog podatka: {m}')\n",
    "\n",
    "attributes = list(df.drop('variety', axis=True).columns)\n",
    "print(f'Atributi: {attributes}')"
   ],
   "metadata": {
    "collapsed": false,
    "pycharm": {
     "name": "#%%\n",
     "is_executing": false
    }
   }
  },
  {
   "cell_type": "code",
   "execution_count": 6,
   "outputs": [
    {
     "name": "stdout",
     "text": [
      "Velicina skupa podataka: 250\n"
     ],
     "output_type": "stream"
    }
   ],
   "source": [
    "attr1 = 'petal.length'\n",
    "attr2 = 'petal.width'\n",
    "attributes = [attr1, attr2]\n",
    "m = len(attributes)\n",
    "\n",
    "N = df.shape[0]\n",
    "print(f'Velicina skupa podataka: {N}')"
   ],
   "metadata": {
    "collapsed": false,
    "pycharm": {
     "name": "#%%\n",
     "is_executing": false
    }
   }
  },
  {
   "cell_type": "code",
   "execution_count": 7,
   "outputs": [
    {
     "name": "stdout",
     "text": [
      "Klase: ['Setosa' 'Versicolor' 'Virginica' 'Letosa' 'Helenica']\nBroj klasa: 5\n\nMapiranje imena klasa u numericke vrednosti:\nSetosa -> 0\nVersicolor -> 1\nVirginica -> 2\nLetosa -> 3\nHelenica -> 4\n\nMapiranje numerickih vrednosti u odgovarajuce nazive klasa:\n0 -> Setosa\n1 -> Versicolor\n2 -> Virginica\n3 -> Letosa\n4 -> Helenica\n"
     ],
     "output_type": "stream"
    }
   ],
   "source": [
    "classes = df['variety'].unique()\n",
    "n_classes = len(classes)\n",
    "\n",
    "print(f'Klase: {classes}')\n",
    "print(f'Broj klasa: {n_classes}\\n')\n",
    "\n",
    "name_to_class_dict = dict(zip(classes, range(n_classes)))\n",
    "class_to_name_dict = dict(zip(range(n_classes), classes))\n",
    "\n",
    "print(f'Mapiranje imena klasa u numericke vrednosti:')\n",
    "for name, cls in name_to_class_dict.items():\n",
    "    print(f'{name} -> {cls}')\n",
    "\n",
    "print()\n",
    "print(f'Mapiranje numerickih vrednosti u odgovarajuce nazive klasa:')\n",
    "for cls, name in class_to_name_dict.items():\n",
    "    print(f'{cls} -> {name}')"
   ],
   "metadata": {
    "collapsed": false,
    "pycharm": {
     "name": "#%%\n",
     "is_executing": false
    }
   }
  },
  {
   "cell_type": "code",
   "execution_count": 8,
   "outputs": [
    {
     "name": "stdout",
     "text": [
      "Mapiranje numericke vrednosti u odgovarajuci vektor:\n0 -> [1. 0. 0. 0. 0.]\n1 -> [0. 1. 0. 0. 0.]\n2 -> [0. 0. 1. 0. 0.]\n3 -> [0. 0. 0. 1. 0.]\n4 -> [0. 0. 0. 0. 1.]\n"
     ],
     "output_type": "stream"
    }
   ],
   "source": [
    "mapper_cls_to_vec = {}\n",
    "for i in range(n_classes):\n",
    "    vec = np.zeros((n_classes,))\n",
    "    vec[i] = 1\n",
    "    \n",
    "    mapper_cls_to_vec[i] = vec\n",
    "    \n",
    "print('Mapiranje numericke vrednosti u odgovarajuci vektor:')\n",
    "for cls, vec in mapper_cls_to_vec.items():\n",
    "    print(f'{cls} -> {vec}')"
   ],
   "metadata": {
    "collapsed": false,
    "pycharm": {
     "name": "#%%\n",
     "is_executing": false
    }
   }
  },
  {
   "cell_type": "code",
   "execution_count": 9,
   "outputs": [],
   "source": [
    "y_tmp = df['variety']\n",
    "\n",
    "y = np.zeros((N, n_classes))\n",
    "for i in range(N):\n",
    "    cls = name_to_class_dict[y_tmp[i]]\n",
    "    y[i] = mapper_cls_to_vec[cls]"
   ],
   "metadata": {
    "collapsed": false,
    "pycharm": {
     "name": "#%%\n",
     "is_executing": false
    }
   }
  },
  {
   "cell_type": "code",
   "execution_count": 10,
   "outputs": [],
   "source": [
    "X = np.ones((N, m + 1))\n",
    "X[:, 1] = df[attr1]\n",
    "X[:, 2] = df[attr2]\n",
    "# X[:, 3] = df[attr1]**2\n",
    "# X[:, 4] = df[attr2]**2"
   ],
   "metadata": {
    "collapsed": false,
    "pycharm": {
     "name": "#%%\n",
     "is_executing": false
    }
   }
  },
  {
   "cell_type": "code",
   "execution_count": 11,
   "outputs": [
    {
     "name": "stdout",
     "text": [
      "Podaci:\n[[1.  1.4 0.2]\n [1.  1.4 0.2]\n [1.  1.3 0.2]\n [1.  1.5 0.2]\n [1.  1.4 0.2]\n [1.  1.7 0.4]\n [1.  1.4 0.3]\n [1.  1.5 0.2]\n [1.  1.4 0.2]\n [1.  1.5 0.1]]\n ...\nCiljne promenljive:\n[[1. 0. 0. 0. 0.]\n [1. 0. 0. 0. 0.]\n [1. 0. 0. 0. 0.]\n [1. 0. 0. 0. 0.]\n [1. 0. 0. 0. 0.]\n [1. 0. 0. 0. 0.]\n [1. 0. 0. 0. 0.]\n [1. 0. 0. 0. 0.]\n [1. 0. 0. 0. 0.]\n [1. 0. 0. 0. 0.]]\n ...\n"
     ],
     "output_type": "stream"
    }
   ],
   "source": [
    "print(f'Podaci:')\n",
    "print(X[:10])\n",
    "print(' ...')\n",
    "\n",
    "print(f'Ciljne promenljive:')\n",
    "print(y[:10])\n",
    "print(' ...')"
   ],
   "metadata": {
    "collapsed": false,
    "pycharm": {
     "name": "#%%\n",
     "is_executing": false
    }
   }
  },
  {
   "cell_type": "code",
   "execution_count": 12,
   "outputs": [
    {
     "data": {
      "text/plain": "<matplotlib.legend.Legend at 0xbf19b38>"
     },
     "metadata": {},
     "output_type": "execute_result",
     "execution_count": 12
    },
    {
     "data": {
      "text/plain": "<Figure size 432x288 with 1 Axes>",
      "image/png": "[encoded data removed]"
     },
     "metadata": {
      "needs_background": "light"
     },
     "output_type": "display_data"
    }
   ],
   "source": [
    "colors = ['red', 'blue', 'green', 'yellow', 'magenta']\n",
    "for c, cls in zip(colors, classes):\n",
    "    subsample = df.loc[df['variety'] == cls]\n",
    "    plt.scatter(subsample[attr1], subsample[attr2], color=c)\n",
    "    \n",
    "plt.xlabel(attr1)\n",
    "plt.ylabel(attr2)\n",
    "\n",
    "plt.legend(classes)"
   ],
   "metadata": {
    "collapsed": false,
    "pycharm": {
     "name": "#%%\n",
     "is_executing": false
    }
   }
  },
  {
   "cell_type": "code",
   "execution_count": 13,
   "outputs": [],
   "source": [
    "X_train, X_test, y_train, y_test = train_test_split(X, y, \n",
    "                                                    stratify=y, \n",
    "                                                    test_size=0.3, \n",
    "                                                    random_state=5)"
   ],
   "metadata": {
    "collapsed": false,
    "pycharm": {
     "name": "#%%\n",
     "is_executing": false
    }
   }
  },
  {
   "cell_type": "code",
   "execution_count": 14,
   "outputs": [
    {
     "name": "stdout",
     "text": [
      "X_train:\n[[1.  4.7 1.6]\n [1.  6.4 2. ]\n [1.  2.7 1.7]\n [1.  5.6 0.7]\n [1.  2.9 1.6]\n [1.  1.3 0.2]\n [1.  1.5 0.4]\n [1.  4.7 1.1]\n [1.  4.3 1.3]\n [1.  3.  1.3]]\n ...\n\ny_train:\n[[0. 1. 0. 0. 0.]\n [0. 0. 1. 0. 0.]\n [0. 0. 0. 1. 0.]\n [0. 0. 0. 0. 1.]\n [0. 0. 0. 1. 0.]\n [1. 0. 0. 0. 0.]\n [1. 0. 0. 0. 0.]\n [0. 0. 0. 0. 1.]\n [0. 1. 0. 0. 0.]\n [0. 0. 0. 1. 0.]]\n ...\n\nX_test:\n[[1.  1.3 0.3]\n [1.  5.1 1. ]\n [1.  1.5 0.2]\n [1.  5.2 0.5]\n [1.  5.4 0.7]\n [1.  4.8 0.6]\n [1.  3.5 1. ]\n [1.  5.8 1.6]\n [1.  5.3 1.9]\n [1.  3.2 1.6]]\n ...\n\ny_test:\n[[1. 0. 0. 0. 0.]\n [0. 0. 0. 0. 1.]\n [1. 0. 0. 0. 0.]\n [0. 0. 0. 0. 1.]\n [0. 0. 0. 0. 1.]\n [0. 0. 0. 0. 1.]\n [0. 1. 0. 0. 0.]\n [0. 0. 1. 0. 0.]\n [0. 0. 1. 0. 0.]\n [0. 0. 0. 1. 0.]]\n ...\n"
     ],
     "output_type": "stream"
    }
   ],
   "source": [
    "print(f'X_train:')\n",
    "print(X_train[:10])\n",
    "print(' ...')\n",
    "print()\n",
    "\n",
    "print(f'y_train:')\n",
    "print(y_train[:10])\n",
    "print(' ...')\n",
    "print()\n",
    "\n",
    "print(f'X_test:')\n",
    "print(X_test[:10])\n",
    "print(' ...')\n",
    "print()\n",
    "\n",
    "print(f'y_test:')\n",
    "print(y_test[:10])\n",
    "print(' ...')"
   ],
   "metadata": {
    "collapsed": false,
    "pycharm": {
     "name": "#%%\n",
     "is_executing": false
    }
   }
  },
  {
   "cell_type": "code",
   "execution_count": 15,
   "outputs": [],
   "source": [
    "neural_networks = [\n",
    "    nc.NeuralNetwork(m, [m], n_classes),\n",
    "    nc.NeuralNetwork(m, [m, m], n_classes),\n",
    "    nc.NeuralNetwork(m, [m, m, m], n_classes),\n",
    "    nc.NeuralNetwork(m, [2*m], n_classes),\n",
    "    nc.NeuralNetwork(m, [2*m, m], n_classes),\n",
    "    nc.NeuralNetwork(m, [2*m, 2*m], n_classes),\n",
    "    nc.NeuralNetwork(m, [3*m], n_classes),\n",
    "    nc.NeuralNetwork(m, [3*m, m], n_classes),\n",
    "    nc.NeuralNetwork(m, [3*m, 3*m], n_classes),\n",
    "    nc.NeuralNetwork(m, [3*m, 3*m, 3*m], n_classes)\n",
    "]"
   ],
   "metadata": {
    "collapsed": false,
    "pycharm": {
     "name": "#%%\n",
     "is_executing": false
    }
   }
  },
  {
   "cell_type": "code",
   "execution_count": 16,
   "outputs": [
    {
     "name": "stdout",
     "text": [
      "lamda parameters:\n[0, 0.01, 0.015, 0.0225, 0.03375, 0.050625, 0.0759375, 0.11390625, 0.170859375]\n"
     ],
     "output_type": "stream"
    }
   ],
   "source": [
    "lambdas = [0] + [0.01 * (1.5**i) for i in range(8)]\n",
    "print('lamda parameters:')\n",
    "print(lambdas)"
   ],
   "metadata": {
    "collapsed": false,
    "pycharm": {
     "name": "#%%\n",
     "is_executing": false
    }
   }
  },
  {
   "cell_type": "code",
   "execution_count": 17,
   "outputs": [],
   "source": [
    "# Kljuc recnika ce biti indeks neuralne mreze kojoj odgovara klasifikator,\n",
    "# a vrednost lista klasifikatora (modela) za razlicite parametre lambda\n",
    "nn_classifiers = {}\n",
    "for i, nn in enumerate(neural_networks):\n",
    "    nn_classifiers[i] = [nn.fit(X_train, \n",
    "                             y_train, \n",
    "                             alpha=0.01, \n",
    "                             lambda_param=lambda_param,\n",
    "                             gc_it=100,\n",
    "                             gc_log_path=f'gc_log_{i}_{round(lambda_param, 3)}.txt') \n",
    "                      for lambda_param in lambdas]"
   ],
   "metadata": {
    "collapsed": false,
    "pycharm": {
     "name": "#%%\n",
     "is_executing": false
    }
   }
  },
  {
   "cell_type": "code",
   "execution_count": 18,
   "outputs": [
    {
     "name": "stdout",
     "text": [
      "Funkcije gubitka za svaki klasifikator posebno na test skupu:\n###############################################################\nGreske neuralne mreze 0 (slojevi: [2, 2, 5]):\n\t* Loss1 = 2.4853001872646434\n\t* Loss2 = 2.4896633613435784\n\t* Loss3 = 2.4923908287400205\n\t* Loss4 = 2.495108038274419\n\t* Loss5 = 2.4912848494401834\n\t* Loss6 = 2.4965522533448667\n\t* Loss7 = 2.49657660656543\n\t* Loss8 = 2.503322092651034\n\t* Loss9 = 2.50964770307596\n\nGreske neuralne mreze 1 (slojevi: [2, 2, 2, 5]):\n\t* Loss1 = 3.7318680350629228\n\t* Loss2 = 3.5139108064539943\n\t* Loss3 = 3.5593919034781583\n\t* Loss4 = 3.581863401385041\n\t* Loss5 = 3.4613998412237597\n\t* Loss6 = 3.63417178011646\n\t* Loss7 = 3.5758821192451773\n\t* Loss8 = 3.6359430160105726\n\t* Loss9 = 3.5212555124628935\n\nGreske neuralne mreze 2 (slojevi: [2, 2, 2, 2, 5]):\n\t* Loss1 = 3.546893568168851\n\t* Loss2 = 3.455127062548287\n\t* Loss3 = 3.5500145074827856\n\t* Loss4 = 3.4747054000792255\n\t* Loss5 = 3.5059858736311584\n\t* Loss6 = 3.6055554875802347\n\t* Loss7 = 3.5604152386892465\n\t* Loss8 = 3.4937205888821268\n\t* Loss9 = 3.5999076334532\n\nGreske neuralne mreze 3 (slojevi: [2, 4, 5]):\n\t* Loss1 = 2.4825521764507985\n\t* Loss2 = 2.4880871236362223\n\t* Loss3 = 2.487315696172081\n\t* Loss4 = 2.4851182038573354\n\t* Loss5 = 2.4897893185586137\n\t* Loss6 = 2.4918755347139117\n\t* Loss7 = 2.4941482253341203\n\t* Loss8 = 2.5001566646524824\n\t* Loss9 = 2.5088675617111056\n\nGreske neuralne mreze 4 (slojevi: [2, 4, 2, 5]):\n\t* Loss1 = 3.4639607320619605\n\t* Loss2 = 3.4479029999328152\n\t* Loss3 = 3.419290806220842\n\t* Loss4 = 3.4572514774938155\n\t* Loss5 = 3.5147859878642325\n\t* Loss6 = 3.411767193639817\n\t* Loss7 = 3.505849056269783\n\t* Loss8 = 3.4695202829256067\n\t* Loss9 = 3.4772556951017335\n\nGreske neuralne mreze 5 (slojevi: [2, 4, 4, 5]):\n\t* Loss1 = 2.9197716834789933\n\t* Loss2 = 2.882090392054823\n\t* Loss3 = 2.893570724207074\n\t* Loss4 = 2.91995719436249\n\t* Loss5 = 2.885703802769424\n\t* Loss6 = 2.9322300715224117\n\t* Loss7 = 2.8794259367960056\n\t* Loss8 = 2.9186408462557023\n\t* Loss9 = 2.93822374792363\n\nGreske neuralne mreze 6 (slojevi: [2, 6, 5]):\n\t* Loss1 = 2.4756237864684265\n\t* Loss2 = 2.4795428604737944\n\t* Loss3 = 2.4857675610405887\n\t* Loss4 = 2.486551949647689\n\t* Loss5 = 2.484157256907703\n\t* Loss6 = 2.4944667656614032\n\t* Loss7 = 2.4959374573464865\n\t* Loss8 = 2.5016905399342355\n\t* Loss9 = 2.505607838381813\n\nGreske neuralne mreze 7 (slojevi: [2, 6, 2, 5]):\n\t* Loss1 = 3.488046205998907\n\t* Loss2 = 3.4794945882769706\n\t* Loss3 = 3.4524916263207888\n\t* Loss4 = 3.404731966123863\n\t* Loss5 = 3.445575477810088\n\t* Loss6 = 3.4967055425881948\n\t* Loss7 = 3.4721030757179414\n\t* Loss8 = 3.450397111569176\n\t* Loss9 = 3.4718931641140722\n\nGreske neuralne mreze 8 (slojevi: [2, 6, 6, 5]):\n\t* Loss1 = 2.8689692624989096\n\t* Loss2 = 2.8662418595254886\n\t* Loss3 = 2.8944267835600788\n\t* Loss4 = 2.8748562772373973\n\t* Loss5 = 2.865879762127384\n\t* Loss6 = 2.927160077393685\n\t* Loss7 = 2.9335841576279593\n\t* Loss8 = 2.9385828804713277\n\t* Loss9 = 2.9814993832068852\n\nGreske neuralne mreze 9 (slojevi: [2, 6, 6, 6, 5]):\n\t* Loss1 = 3.3754436417093965\n\t* Loss2 = 3.477432467427953\n\t* Loss3 = 3.5682585634680164\n\t* Loss4 = 3.438975853864245\n\t* Loss5 = 3.393495462503494\n\t* Loss6 = 3.445339581464221\n\t* Loss7 = 3.4370022722644036\n\t* Loss8 = 3.6362807212819552\n\t* Loss9 = 3.4322803120081615\n\n"
     ],
     "output_type": "stream"
    }
   ],
   "source": [
    "nn_classifier_losses = {}\n",
    "for nn_index, nn_clfs in nn_classifiers.items():\n",
    "    nn_classifier_losses[nn_index] = [clf.loss(X_test, y_test) for clf in nn_clfs]\n",
    "\n",
    "print('Funkcije gubitka za svaki klasifikator posebno na test skupu:')\n",
    "print('###############################################################')\n",
    "for nn_index, clfs in nn_classifiers.items():\n",
    "    print(f'Greske neuralne mreze {nn_index} (slojevi: {neural_networks[nn_index].layer_sizes}):')\n",
    "    \n",
    "    for i, loss in enumerate(nn_classifier_losses[nn_index]):\n",
    "        print(f'\\t* Loss{i + 1} = {loss}')\n",
    "        \n",
    "    print()\n"
   ],
   "metadata": {
    "collapsed": false,
    "pycharm": {
     "name": "#%%\n",
     "is_executing": false
    }
   }
  },
  {
   "cell_type": "code",
   "execution_count": 22,
   "outputs": [
    {
     "name": "stdout",
     "text": [
      "Najmanji gubitak (na test skupu) za svaki klasifikator: 2.4756237864684265\nMreza za koju je istreniran najbolji klasifikator: \n\tIndeks: 6\n\tslojevi: [2, 6, 5]\nModel najboljeg klasifikatora:\nModel:\nW_0: 0 -> 1\n[[-0.04240668 -0.14703178 -0.0078024 ]\n [ 0.12203233  0.34207889  0.05016616]\n [ 0.04311149  0.26669382  0.16788858]\n [ 0.04384077  0.25216804  0.06165955]\n [-0.0133684   0.25656534  0.05200348]\n [ 0.13491516  0.10922912  0.02327104]]\nW_1: 1 -> 2\n[[-0.21749809  0.01658558 -0.45899812 -0.42436926 -0.34590371 -0.29648532\n  -0.24957064]\n [-0.43965281 -0.23018133 -0.27569096 -0.21121279 -0.19016987 -0.26710156\n  -0.16801954]\n [-0.50157487 -0.33065517 -0.22261343 -0.20022061 -0.11282543 -0.13118507\n  -0.24186248]\n [-0.40071118 -0.07294924 -0.35628073 -0.22072571 -0.27667806 -0.30948334\n  -0.17322351]\n [-0.53921552 -0.1921872  -0.28116731 -0.14205662 -0.11911993 -0.1981574\n  -0.21080616]]\n"
     ],
     "output_type": "stream"
    }
   ],
   "source": [
    "min_loss = float('inf')\n",
    "nn_index_best = 0\n",
    "clf_index_best = 0\n",
    "\n",
    "for nn_index, losses in nn_classifier_losses.items():\n",
    "    for i, loss in enumerate(losses):\n",
    "        if min_loss > loss:\n",
    "            min_loss = loss\n",
    "            nn_index_best = nn_index\n",
    "            clf_index_best = i\n",
    "            \n",
    "best_clf = nn_classifiers[nn_index_best][clf_index_best]\n",
    "        \n",
    "print(f'Najmanji gubitak (na test skupu) za svaki klasifikator: {min_loss}')    \n",
    "print(f'Mreza za koju je istreniran najbolji klasifikator: '\n",
    "      f'\\n\\tIndeks: {nn_index_best}\\n\\tslojevi: {neural_networks[nn_index_best].layer_sizes}')\n",
    "print('Model najboljeg klasifikatora:')\n",
    "\n",
    "best_clf.print_model()"
   ],
   "metadata": {
    "collapsed": false,
    "pycharm": {
     "name": "#%%\n",
     "is_executing": false
    }
   }
  },
  {
   "cell_type": "code",
   "execution_count": 23,
   "outputs": [
    {
     "data": {
      "text/plain": "<Figure size 432x288 with 1 Axes>",
      "image/png": "[encoded data removed]"
     },
     "metadata": {
      "needs_background": "light"
     },
     "output_type": "display_data"
    }
   ],
   "source": [
    "nc.plot_learning_curves(X_train, y_train, X_test, y_test, best_clf)"
   ],
   "metadata": {
    "collapsed": false,
    "pycharm": {
     "name": "#%%\n",
     "is_executing": false
    }
   }
  },
  {
   "cell_type": "code",
   "execution_count": 24,
   "outputs": [
    {
     "name": "stdout",
     "text": [
      "Ponovno iscrtavanje skupa podataka pred testiranje:\n"
     ],
     "output_type": "stream"
    },
    {
     "data": {
      "text/plain": "<matplotlib.legend.Legend at 0x5fb8780>"
     },
     "metadata": {},
     "output_type": "execute_result",
     "execution_count": 24
    },
    {
     "data": {
      "text/plain": "<Figure size 432x288 with 1 Axes>",
      "image/png": "[encoded data removed]"
     },
     "metadata": {
      "needs_background": "light"
     },
     "output_type": "display_data"
    }
   ],
   "source": [
    "print('Ponovno iscrtavanje skupa podataka pred testiranje:')\n",
    "\n",
    "colors = ['red', 'blue', 'green', 'yellow', 'magenta']\n",
    "for c, cls in zip(colors, classes):\n",
    "    subsample = df.loc[df['variety'] == cls]\n",
    "    plt.scatter(subsample[attr1], subsample[attr2], color=c)\n",
    "\n",
    "plt.xlabel(attr1)\n",
    "plt.ylabel(attr2)\n",
    "\n",
    "plt.legend(classes)"
   ],
   "metadata": {
    "collapsed": false,
    "pycharm": {
     "name": "#%%\n",
     "is_executing": false
    }
   }
  },
  {
   "cell_type": "code",
   "execution_count": 25,
   "outputs": [],
   "source": [
    "x1 = np.array([1, 0.5, 0.4]) # Setosa\n",
    "x2 = np.array([1, 4.2, 1.2]) # Versicolor\n",
    "x3 = np.array([1, 5.5, 2]) # Virginca\n",
    "x4 = np.array([1, 2.9, 1.9]) # Letosa\n",
    "x5 = np.array([1, 5.2, 0.8]) # Helenica"
   ],
   "metadata": {
    "collapsed": false,
    "pycharm": {
     "name": "#%%\n",
     "is_executing": false
    }
   }
  },
  {
   "cell_type": "code",
   "execution_count": 28,
   "outputs": [
    {
     "name": "stdout",
     "text": [
      "[0.2420722  0.24404143 0.24866745 0.24239734 0.24931727]\n[0.21662545 0.22717425 0.23393385 0.22214828 0.23276785]\n[0.2083616  0.22157699 0.22899993 0.21550546 0.2272375 ]\n[0.22294629 0.23146718 0.23773303 0.22727209 0.23696343]\n[0.21186315 0.22391841 0.23104511 0.2182794  0.22957554]\n"
     ],
     "output_type": "stream"
    }
   ],
   "source": [
    "nn_best = neural_networks[nn_index_best]\n",
    "nn_best.set_model(best_clf.model)\n",
    "\n",
    "y1 = nn_best.predict(x1)\n",
    "print(y1)\n",
    "\n",
    "y2 = nn_best.predict(x2)\n",
    "print(y2)\n",
    "\n",
    "y3 = nn_best.predict(x3)\n",
    "print(y3)\n",
    "\n",
    "y4 = nn_best.predict(x4)\n",
    "print(y4)\n",
    "\n",
    "y5 = nn_best.predict(x5)\n",
    "print(y5)"
   ],
   "metadata": {
    "collapsed": false,
    "pycharm": {
     "name": "#%%\n",
     "is_executing": false
    }
   }
  },
  {
   "cell_type": "code",
   "execution_count": 26,
   "outputs": [
    {
     "name": "stdout",
     "text": [
      "~ TESTIRANJE KLASIFIKATORA ~\nTest 1:\nPrediction vector: [0.23184799 0.23779582 0.23816863 0.23563892 0.23891698]\nMax prediction value: 0.2389169752347931 (at position 4)\nClass: Helenica\n\nTest 2:\nPrediction vector: [0.17027384 0.202242   0.21391191 0.18900128 0.2091625 ]\nMax prediction value: 0.2139119087466922 (at position 2)\nClass: Virginica\n\nTest 3:\nPrediction vector: [0.15611256 0.19362651 0.20798149 0.17787226 0.20190793]\nMax prediction value: 0.20798149262420276 (at position 2)\nClass: Virginica\n\nTest 4:\nPrediction vector: [0.1835053  0.21000009 0.2188527  0.19950477 0.21584215]\nMax prediction value: 0.21885269590535864 (at position 2)\nClass: Virginica\n\nTest 5:\nPrediction vector: [0.16159227 0.19710062 0.21062155 0.18208118 0.20475055]\nMax prediction value: 0.21062155441042762 (at position 2)\nClass: Virginica\n\n"
     ],
     "output_type": "stream"
    }
   ],
   "source": [
    "y_predict1 = best_clf.predict(x1)\n",
    "y_predict2 = best_clf.predict(x2)\n",
    "y_predict3 = best_clf.predict(x3)\n",
    "y_predict4 = best_clf.predict(x4)\n",
    "y_predict5 = best_clf.predict(x5)\n",
    "\n",
    "print('~ TESTIRANJE KLASIFIKATORA ~')\n",
    "\n",
    "print('Test 1:')\n",
    "nc.Classifier.prediction_info(y_predict1, class_to_name_dict)\n",
    "print()\n",
    "\n",
    "print('Test 2:')\n",
    "nc.Classifier.prediction_info(y_predict2, class_to_name_dict)\n",
    "print()\n",
    "\n",
    "print('Test 3:')\n",
    "nc.Classifier.prediction_info(y_predict3, class_to_name_dict)\n",
    "print()\n",
    "\n",
    "print('Test 4:')\n",
    "nc.Classifier.prediction_info(y_predict4, class_to_name_dict)\n",
    "print()\n",
    "\n",
    "print('Test 5:')\n",
    "nc.Classifier.prediction_info(y_predict5, class_to_name_dict)\n",
    "print() "
   ],
   "metadata": {
    "collapsed": false,
    "pycharm": {
     "name": "#%%\n",
     "is_executing": false
    }
   }
  },
  {
   "cell_type": "code",
   "execution_count": null,
   "outputs": [],
   "source": [
    "\n",
    "\n"
   ],
   "metadata": {
    "collapsed": false,
    "pycharm": {
     "name": "#%%\n"
    }
   }
  }
 ],
 "metadata": {
  "kernelspec": {
   "display_name": "Python 3",
   "language": "python",
   "name": "python3"
  },
  "language_info": {
   "codemirror_mode": {
    "name": "ipython",
    "version": 2
   },
   "file_extension": ".py",
   "mimetype": "text/x-python",
   "name": "python",
   "nbconvert_exporter": "python",
   "pygments_lexer": "ipython2",
   "version": "2.7.6"
  },
  "pycharm": {
   "stem_cell": {
    "cell_type": "raw",
    "source": [],
    "metadata": {
     "collapsed": false
    }
   }
  }
 },
 "nbformat": 4,
 "nbformat_minor": 0
}