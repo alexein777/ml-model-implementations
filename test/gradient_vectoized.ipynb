{
 "cells": [
  {
   "cell_type": "code",
   "execution_count": 1,
   "metadata": {
    "collapsed": true,
    "pycharm": {
     "is_executing": false
    }
   },
   "outputs": [],
   "source": [
    "import numpy as np\n",
    "from neural_implementation import neural_classification as nc\n",
    "import time"
   ]
  },
  {
   "cell_type": "code",
   "execution_count": 7,
   "outputs": [],
   "source": [
    "X = np.random.random((1000, 100))\n",
    "y = np.random.randint(0, 2, (1000, 1))"
   ],
   "metadata": {
    "collapsed": false,
    "pycharm": {
     "name": "#%%\n",
     "is_executing": false
    }
   }
  },
  {
   "cell_type": "code",
   "execution_count": 8,
   "outputs": [],
   "source": [
    "nn = nc.NeuralNetwork(100-1, [1000], 1)\n",
    "lambda_param = 0.5\n",
    "N = X.shape[0]"
   ],
   "metadata": {
    "collapsed": false,
    "pycharm": {
     "name": "#%%\n",
     "is_executing": false
    }
   }
  },
  {
   "cell_type": "code",
   "execution_count": 11,
   "outputs": [
    {
     "name": "stdout",
     "text": [
      "Backpropagation v1:\nLoss = 0.7807935686383134\nGradient = [ 7.08714443e-05  2.99580575e-02  4.37566812e-02 ...  2.69011995e-02\n -2.63806037e-02 -4.25861400e-03]\nTime: 85.33288073539734 s\n\n"
     ],
     "output_type": "stream"
    }
   ],
   "source": [
    "t1 = time.time()\n",
    "for i in range(100):\n",
    "    loss1, gradient1 = nn.backpropagation_depr(X, y, lambda_param)\n",
    "t2 = time.time()\n",
    "\n",
    "print('Backpropagation v1:')\n",
    "print(f'Loss = {loss1}')\n",
    "print(f'Gradient = {gradient1}')\n",
    "print(f'Time: {t2 - t1} s')\n",
    "print()"
   ],
   "metadata": {
    "collapsed": false,
    "pycharm": {
     "name": "#%%\n",
     "is_executing": false
    }
   }
  },
  {
   "cell_type": "code",
   "execution_count": 12,
   "outputs": [
    {
     "name": "stdout",
     "text": [
      "Backpropagation v2:\nLoss = 0.7807935686383135\nGradient = [ 7.08714443e-05  2.99580575e-02  4.37566812e-02 ...  2.69011995e-02\n -2.63806037e-02 -4.25861400e-03]\nTime: 47.29170489311218 s\n\n"
     ],
     "output_type": "stream"
    }
   ],
   "source": [
    "t1 = time.time()\n",
    "for i in range(100):\n",
    "    loss2, gradient2 = nn.backpropagation(X, y, lambda_param)\n",
    "t2 = time.time()\n",
    "\n",
    "print('Backpropagation v2:')\n",
    "print(f'Loss = {loss2}')\n",
    "print(f'Gradient = {gradient2}')\n",
    "print(f'Time: {t2 - t1} s')\n",
    "print()"
   ],
   "metadata": {
    "collapsed": false,
    "pycharm": {
     "name": "#%%\n",
     "is_executing": false
    }
   }
  },
  {
   "cell_type": "code",
   "execution_count": null,
   "outputs": [],
   "source": [],
   "metadata": {
    "collapsed": false,
    "pycharm": {
     "name": "#%%\n"
    }
   }
  },
  {
   "cell_type": "code",
   "execution_count": 15,
   "outputs": [
    {
     "name": "stdout",
     "text": [
      "[ 0.05063432  0.02404761  0.02615934  0.03594908 -0.08601708 -0.0603485 ]\n(6,)\n[-6.77626358e-19  0.00000000e+00  0.00000000e+00  1.73472348e-18\n  0.00000000e+00  0.00000000e+00 -6.50521303e-19  0.00000000e+00\n  0.00000000e+00  0.00000000e+00  0.00000000e+00  0.00000000e+00\n  0.00000000e+00  0.00000000e+00  0.00000000e+00  0.00000000e+00\n  0.00000000e+00  0.00000000e+00  5.55111512e-17  0.00000000e+00\n  0.00000000e+00  0.00000000e+00  0.00000000e+00  0.00000000e+00\n  0.00000000e+00  0.00000000e+00  0.00000000e+00  0.00000000e+00\n  0.00000000e+00  0.00000000e+00  0.00000000e+00  0.00000000e+00\n  0.00000000e+00  0.00000000e+00  0.00000000e+00  0.00000000e+00\n  0.00000000e+00  0.00000000e+00  0.00000000e+00  0.00000000e+00\n  0.00000000e+00  0.00000000e+00  0.00000000e+00  0.00000000e+00\n  0.00000000e+00  0.00000000e+00  5.55111512e-17  0.00000000e+00\n  0.00000000e+00  0.00000000e+00  0.00000000e+00  0.00000000e+00\n  0.00000000e+00]\n"
     ],
     "output_type": "stream"
    }
   ],
   "source": [
    "w00 = nn.model[0][:, 0]\n",
    "print(w00)\n",
    "print(w00.shape)\n",
    "\n",
    "\n",
    "print(gradient1 - gradient2)"
   ],
   "metadata": {
    "collapsed": false,
    "pycharm": {
     "name": "#%%\n",
     "is_executing": false
    }
   }
  }
 ],
 "metadata": {
  "kernelspec": {
   "display_name": "Python 3",
   "language": "python",
   "name": "python3"
  },
  "language_info": {
   "codemirror_mode": {
    "name": "ipython",
    "version": 2
   },
   "file_extension": ".py",
   "mimetype": "text/x-python",
   "name": "python",
   "nbconvert_exporter": "python",
   "pygments_lexer": "ipython2",
   "version": "2.7.6"
  },
  "pycharm": {
   "stem_cell": {
    "cell_type": "raw",
    "source": [],
    "metadata": {
     "collapsed": false
    }
   }
  }
 },
 "nbformat": 4,
 "nbformat_minor": 0
}