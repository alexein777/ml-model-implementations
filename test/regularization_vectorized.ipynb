{
 "cells": [
  {
   "cell_type": "code",
   "execution_count": 7,
   "metadata": {
    "collapsed": true,
    "pycharm": {
     "is_executing": false
    }
   },
   "outputs": [],
   "source": [
    "from neural_implementation import neural_classification as nc\n",
    "import pandas as pd\n",
    "import numpy as np\n",
    "import matplotlib.pyplot as plt\n",
    "from sklearn.model_selection import train_test_split\n",
    "import time"
   ]
  },
  {
   "cell_type": "code",
   "execution_count": 9,
   "outputs": [
    {
     "name": "stdout",
     "text": [
      "reg_v1 = 249969.63516227246, in 318730.2303314209ms\n",
      "reg_v2 = 249969.63516242884, in 1307.074785232544ms\n"
     ],
     "output_type": "stream"
    }
   ],
   "source": [
    "M = 10000\n",
    "\n",
    "model = np.array([\n",
    "    np.random.random((M, M)),\n",
    "    np.random.random((M, M)),\n",
    "    np.random.random((M, M))\n",
    "])\n",
    "\n",
    "N = 100\n",
    "lambda_param = 0.5\n",
    "\n",
    "t1 = time.time()\n",
    "reg1 = nc.regularization(model, N, lambda_param)\n",
    "t2 = time.time()\n",
    "\n",
    "print(f'reg_v1 = {reg1}, in {1000*(t2 - t1)}ms')\n",
    "\n",
    "t1 = time.time()\n",
    "reg2 = nc.regularization_v2(model, N, lambda_param)\n",
    "t2 = time.time()\n",
    "\n",
    "print(f'reg_v2 = {reg2}, in {1000*(t2 - t1)}ms')"
   ],
   "metadata": {
    "collapsed": false,
    "pycharm": {
     "name": "#%%\n",
     "is_executing": false
    }
   }
  }
 ],
 "metadata": {
  "kernelspec": {
   "display_name": "Python 3",
   "language": "python",
   "name": "python3"
  },
  "language_info": {
   "codemirror_mode": {
    "name": "ipython",
    "version": 2
   },
   "file_extension": ".py",
   "mimetype": "text/x-python",
   "name": "python",
   "nbconvert_exporter": "python",
   "pygments_lexer": "ipython2",
   "version": "2.7.6"
  },
  "pycharm": {
   "stem_cell": {
    "cell_type": "raw",
    "source": [],
    "metadata": {
     "collapsed": false
    }
   }
  }
 },
 "nbformat": 4,
 "nbformat_minor": 0
}