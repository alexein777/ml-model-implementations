{
 "cells": [
  {
   "cell_type": "code",
   "execution_count": 2,
   "outputs": [],
   "source": [
    "from neural_implementation import neural_classification as nc\n",
    "import pandas as pd\n",
    "import numpy as np\n",
    "import matplotlib.pyplot as plt\n",
    "from sklearn.model_selection import train_test_split"
   ],
   "metadata": {
    "collapsed": false,
    "pycharm": {
     "name": "#%%\n",
     "is_executing": false
    }
   }
  },
  {
   "cell_type": "code",
   "execution_count": 3,
   "outputs": [
    {
     "name": "stdout",
     "text": [
      "~ Neural network ~\nLayer 1:\n[1. 1. 1.]\nLayer 2:\n[1. 1. 1.]\nLayer 3:\n[1.]\n\nInitial model:\nModel:\nW_0: 0 -> 1, shape: (2, 3)\n[[-1.3408351   1.64673495  3.12928405]\n [ 4.57105168 -3.18201653  3.62280449]]\nW_1: 1 -> 2, shape: (1, 3)\n[[-1.96289633  0.00858482 -4.74573407]]\n"
     ],
     "output_type": "stream"
    }
   ],
   "source": [
    "nn = nc.NeuralNetwork(2, [2], 1)\n",
    "nn.print_network()\n",
    "print()\n",
    "\n",
    "nn.initialize_model(model_init_bounds=(-5, 5))\n",
    "print('Initial model:')\n",
    "nn.print_model()"
   ],
   "metadata": {
    "collapsed": false,
    "pycharm": {
     "name": "#%%\n",
     "is_executing": false
    }
   }
  },
  {
   "cell_type": "code",
   "execution_count": 4,
   "outputs": [
    {
     "name": "stdout",
     "text": [
      "Model:\nW_0: 0 -> 1, shape: (2, 3)\n[[1 3 3]\n [1 2 2]]\nW_1: 1 -> 2, shape: (1, 3)\n[[1 2 4]]\n"
     ],
     "output_type": "stream"
    }
   ],
   "source": [
    "w0 = np.array([\n",
    "    [1, 3, 3],\n",
    "    [1, 2, 2]\n",
    "])\n",
    "\n",
    "w1 = np.array([\n",
    "    [1, 2, 4]\n",
    "])\n",
    "\n",
    "ws = np.array([w0, w1])\n",
    "nn.set_model(ws)\n",
    "\n",
    "nn.print_model()"
   ],
   "metadata": {
    "collapsed": false,
    "pycharm": {
     "name": "#%%\n",
     "is_executing": false
    }
   }
  },
  {
   "cell_type": "code",
   "execution_count": 3,
   "outputs": [
    {
     "name": "stdout",
     "text": [
      "~ Neural network ~\nLayer 1:\n[ 1 -5 -5]\nLayer 2:\n[1.         0.54138115 0.36303673]\nLayer 3:\n[0.49981504]\n"
     ],
     "output_type": "stream"
    }
   ],
   "source": [
    "x = np.array([1, -5, -5])\n",
    "nn.forward_propagation(x)\n",
    "\n",
    "nn.print_network()"
   ],
   "metadata": {
    "collapsed": false,
    "pycharm": {
     "name": "#%%\n",
     "is_executing": false
    }
   }
  },
  {
   "cell_type": "code",
   "execution_count": 4,
   "outputs": [],
   "source": [
    "X = np.vstack([\n",
    "    [1, -5, 5],\n",
    "    [1, 2, 3],\n",
    "    [1, 4, -2],\n",
    "    [1, -5, 0.5],\n",
    "    [1, 1, 2],\n",
    "    [1, -0.5, 0.9],\n",
    "    [1, 4, 1.2],\n",
    "    [1, 0.9, -0.9],\n",
    "    [1, 2, 2],\n",
    "    [1, 3, -2.5]\n",
    "])\n",
    "\n",
    "y = np.vstack([\n",
    "    [0],\n",
    "    [1],\n",
    "    [0],\n",
    "    [1],\n",
    "    [1],\n",
    "    [0],\n",
    "    [1],\n",
    "    [0],\n",
    "    [0],\n",
    "    [1]\n",
    "])"
   ],
   "metadata": {
    "collapsed": false,
    "pycharm": {
     "name": "#%%\n",
     "is_executing": false
    }
   }
  },
  {
   "cell_type": "code",
   "execution_count": 5,
   "outputs": [
    {
     "name": "stdout",
     "text": [
      "Trained model:\nModel:\nW_0: 0 -> 1\n[[-0.08172378 -0.00714743 -0.02895801]\n [-0.08630412  0.01433589  0.02445182]]\nW_1: 1 -> 2\n[[ 0.01240784 -0.08896503  0.06357889]]\n"
     ],
     "output_type": "stream"
    }
   ],
   "source": [
    "clf = nn.fit(X, y)\n",
    "\n",
    "print('Trained model:')\n",
    "clf.print_model()"
   ],
   "metadata": {
    "collapsed": false,
    "pycharm": {
     "name": "#%%\n",
     "is_executing": false
    }
   }
  },
  {
   "cell_type": "code",
   "execution_count": 10,
   "outputs": [
    {
     "name": "stdout",
     "text": [
      "[1. 3. 3. 1. 2. 2. 1. 2. 4.]\n[(2, 3), (1, 3)]\n[array([[1., 3., 3.],\n       [1., 2., 2.]]) array([[1., 2., 4.]])]\n"
     ],
     "output_type": "stream"
    },
    {
     "data": {
      "text/plain": "(2,)"
     },
     "metadata": {},
     "output_type": "execute_result",
     "execution_count": 10
    }
   ],
   "source": [
    "un = nc.unroll_matrix_array(nn.model)\n",
    "print(un)\n",
    "\n",
    "sizes = nc.get_matrix_sizes(nn.model)\n",
    "print(sizes)\n",
    "\n",
    "ro = nc.roll_vec_to_matrix_array(un, nc.get_matrix_sizes(nn.model))\n",
    "print(ro)\n",
    "ro.shape"
   ],
   "metadata": {
    "collapsed": false,
    "pycharm": {
     "name": "#%%\n",
     "is_executing": false
    }
   }
  },
  {
   "cell_type": "code",
   "execution_count": 12,
   "outputs": [
    {
     "name": "stdout",
     "text": [
      "[ 1  2  3  5 -1  5  4 -4  2]\n"
     ],
     "output_type": "stream"
    }
   ],
   "source": [
    "A = np.array([\n",
    "    [1, 2, 3],\n",
    "    [5, -1, 5],\n",
    "    [4, -4, 2]\n",
    "])\n",
    "\n",
    "print(A.ravel())\n"
   ],
   "metadata": {
    "collapsed": false,
    "pycharm": {
     "name": "#%%\n",
     "is_executing": false
    }
   }
  },
  {
   "cell_type": "code",
   "execution_count": 4,
   "outputs": [
    {
     "name": "stdout",
     "text": [
      "[[1 2]\n [3 4]\n [5 6]\n [7 8]]\n"
     ],
     "output_type": "stream"
    }
   ],
   "source": [
    "x = np.array([1, 2, 3, 4, 5, 6, 7, 8])\n",
    "\n",
    "print(x.reshape(4, 2))\n"
   ],
   "metadata": {
    "collapsed": false,
    "pycharm": {
     "name": "#%%\n",
     "is_executing": false
    }
   }
  }
 ],
 "metadata": {
  "kernelspec": {
   "display_name": "Python 3",
   "language": "python",
   "name": "python3"
  },
  "language_info": {
   "codemirror_mode": {
    "name": "ipython",
    "version": 2
   },
   "file_extension": ".py",
   "mimetype": "text/x-python",
   "name": "python",
   "nbconvert_exporter": "python",
   "pygments_lexer": "ipython2",
   "version": "2.7.6"
  },
  "pycharm": {
   "stem_cell": {
    "cell_type": "raw",
    "source": [],
    "metadata": {
     "collapsed": false
    }
   }
  }
 },
 "nbformat": 4,
 "nbformat_minor": 0
}