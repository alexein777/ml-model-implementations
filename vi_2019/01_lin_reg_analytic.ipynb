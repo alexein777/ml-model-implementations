{
 "cells": [
  {
   "cell_type": "code",
   "execution_count": 19,
   "metadata": {},
   "outputs": [],
   "source": [
    "import numpy as np\n",
    "import matplotlib.pyplot as plt"
   ]
  },
  {
   "cell_type": "code",
   "execution_count": 20,
   "metadata": {},
   "outputs": [],
   "source": [
    "def show_model(model):\n",
    "    # model = w\n",
    "    print(f'f(height) = {model[0]} + {model[1]}*height')"
   ]
  },
  {
   "cell_type": "code",
   "execution_count": 5,
   "metadata": {},
   "outputs": [
    {
     "name": "stdout",
     "output_type": "stream",
     "text": [
      "Broj instanci: 10\n"
     ]
    }
   ],
   "source": [
    "# Zadatak: Predvidjanje tezine na osnovu visine\n",
    "height = np.array([4.0, 4.5, 5.0, 5.2, 5.4, 5.8, 6.1, 6.2, 6.4, 6.8])\n",
    "weight = np.array([42, 44, 49, 55, 53, 58, 60, 64, 66, 69])\n",
    "\n",
    "N = height.shape[0]\n",
    "print(f'Broj instanci: {N}')"
   ]
  },
  {
   "cell_type": "code",
   "execution_count": 10,
   "metadata": {},
   "outputs": [
    {
     "name": "stdout",
     "output_type": "stream",
     "text": [
      "[[1.  4. ]\n",
      " [1.  4.5]\n",
      " [1.  5. ]\n",
      " [1.  5.2]\n",
      " [1.  5.4]\n",
      " [1.  5.8]\n",
      " [1.  6.1]\n",
      " [1.  6.2]\n",
      " [1.  6.4]\n",
      " [1.  6.8]]\n"
     ]
    }
   ],
   "source": [
    "y = weight\n",
    "X = np.ones((N, 2))\n",
    "X[:, 1] = height\n",
    "print(X)"
   ]
  },
  {
   "cell_type": "code",
   "execution_count": 17,
   "metadata": {},
   "outputs": [
    {
     "name": "stdout",
     "output_type": "stream",
     "text": [
      "f(height) = -0.47266514806268844 + 10.193621867881419*height\n"
     ]
    }
   ],
   "source": [
    "X_T = X.transpose()\n",
    "w = np.linalg.inv(X_T.dot(X)).dot(X_T).dot(y)\n",
    "\n",
    "show_model(w)"
   ]
  },
  {
   "cell_type": "code",
   "execution_count": 22,
   "metadata": {},
   "outputs": [],
   "source": [
    "x0 = height[0]\n",
    "x1 = height[-1]\n",
    "y0 = w[0] + w[1] * x0\n",
    "\n",
    "y1 = w[0] + w[1] * x1"
   ]
  },
  {
   "cell_type": "code",
   "execution_count": 27,
   "metadata": {},
   "outputs": [
    {
     "data": {
      "image/png": "[encoded data removed]",
      "text/plain": [
       "<Figure size 432x288 with 1 Axes>"
      ]
     },
     "metadata": {
      "needs_background": "light"
     },
     "output_type": "display_data"
    }
   ],
   "source": [
    "plt.plot([x0, x1], [y0, y1], color='blue')\n",
    "plt.scatter(height, weight, color='red', marker='x')\n",
    "\n",
    "plt.legend(['Model dobijen linearnom regresijom', 'Pravi podaci'])\n",
    "\n",
    "plt.show()"
   ]
  }
 ],
 "metadata": {
  "kernelspec": {
   "display_name": "Python 3",
   "language": "python",
   "name": "python3"
  },
  "language_info": {
   "codemirror_mode": {
    "name": "ipython",
    "version": 3
   },
   "file_extension": ".py",
   "mimetype": "text/x-python",
   "name": "python",
   "nbconvert_exporter": "python",
   "pygments_lexer": "ipython3",
   "version": "3.6.8"
  }
 },
 "nbformat": 4,
 "nbformat_minor": 2
}
