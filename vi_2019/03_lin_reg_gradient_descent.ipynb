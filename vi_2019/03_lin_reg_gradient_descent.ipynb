{
 "cells": [
  {
   "cell_type": "code",
   "execution_count": 3,
   "metadata": {},
   "outputs": [],
   "source": [
    "import matplotlib.pyplot as plt\n",
    "import numpy as np"
   ]
  },
  {
   "cell_type": "code",
   "execution_count": 4,
   "metadata": {},
   "outputs": [],
   "source": [
    "def loss_function(X, y, w):\n",
    "    N = y.shape[0]\n",
    "    y_predict = X.dot(w)\n",
    "    diff = y_predict - y\n",
    "    \n",
    "    gradient = np.zeros(w.shape[0])\n",
    "    gradient = 1/N * (X.transpose().dot(diff))\n",
    "    \n",
    "    loss = 1/(2*N) * (np.sum(diff ** 2))\n",
    "    \n",
    "    return loss, gradient"
   ]
  },
  {
   "cell_type": "code",
   "execution_count": 5,
   "metadata": {},
   "outputs": [],
   "source": [
    "def gradient_descent(X, y, w, num_iter, alpha):\n",
    "    loss_history = np.zeros((num_iter, 1))\n",
    "    \n",
    "    for i in range(num_iter):\n",
    "        loss, gradient = loss_function(X, y, w)\n",
    "        w = w - alpha * gradient\n",
    "        \n",
    "        loss_history[i] = loss\n",
    "        print(f'Iteration {i}/{num_iter}: Loss = {loss}')\n",
    "        \n",
    "    return w, loss_history"
   ]
  },
  {
   "cell_type": "code",
   "execution_count": 6,
   "metadata": {},
   "outputs": [],
   "source": [
    "def show_model(w):\n",
    "    print(f'f_w = {w[0][0]} + {w[1][0]}*height')"
   ]
  },
  {
   "cell_type": "code",
   "execution_count": 7,
   "metadata": {},
   "outputs": [],
   "source": [
    "def test_primer_1():\n",
    "    height = np.array([4, 4.5, 5, 5.2, 5.4, 5.8, 6.1, 6.2, 6.4, 6.8])\n",
    "    weight = np.array([42, 44, 49, 55, 53, 58, 60, 64, 66, 69])\n",
    "    \n",
    "    N = weight.shape[0]\n",
    "    y = weight.reshape(-1 ,1)\n",
    "    X = np.ones((N, 2))\n",
    "    X[:, 1] = height\n",
    "    \n",
    "    return X, y"
   ]
  },
  {
   "cell_type": "code",
   "execution_count": 8,
   "metadata": {},
   "outputs": [],
   "source": [
    "def test_primer_2():\n",
    "    height = np.linspace(1, 10)\n",
    "    N = height.shape[0]\n",
    "\n",
    "    weight = height*3 + 2*np.random.normal(size=(1, N))\n",
    "    X = np.ones((N, 2))\n",
    "    X[:, 1] = height\n",
    "    y = weight.reshape(-1, 1)\n",
    "    \n",
    "    return X, y"
   ]
  },
  {
   "cell_type": "code",
   "execution_count": 9,
   "metadata": {},
   "outputs": [
    {
     "name": "stdout",
     "output_type": "stream",
     "text": [
      "Iteration 0/40: Loss = 165.05888142363517\n",
      "Iteration 1/40: Loss = 64.59460061137953\n",
      "Iteration 2/40: Loss = 26.08947569016509\n",
      "Iteration 3/40: Loss = 11.33153298196746\n",
      "Iteration 4/40: Loss = 5.675209852925222\n",
      "Iteration 5/40: Loss = 3.5072787142935598\n",
      "Iteration 6/40: Loss = 2.676349090088485\n",
      "Iteration 7/40: Loss = 2.35785420333991\n",
      "Iteration 8/40: Loss = 2.2357610615756283\n",
      "Iteration 9/40: Loss = 2.1889432075088293\n",
      "Iteration 10/40: Loss = 2.1709763149920414\n",
      "Iteration 11/40: Loss = 2.1640672599644137\n",
      "Iteration 12/40: Loss = 2.1613964437582234\n",
      "Iteration 13/40: Loss = 2.160350107866051\n",
      "Iteration 14/40: Loss = 2.159926472686811\n",
      "Iteration 15/40: Loss = 2.159741584285241\n",
      "Iteration 16/40: Loss = 2.159648283731882\n",
      "Iteration 17/40: Loss = 2.1595901688888834\n",
      "Iteration 18/40: Loss = 2.159545622116317\n",
      "Iteration 19/40: Loss = 2.1595063576840428\n",
      "Iteration 20/40: Loss = 2.159469199604858\n",
      "Iteration 21/40: Loss = 2.159432930311801\n",
      "Iteration 22/40: Loss = 2.159397082845803\n",
      "Iteration 23/40: Loss = 2.1593614779355454\n",
      "Iteration 24/40: Loss = 2.1593260465733555\n",
      "Iteration 25/40: Loss = 2.1592907620135735\n",
      "Iteration 26/40: Loss = 2.1592556137094596\n",
      "Iteration 27/40: Loss = 2.1592205973239538\n",
      "Iteration 28/40: Loss = 2.159185710901074\n",
      "Iteration 29/40: Loss = 2.1591509533985205\n",
      "Iteration 30/40: Loss = 2.1591163241252587\n",
      "Iteration 31/40: Loss = 2.159081822525961\n",
      "Iteration 32/40: Loss = 2.159047448098382\n",
      "Iteration 33/40: Loss = 2.159013200361688\n",
      "Iteration 34/40: Loss = 2.158979078844315\n",
      "Iteration 35/40: Loss = 2.158945083079307\n",
      "Iteration 36/40: Loss = 2.1589112126025336\n",
      "Iteration 37/40: Loss = 2.1588774669519966\n",
      "Iteration 38/40: Loss = 2.158843845667561\n",
      "Iteration 39/40: Loss = 2.158810348290849\n",
      "f_w = 0.4052632906275468 + 2.896455083671807*height\n"
     ]
    }
   ],
   "source": [
    "X, y = test_primer_2()\n",
    "w = np.zeros((2, 1))\n",
    "num_iter = 40\n",
    "alpha = 0.01\n",
    "\n",
    "w, loss_history = gradient_descent(X, y, w, num_iter, alpha)\n",
    "show_model(w)"
   ]
  },
  {
   "cell_type": "code",
   "execution_count": 10,
   "metadata": {},
   "outputs": [
    {
     "data": {
      "text/plain": [
       "<matplotlib.legend.Legend at 0x7f3cfcb54a20>"
      ]
     },
     "execution_count": 10,
     "metadata": {},
     "output_type": "execute_result"
    },
    {
     "data": {
      "image/png": "[encoded data removed]",
      "text/plain": [
       "<Figure size 432x288 with 1 Axes>"
      ]
     },
     "metadata": {
      "needs_background": "light"
     },
     "output_type": "display_data"
    }
   ],
   "source": [
    "y_predict = X.dot(w)\n",
    "plt.plot(X[:, 1], y_predict, color='blue')\n",
    "plt.scatter(X[:, 1], y, color='red', marker='x')\n",
    "\n",
    "plt.legend(['Linear regression model', 'Real data'])"
   ]
  },
  {
   "cell_type": "code",
   "execution_count": 16,
   "metadata": {},
   "outputs": [
    {
     "data": {
      "text/plain": [
       "<matplotlib.legend.Legend at 0x7f3cfca66668>"
      ]
     },
     "execution_count": 16,
     "metadata": {},
     "output_type": "execute_result"
    },
    {
     "data": {
      "image/png": "[encoded data removed]",
      "text/plain": [
       "<Figure size 432x288 with 1 Axes>"
      ]
     },
     "metadata": {
      "needs_background": "light"
     },
     "output_type": "display_data"
    }
   ],
   "source": [
    "plt.plot(np.arange(num_iter), loss_history, color='aqua')\n",
    "plt.legend(['Loss function'])"
   ]
  }
 ],
 "metadata": {
  "kernelspec": {
   "display_name": "Python 3",
   "language": "python",
   "name": "python3"
  },
  "language_info": {
   "codemirror_mode": {
    "name": "ipython",
    "version": 3
   },
   "file_extension": ".py",
   "mimetype": "text/x-python",
   "name": "python",
   "nbconvert_exporter": "python",
   "pygments_lexer": "ipython3",
   "version": "3.6.8"
  }
 },
 "nbformat": 4,
 "nbformat_minor": 2
}
