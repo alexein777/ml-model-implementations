{
 "cells": [
  {
   "cell_type": "code",
   "execution_count": 1,
   "metadata": {
    "pycharm": {
     "is_executing": false
    }
   },
   "outputs": [],
   "source": [
    "import matplotlib.pyplot as plt\n",
    "import numpy as np"
   ]
  },
  {
   "cell_type": "code",
   "execution_count": 2,
   "metadata": {
    "pycharm": {
     "is_executing": false
    }
   },
   "outputs": [],
   "source": [
    "def loss_function(X, y, w):\n",
    "    N = y.shape[0]\n",
    "    y_predict = X.dot(w)\n",
    "    diff = y_predict - y\n",
    "    \n",
    "    gradient = np.zeros(w.shape[0])\n",
    "    gradient = 1/N * (X.transpose().dot(diff))\n",
    "    \n",
    "    loss = 1/(2*N) * (np.sum(diff ** 2))\n",
    "    \n",
    "    return loss, gradient"
   ]
  },
  {
   "cell_type": "code",
   "execution_count": 3,
   "metadata": {
    "pycharm": {
     "is_executing": false
    }
   },
   "outputs": [],
   "source": [
    "def gradient_descent(X, y, w, num_iter, alpha):\n",
    "    loss_history = np.zeros((num_iter, 1))\n",
    "    \n",
    "    for i in range(num_iter):\n",
    "        loss, gradient = loss_function(X, y, w)\n",
    "        w = w - alpha * gradient\n",
    "        \n",
    "        loss_history[i] = loss\n",
    "        print(f'Iteration {i}/{num_iter}: Loss = {loss}')\n",
    "        \n",
    "    return w, loss_history"
   ]
  },
  {
   "cell_type": "code",
   "execution_count": null,
   "metadata": {
    "pycharm": {
     "is_executing": true
    }
   },
   "outputs": [],
   "source": [
    "def show_model(w):\n",
    "    print(f'f_w = {w[0][0]} + {w[1][0]}*height')"
   ]
  },
  {
   "cell_type": "code",
   "execution_count": 5,
   "metadata": {
    "pycharm": {
     "is_executing": false
    }
   },
   "outputs": [],
   "source": [
    "def test_primer_1():\n",
    "    height = np.array([4, 4.5, 5, 5.2, 5.4, 5.8, 6.1, 6.2, 6.4, 6.8])\n",
    "    weight = np.array([42, 44, 49, 55, 53, 58, 60, 64, 66, 69])\n",
    "    \n",
    "    N = weight.shape[0]\n",
    "    y = weight.reshape(-1 ,1)\n",
    "    X = np.ones((N, 2))\n",
    "    X[:, 1] = height\n",
    "    \n",
    "    return X, y"
   ]
  },
  {
   "cell_type": "code",
   "execution_count": 6,
   "metadata": {
    "pycharm": {
     "is_executing": false
    }
   },
   "outputs": [],
   "source": [
    "def test_primer_2():\n",
    "    height = np.linspace(1, 10)\n",
    "    N = height.shape[0]\n",
    "\n",
    "    weight = height*3 + 2*np.random.normal(size=(1, N))\n",
    "    X = np.ones((N, 2))\n",
    "    X[:, 1] = height\n",
    "    y = weight.reshape(-1, 1)\n",
    "    \n",
    "    return X, y"
   ]
  },
  {
   "cell_type": "code",
   "execution_count": 11,
   "metadata": {
    "pycharm": {
     "is_executing": false
    }
   },
   "outputs": [
    {
     "name": "stdout",
     "text": [
      "Iteration 0/40: Loss = 170.8604030063411\nIteration 1/40: Loss = 67.09351498214653\nIteration 2/40: Loss = 27.322604887985005\nIteration 3/40: Loss = 12.079532922589431\nIteration 4/40: Loss = 6.2372837067942735\nIteration 5/40: Loss = 3.9981025088560145\nIteration 6/40: Loss = 3.1398748475907166\nIteration 7/40: Loss = 2.8109274466015863\nIteration 8/40: Loss = 2.6848381633232594\nIteration 9/40: Loss = 2.636498674877107\nIteration 10/40: Loss = 2.617958519427936\nIteration 11/40: Loss = 2.610839648649689\nIteration 12/40: Loss = 2.6080982791759566\nIteration 13/40: Loss = 2.6070347290153437\nIteration 14/40: Loss = 2.6066142866732713\nIteration 15/40: Loss = 2.6064403764898625\nIteration 16/40: Loss = 2.6063610021205945\nIteration 17/40: Loss = 2.6063179075165057\nIteration 18/40: Loss = 2.6062887646182653\nIteration 19/40: Loss = 2.606265015543695\nIteration 20/40: Loss = 2.606243380128486\nIteration 21/40: Loss = 2.606222601008101\nIteration 22/40: Loss = 2.60620219610025\nIteration 23/40: Loss = 2.606181980466906\nIteration 24/40: Loss = 2.606161883057609\nIteration 25/40: Loss = 2.6061418764723876\nIteration 26/40: Loss = 2.6061219500418846\nIteration 27/40: Loss = 2.6061020995097226\nIteration 28/40: Loss = 2.606082323078061\nIteration 29/40: Loss = 2.606062619891953\nIteration 30/40: Loss = 2.6060429894584503\nIteration 31/40: Loss = 2.6060234314239596\nIteration 32/40: Loss = 2.6060039454889052\nIteration 33/40: Loss = 2.6059845313750105\nIteration 34/40: Loss = 2.605965188812779\nIteration 35/40: Loss = 2.605945917536668\nIteration 36/40: Loss = 2.6059267172832534\nIteration 37/40: Loss = 2.6059075877905182\nIteration 38/40: Loss = 2.6058885287975775\nIteration 39/40: Loss = 2.60586954004457\nf_w = 0.41811635199177605 + 2.9427524765645905*height\n"
     ],
     "output_type": "stream"
    }
   ],
   "source": [
    "X, y = test_primer_2()\n",
    "w = np.zeros((2, 1))\n",
    "num_iter = 40\n",
    "alpha = 0.01\n",
    "\n",
    "w, loss_history = gradient_descent(X, y, w, num_iter, alpha)\n",
    "show_model(w)"
   ]
  },
  {
   "cell_type": "code",
   "execution_count": 8,
   "metadata": {
    "pycharm": {
     "is_executing": false
    }
   },
   "outputs": [
    {
     "data": {
      "text/plain": "<matplotlib.legend.Legend at 0x895b7b8>"
     },
     "metadata": {},
     "output_type": "execute_result",
     "execution_count": 8
    },
    {
     "data": {
      "text/plain": "<Figure size 432x288 with 1 Axes>",
      "image/png": "[encoded data removed]"
     },
     "metadata": {
      "needs_background": "light"
     },
     "output_type": "display_data"
    }
   ],
   "source": [
    "y_predict = X.dot(w)\n",
    "plt.plot(X[:, 1], y_predict, color='blue')\n",
    "plt.scatter(X[:, 1], y, color='red', marker='x')\n",
    "\n",
    "plt.legend(['Linear regression model', 'Real data'])"
   ]
  },
  {
   "cell_type": "code",
   "execution_count": 9,
   "metadata": {
    "pycharm": {
     "is_executing": false
    }
   },
   "outputs": [
    {
     "data": {
      "text/plain": "<matplotlib.legend.Legend at 0x90f3a20>"
     },
     "metadata": {},
     "output_type": "execute_result",
     "execution_count": 9
    },
    {
     "data": {
      "text/plain": "<Figure size 432x288 with 1 Axes>",
      "image/png": "[encoded data removed]"
     },
     "metadata": {
      "needs_background": "light"
     },
     "output_type": "display_data"
    }
   ],
   "source": [
    "plt.plot(np.arange(num_iter), loss_history, color='aqua')\n",
    "plt.legend(['Loss function'])"
   ]
  },
  {
   "cell_type": "code",
   "execution_count": null,
   "outputs": [],
   "source": [
    "\n"
   ],
   "metadata": {
    "collapsed": false,
    "pycharm": {
     "name": "#%%\n"
    }
   }
  }
 ],
 "metadata": {
  "kernelspec": {
   "display_name": "Python 3",
   "language": "python",
   "name": "python3"
  },
  "language_info": {
   "codemirror_mode": {
    "name": "ipython",
    "version": 3
   },
   "file_extension": ".py",
   "mimetype": "text/x-python",
   "name": "python",
   "nbconvert_exporter": "python",
   "pygments_lexer": "ipython3",
   "version": "3.6.8"
  },
  "pycharm": {
   "stem_cell": {
    "cell_type": "raw",
    "source": [],
    "metadata": {
     "collapsed": false
    }
   }
  }
 },
 "nbformat": 4,
 "nbformat_minor": 2
}