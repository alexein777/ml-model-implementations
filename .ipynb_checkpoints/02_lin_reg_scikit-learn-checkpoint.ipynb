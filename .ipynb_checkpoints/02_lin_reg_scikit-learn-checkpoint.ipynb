{
 "cells": [
  {
   "cell_type": "code",
   "execution_count": 1,
   "metadata": {},
   "outputs": [],
   "source": [
    "from sklearn import linear_model\n",
    "import matplotlib.pyplot as plt"
   ]
  },
  {
   "cell_type": "code",
   "execution_count": 2,
   "metadata": {},
   "outputs": [],
   "source": [
    "def show_model(model):\n",
    "    print(f'f(height) = {model.intercept_} + {model.coef_[0]}*height')"
   ]
  },
  {
   "cell_type": "code",
   "execution_count": 5,
   "metadata": {},
   "outputs": [
    {
     "name": "stdout",
     "output_type": "stream",
     "text": [
      "height weight\n",
      "  4.0 -> 42\n",
      "  4.5 -> 44\n",
      "  5.0 -> 49\n",
      "  5.2 -> 55\n",
      "  5.4 -> 53\n",
      "  5.8 -> 58\n",
      "  6.1 -> 60\n",
      "  6.2 -> 64\n",
      "  6.4 -> 66\n",
      "  6.8 -> 69\n"
     ]
    }
   ],
   "source": [
    "height = [[4.0],[4.5],[5.0],[5.2],[5.4],[5.8],[6.1],[6.2],[6.4],[6.8]]\n",
    "weight = [42, 44 ,49, 55, 53, 58, 60, 64, 66, 69]\n",
    "\n",
    "print('height weight')\n",
    "for (h, w) in zip(height, weight):\n",
    "    print(f'  {h[0]} -> {w}')"
   ]
  },
  {
   "cell_type": "code",
   "execution_count": 7,
   "metadata": {},
   "outputs": [
    {
     "data": {
      "text/plain": [
       "LinearRegression(copy_X=True, fit_intercept=True, n_jobs=None, normalize=False)"
      ]
     },
     "execution_count": 7,
     "metadata": {},
     "output_type": "execute_result"
    }
   ],
   "source": [
    "lin_reg = linear_model.LinearRegression()\n",
    "lin_reg.fit(height, weight) # Prvo X, pa y"
   ]
  },
  {
   "cell_type": "code",
   "execution_count": 8,
   "metadata": {},
   "outputs": [
    {
     "name": "stdout",
     "output_type": "stream",
     "text": [
      "f(height) = -0.4726651480637756 + 10.193621867881548*height\n"
     ]
    }
   ],
   "source": [
    "show_model(lin_reg)"
   ]
  },
  {
   "cell_type": "code",
   "execution_count": 12,
   "metadata": {},
   "outputs": [
    {
     "data": {
      "text/plain": [
       "<matplotlib.legend.Legend at 0x7fb98dead3c8>"
      ]
     },
     "execution_count": 12,
     "metadata": {},
     "output_type": "execute_result"
    },
    {
     "data": {
      "image/png": "[encoded data removed]",
      "text/plain": [
       "<Figure size 432x288 with 1 Axes>"
      ]
     },
     "metadata": {
      "needs_background": "light"
     },
     "output_type": "display_data"
    }
   ],
   "source": [
    "weight_predict = [lin_reg.intercept_ + lin_reg.coef_ * h for h in height]\n",
    "\n",
    "plt.plot(height, weight_predict, color='cyan')\n",
    "plt.scatter(height, weight, color='orange', marker='^')\n",
    "\n",
    "plt.legend(['Model dobijen linearnom regresijom', 'Stvarni podaci'])"
   ]
  }
 ],
 "metadata": {
  "kernelspec": {
   "display_name": "Python 3",
   "language": "python",
   "name": "python3"
  },
  "language_info": {
   "codemirror_mode": {
    "name": "ipython",
    "version": 3
   },
   "file_extension": ".py",
   "mimetype": "text/x-python",
   "name": "python",
   "nbconvert_exporter": "python",
   "pygments_lexer": "ipython3",
   "version": "3.6.8"
  }
 },
 "nbformat": 4,
 "nbformat_minor": 2
}
