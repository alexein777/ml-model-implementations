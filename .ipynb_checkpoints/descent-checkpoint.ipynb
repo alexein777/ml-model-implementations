{
 "cells": [
  {
   "cell_type": "code",
   "execution_count": 1,
   "metadata": {},
   "outputs": [],
   "source": [
    "import matplotlib.pyplot as plt\n",
    "import numpy as np"
   ]
  },
  {
   "cell_type": "code",
   "execution_count": 2,
   "metadata": {},
   "outputs": [],
   "source": [
    "def show_model(model):\n",
    "    print(f'f_w = {model[0][0]} + {model[0][1]}*height')"
   ]
  },
  {
   "cell_type": "code",
   "execution_count": 3,
   "metadata": {},
   "outputs": [],
   "source": [
    "def loss_function(X, y, w):\n",
    "    N = y.shape[0]\n",
    "    y_predict = X.dot(w)\n",
    "    diff = y_predict - y\n",
    "    \n",
    "    gradient = np.zeros(w.shape[0])\n",
    "    gradient = 1/N * (X.transpose().dot(diff))\n",
    "    \n",
    "    loss = 1/(2*N) * (np.sum(diff**2))\n",
    "    \n",
    "    return loss, gradient"
   ]
  },
  {
   "cell_type": "code",
   "execution_count": 5,
   "metadata": {},
   "outputs": [],
   "source": [
    "def gradient_descent(X, y, w, num_iter, alpha, eps=None):\n",
    "    loss_history = np.zeros((num_iter, 1))\n",
    "    \n",
    "    for i in range(num_iter):\n",
    "        loss, gradient = loss_function(X, y, w)\n",
    "        w = w - alpha * gradient\n",
    "        \n",
    "        loss_history[i] = loss\n",
    "        print(f'Iteration {i+1}/{num_iter}: Loss = {loss}')\n",
    "        \n",
    "        if eps != None and i > 0:\n",
    "            if abs(loss - loss_history[i-1]) <= eps:\n",
    "                break\n",
    "                \n",
    "    return w, loss_history"
   ]
  },
  {
   "cell_type": "code",
   "execution_count": 18,
   "metadata": {},
   "outputs": [
    {
     "name": "stdout",
     "output_type": "stream",
     "text": [
      "Iteration 1/300: Loss = 71.53633734507119\n",
      "Iteration 2/300: Loss = 29.214606883073593\n",
      "Iteration 3/300: Loss = 12.993887436867807\n",
      "Iteration 4/300: Loss = 6.776943126835514\n",
      "Iteration 5/300: Loss = 4.394161299876637\n",
      "Iteration 6/300: Loss = 3.4809049105705294\n",
      "Iteration 7/300: Loss = 3.130875837597149\n",
      "Iteration 8/300: Loss = 2.9967157891730807\n",
      "Iteration 9/300: Loss = 2.945292212044984\n",
      "Iteration 10/300: Loss = 2.925579185236682\n",
      "Iteration 11/300: Loss = 2.918019924534831\n",
      "Iteration 12/300: Loss = 2.915118870759222\n",
      "Iteration 13/300: Loss = 2.9140031892231755\n",
      "Iteration 14/300: Loss = 2.9135718040527134\n",
      "Iteration 15/300: Loss = 2.9134027041321673\n",
      "Iteration 16/300: Loss = 2.9133341445530325\n"
     ]
    }
   ],
   "source": [
    "height = np.linspace(1, 10)\n",
    "weight = 2*height + 2.5*np.random.normal(size=(1, N))\n",
    "N = height.shape[0]\n",
    "\n",
    "X = np.ones((N, 2))\n",
    "X[:, 1] = height\n",
    "y = weight.reshape(-1, 1)\n",
    "\n",
    "w = np.zeros((2, 1))\n",
    "num_iter = 300\n",
    "alpha = 0.01\n",
    "eps = 10e-5\n",
    "w, loss_history = gradient_descent(X, y, w, num_iter, alpha, eps)"
   ]
  },
  {
   "cell_type": "code",
   "execution_count": 19,
   "metadata": {},
   "outputs": [
    {
     "data": {
      "text/plain": [
       "<matplotlib.legend.Legend at 0x7f5e91d6a358>"
      ]
     },
     "execution_count": 19,
     "metadata": {},
     "output_type": "execute_result"
    },
    {
     "data": {
      "image/png": "[encoded data removed]",
      "text/plain": [
       "<Figure size 432x288 with 1 Axes>"
      ]
     },
     "metadata": {
      "needs_background": "light"
     },
     "output_type": "display_data"
    }
   ],
   "source": [
    "plt.plot(height, X.dot(w), color='green')\n",
    "plt.scatter(height, weight, color='brown', marker='x')\n",
    "\n",
    "plt.legend(['Linear model', 'Real data'])"
   ]
  }
 ],
 "metadata": {
  "kernelspec": {
   "display_name": "Python 3",
   "language": "python",
   "name": "python3"
  },
  "language_info": {
   "codemirror_mode": {
    "name": "ipython",
    "version": 3
   },
   "file_extension": ".py",
   "mimetype": "text/x-python",
   "name": "python",
   "nbconvert_exporter": "python",
   "pygments_lexer": "ipython3",
   "version": "3.6.8"
  }
 },
 "nbformat": 4,
 "nbformat_minor": 2
}
